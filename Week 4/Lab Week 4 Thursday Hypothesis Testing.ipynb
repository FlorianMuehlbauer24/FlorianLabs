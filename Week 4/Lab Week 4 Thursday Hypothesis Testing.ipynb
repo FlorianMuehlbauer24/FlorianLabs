{
 "cells": [
  {
   "cell_type": "markdown",
   "id": "4c8b0438",
   "metadata": {},
   "source": [
    "Lab | Hypothesis Testing\n",
    "Instructions\n",
    "It is assumed that the mean systolic blood pressure is μ = 120 mm Hg. In the Honolulu Heart Study, a sample of n = 100 people had an average systolic blood pressure of 130.1 mm Hg with a standard deviation of 21.21 mm Hg. Is the group significantly different (with respect to systolic blood pressure!) from the regular population?\n",
    "\n",
    "Set up the hypothesis test.\n",
    "Write down all the steps followed for setting up the test.\n",
    "Calculate the test statistic by hand and also code it in Python. It should be 4.76190. What decision can you make based on this calculated value?"
   ]
  },
  {
   "cell_type": "code",
   "execution_count": 1,
   "id": "5021992d",
   "metadata": {},
   "outputs": [],
   "source": [
    "import numpy as np\n",
    "import pandas as pd\n",
    "import scipy.stats as stats\n",
    "import matplotlib.pyplot as plt\n",
    "import seaborn as sns\n",
    "\n",
    "%matplotlib inline"
   ]
  },
  {
   "cell_type": "markdown",
   "id": "c3e3abec",
   "metadata": {},
   "source": [
    "### Problem Statement"
   ]
  },
  {
   "cell_type": "markdown",
   "id": "907d8d51",
   "metadata": {},
   "source": [
    "Is the group significantly different (with respect to systolic blood pressure!) from the regular population?\n",
    "\n",
    "H0: mu = 120mg Hg\n",
    "Ha: mu != 120mg Hg\n"
   ]
  },
  {
   "cell_type": "markdown",
   "id": "c3ef4a01",
   "metadata": {},
   "source": [
    "<b>  z distribution is a standard normal distribution \n",
    "   "
   ]
  },
  {
   "cell_type": "code",
   "execution_count": 21,
   "id": "4494ba93",
   "metadata": {},
   "outputs": [
    {
     "name": "stdout",
     "output_type": "stream",
     "text": [
      "The z score of our sample is: 4.76\n"
     ]
    }
   ],
   "source": [
    "import math\n",
    "\n",
    "sem = 21.21\n",
    "mean = 130.1\n",
    "mu = 120\n",
    "n = 100\n",
    "\n",
    "z = (mean-mu)/(sem/math.sqrt(n))\n",
    "              \n",
    "            \n",
    "print(\"The z score of our sample is: {:.2f}\".format(z))"
   ]
  },
  {
   "cell_type": "code",
   "execution_count": 26,
   "id": "e995a4d7",
   "metadata": {},
   "outputs": [
    {
     "name": "stdout",
     "output_type": "stream",
     "text": [
      "P-value: 1.9177418890681253e-06\n"
     ]
    }
   ],
   "source": [
    "# Calculate two-tailed p-value\n",
    "from scipy.stats import norm\n",
    "p_value = 2 * (1 - norm.cdf(abs(z)))\n",
    "\n",
    "print(\"P-value:\", p_value)"
   ]
  },
  {
   "cell_type": "code",
   "execution_count": 27,
   "id": "1691b4c6",
   "metadata": {},
   "outputs": [
    {
     "name": "stdout",
     "output_type": "stream",
     "text": [
      "The critical value corresponding to a 0.95 area of a normal distribution is: 1.64\n"
     ]
    }
   ],
   "source": [
    "zc = stats.norm.ppf(1-0.05) # 0.95 is the confidence level.\n",
    "print(\"The critical value corresponding to a 0.95 area of a normal distribution is: {:.2f}\".format(zc))"
   ]
  },
  {
   "cell_type": "markdown",
   "id": "c2725b6e",
   "metadata": {},
   "source": [
    "P-value < confidence level -> H0 cannot be disproved"
   ]
  },
  {
   "cell_type": "code",
   "execution_count": null,
   "id": "eab12cec",
   "metadata": {},
   "outputs": [],
   "source": []
  }
 ],
 "metadata": {
  "kernelspec": {
   "display_name": "Python 3 (ipykernel)",
   "language": "python",
   "name": "python3"
  },
  "language_info": {
   "codemirror_mode": {
    "name": "ipython",
    "version": 3
   },
   "file_extension": ".py",
   "mimetype": "text/x-python",
   "name": "python",
   "nbconvert_exporter": "python",
   "pygments_lexer": "ipython3",
   "version": "3.11.5"
  }
 },
 "nbformat": 4,
 "nbformat_minor": 5
}
