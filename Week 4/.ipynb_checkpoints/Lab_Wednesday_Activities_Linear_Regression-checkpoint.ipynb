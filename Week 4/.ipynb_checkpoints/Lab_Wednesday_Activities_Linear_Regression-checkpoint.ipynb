{
 "cells": [
  {
   "cell_type": "code",
   "execution_count": 25,
   "id": "bf0ae0b8",
   "metadata": {},
   "outputs": [],
   "source": [
    "\n",
    "#Import File\n",
    "import pandas as pd\n",
    "file_path = r'C:\\Users\\flori\\Downloads\\marketing_customer_analysis_clean.csv'\n",
    "\n",
    "df_marketing = pd.read_csv(file_path)"
   ]
  },
  {
   "cell_type": "code",
   "execution_count": 26,
   "id": "038d77ee",
   "metadata": {},
   "outputs": [],
   "source": [
    "# Create Categorical and Numbercial DF\n",
    "\n",
    "categorical_df = df_marketing.select_dtypes(include='object')\n",
    "numericals_df = df_marketing.select_dtypes(include ='number')"
   ]
  },
  {
   "cell_type": "code",
   "execution_count": 27,
   "id": "b6639066",
   "metadata": {},
   "outputs": [],
   "source": [
    "# Create nominal df\n",
    "nominals_df = pd.get_dummies(categorical_df[['state', 'response', 'employmentstatus', 'gender', 'location_code','marital_status', 'policy_type','policy', 'renew_offer_type','sales_channel','vehicle_class', 'vehicle_type']], dtype=int)"
   ]
  },
  {
   "cell_type": "code",
   "execution_count": 40,
   "id": "1a85298c",
   "metadata": {},
   "outputs": [],
   "source": [
    "# Create an empty DataFrame with specified columns\n",
    "ordinals_df = pd.DataFrame(columns=[\"coverage\", \"education\", \"vehicle_size\"])\n",
    "\n",
    "# Transform the columns in ordinals_df based on df_marketing\n",
    "ordinals_df[\"coverage\"] = df_marketing[\"coverage\"].map({'Basic': 0, 'Extended': 1, 'Premium': 2})\n",
    "ordinals_df[\"education\"] = df_marketing[\"education\"].map({'High School or Below':0, 'College': 1, 'Bachelor':2, 'Master':3, 'Doctor':4})\n",
    "ordinals_df[\"vehicle_size\"] = df_marketing[\"vehicle_size\"].map({'Small': 0, 'Medsize': 1, 'Large': 2})"
   ]
  },
  {
   "cell_type": "code",
   "execution_count": null,
   "id": "52f51f1e",
   "metadata": {},
   "outputs": [],
   "source": []
  },
  {
   "cell_type": "markdown",
   "id": "ca7f8984",
   "metadata": {},
   "source": [
    "### Concat final DF"
   ]
  },
  {
   "cell_type": "code",
   "execution_count": 38,
   "id": "3a26d1ae",
   "metadata": {},
   "outputs": [],
   "source": [
    "final_df = pd.concat([ordinals_df,numericals_df,nominals_df], axis=1)"
   ]
  },
  {
   "cell_type": "code",
   "execution_count": 41,
   "id": "a7968cdc",
   "metadata": {},
   "outputs": [
    {
     "data": {
      "text/html": [
       "<div>\n",
       "<style scoped>\n",
       "    .dataframe tbody tr th:only-of-type {\n",
       "        vertical-align: middle;\n",
       "    }\n",
       "\n",
       "    .dataframe tbody tr th {\n",
       "        vertical-align: top;\n",
       "    }\n",
       "\n",
       "    .dataframe thead th {\n",
       "        text-align: right;\n",
       "    }\n",
       "</style>\n",
       "<table border=\"1\" class=\"dataframe\">\n",
       "  <thead>\n",
       "    <tr style=\"text-align: right;\">\n",
       "      <th></th>\n",
       "      <th>coverage</th>\n",
       "      <th>education</th>\n",
       "      <th>vehicle_size</th>\n",
       "      <th>unnamed:_0</th>\n",
       "      <th>customer_lifetime_value</th>\n",
       "      <th>income</th>\n",
       "      <th>monthly_premium_auto</th>\n",
       "      <th>months_since_last_claim</th>\n",
       "      <th>months_since_policy_inception</th>\n",
       "      <th>number_of_open_complaints</th>\n",
       "      <th>...</th>\n",
       "      <th>sales_channel_Branch</th>\n",
       "      <th>sales_channel_Call Center</th>\n",
       "      <th>sales_channel_Web</th>\n",
       "      <th>vehicle_class_Four-Door Car</th>\n",
       "      <th>vehicle_class_Luxury Car</th>\n",
       "      <th>vehicle_class_Luxury SUV</th>\n",
       "      <th>vehicle_class_SUV</th>\n",
       "      <th>vehicle_class_Sports Car</th>\n",
       "      <th>vehicle_class_Two-Door Car</th>\n",
       "      <th>vehicle_type_A</th>\n",
       "    </tr>\n",
       "  </thead>\n",
       "  <tbody>\n",
       "    <tr>\n",
       "      <th>0</th>\n",
       "      <td>0</td>\n",
       "      <td>1.0</td>\n",
       "      <td>1</td>\n",
       "      <td>0</td>\n",
       "      <td>4809.216960</td>\n",
       "      <td>48029</td>\n",
       "      <td>61</td>\n",
       "      <td>7.000000</td>\n",
       "      <td>52</td>\n",
       "      <td>0.000000</td>\n",
       "      <td>...</td>\n",
       "      <td>0</td>\n",
       "      <td>0</td>\n",
       "      <td>0</td>\n",
       "      <td>1</td>\n",
       "      <td>0</td>\n",
       "      <td>0</td>\n",
       "      <td>0</td>\n",
       "      <td>0</td>\n",
       "      <td>0</td>\n",
       "      <td>1</td>\n",
       "    </tr>\n",
       "    <tr>\n",
       "      <th>1</th>\n",
       "      <td>0</td>\n",
       "      <td>1.0</td>\n",
       "      <td>1</td>\n",
       "      <td>1</td>\n",
       "      <td>2228.525238</td>\n",
       "      <td>0</td>\n",
       "      <td>64</td>\n",
       "      <td>3.000000</td>\n",
       "      <td>26</td>\n",
       "      <td>0.000000</td>\n",
       "      <td>...</td>\n",
       "      <td>0</td>\n",
       "      <td>1</td>\n",
       "      <td>0</td>\n",
       "      <td>1</td>\n",
       "      <td>0</td>\n",
       "      <td>0</td>\n",
       "      <td>0</td>\n",
       "      <td>0</td>\n",
       "      <td>0</td>\n",
       "      <td>1</td>\n",
       "    </tr>\n",
       "    <tr>\n",
       "      <th>2</th>\n",
       "      <td>0</td>\n",
       "      <td>2.0</td>\n",
       "      <td>1</td>\n",
       "      <td>2</td>\n",
       "      <td>14947.917300</td>\n",
       "      <td>22139</td>\n",
       "      <td>100</td>\n",
       "      <td>34.000000</td>\n",
       "      <td>31</td>\n",
       "      <td>0.000000</td>\n",
       "      <td>...</td>\n",
       "      <td>0</td>\n",
       "      <td>1</td>\n",
       "      <td>0</td>\n",
       "      <td>0</td>\n",
       "      <td>0</td>\n",
       "      <td>0</td>\n",
       "      <td>1</td>\n",
       "      <td>0</td>\n",
       "      <td>0</td>\n",
       "      <td>1</td>\n",
       "    </tr>\n",
       "    <tr>\n",
       "      <th>3</th>\n",
       "      <td>1</td>\n",
       "      <td>1.0</td>\n",
       "      <td>1</td>\n",
       "      <td>3</td>\n",
       "      <td>22332.439460</td>\n",
       "      <td>49078</td>\n",
       "      <td>97</td>\n",
       "      <td>10.000000</td>\n",
       "      <td>3</td>\n",
       "      <td>0.000000</td>\n",
       "      <td>...</td>\n",
       "      <td>1</td>\n",
       "      <td>0</td>\n",
       "      <td>0</td>\n",
       "      <td>1</td>\n",
       "      <td>0</td>\n",
       "      <td>0</td>\n",
       "      <td>0</td>\n",
       "      <td>0</td>\n",
       "      <td>0</td>\n",
       "      <td>1</td>\n",
       "    </tr>\n",
       "    <tr>\n",
       "      <th>4</th>\n",
       "      <td>2</td>\n",
       "      <td>2.0</td>\n",
       "      <td>1</td>\n",
       "      <td>4</td>\n",
       "      <td>9025.067525</td>\n",
       "      <td>23675</td>\n",
       "      <td>117</td>\n",
       "      <td>15.149071</td>\n",
       "      <td>31</td>\n",
       "      <td>0.384256</td>\n",
       "      <td>...</td>\n",
       "      <td>1</td>\n",
       "      <td>0</td>\n",
       "      <td>0</td>\n",
       "      <td>1</td>\n",
       "      <td>0</td>\n",
       "      <td>0</td>\n",
       "      <td>0</td>\n",
       "      <td>0</td>\n",
       "      <td>0</td>\n",
       "      <td>1</td>\n",
       "    </tr>\n",
       "    <tr>\n",
       "      <th>...</th>\n",
       "      <td>...</td>\n",
       "      <td>...</td>\n",
       "      <td>...</td>\n",
       "      <td>...</td>\n",
       "      <td>...</td>\n",
       "      <td>...</td>\n",
       "      <td>...</td>\n",
       "      <td>...</td>\n",
       "      <td>...</td>\n",
       "      <td>...</td>\n",
       "      <td>...</td>\n",
       "      <td>...</td>\n",
       "      <td>...</td>\n",
       "      <td>...</td>\n",
       "      <td>...</td>\n",
       "      <td>...</td>\n",
       "      <td>...</td>\n",
       "      <td>...</td>\n",
       "      <td>...</td>\n",
       "      <td>...</td>\n",
       "      <td>...</td>\n",
       "    </tr>\n",
       "    <tr>\n",
       "      <th>10905</th>\n",
       "      <td>2</td>\n",
       "      <td>2.0</td>\n",
       "      <td>1</td>\n",
       "      <td>10905</td>\n",
       "      <td>15563.369440</td>\n",
       "      <td>0</td>\n",
       "      <td>253</td>\n",
       "      <td>15.149071</td>\n",
       "      <td>40</td>\n",
       "      <td>0.384256</td>\n",
       "      <td>...</td>\n",
       "      <td>0</td>\n",
       "      <td>0</td>\n",
       "      <td>1</td>\n",
       "      <td>0</td>\n",
       "      <td>1</td>\n",
       "      <td>0</td>\n",
       "      <td>0</td>\n",
       "      <td>0</td>\n",
       "      <td>0</td>\n",
       "      <td>1</td>\n",
       "    </tr>\n",
       "    <tr>\n",
       "      <th>10906</th>\n",
       "      <td>0</td>\n",
       "      <td>1.0</td>\n",
       "      <td>1</td>\n",
       "      <td>10906</td>\n",
       "      <td>5259.444853</td>\n",
       "      <td>61146</td>\n",
       "      <td>65</td>\n",
       "      <td>7.000000</td>\n",
       "      <td>68</td>\n",
       "      <td>0.000000</td>\n",
       "      <td>...</td>\n",
       "      <td>1</td>\n",
       "      <td>0</td>\n",
       "      <td>0</td>\n",
       "      <td>1</td>\n",
       "      <td>0</td>\n",
       "      <td>0</td>\n",
       "      <td>0</td>\n",
       "      <td>0</td>\n",
       "      <td>0</td>\n",
       "      <td>1</td>\n",
       "    </tr>\n",
       "    <tr>\n",
       "      <th>10907</th>\n",
       "      <td>1</td>\n",
       "      <td>2.0</td>\n",
       "      <td>1</td>\n",
       "      <td>10907</td>\n",
       "      <td>23893.304100</td>\n",
       "      <td>39837</td>\n",
       "      <td>201</td>\n",
       "      <td>11.000000</td>\n",
       "      <td>63</td>\n",
       "      <td>0.000000</td>\n",
       "      <td>...</td>\n",
       "      <td>0</td>\n",
       "      <td>0</td>\n",
       "      <td>1</td>\n",
       "      <td>0</td>\n",
       "      <td>0</td>\n",
       "      <td>1</td>\n",
       "      <td>0</td>\n",
       "      <td>0</td>\n",
       "      <td>0</td>\n",
       "      <td>1</td>\n",
       "    </tr>\n",
       "    <tr>\n",
       "      <th>10908</th>\n",
       "      <td>2</td>\n",
       "      <td>1.0</td>\n",
       "      <td>1</td>\n",
       "      <td>10908</td>\n",
       "      <td>11971.977650</td>\n",
       "      <td>64195</td>\n",
       "      <td>158</td>\n",
       "      <td>0.000000</td>\n",
       "      <td>27</td>\n",
       "      <td>4.000000</td>\n",
       "      <td>...</td>\n",
       "      <td>1</td>\n",
       "      <td>0</td>\n",
       "      <td>0</td>\n",
       "      <td>0</td>\n",
       "      <td>0</td>\n",
       "      <td>0</td>\n",
       "      <td>1</td>\n",
       "      <td>0</td>\n",
       "      <td>0</td>\n",
       "      <td>1</td>\n",
       "    </tr>\n",
       "    <tr>\n",
       "      <th>10909</th>\n",
       "      <td>0</td>\n",
       "      <td>2.0</td>\n",
       "      <td>1</td>\n",
       "      <td>10909</td>\n",
       "      <td>6857.519928</td>\n",
       "      <td>0</td>\n",
       "      <td>101</td>\n",
       "      <td>31.000000</td>\n",
       "      <td>1</td>\n",
       "      <td>0.000000</td>\n",
       "      <td>...</td>\n",
       "      <td>0</td>\n",
       "      <td>0</td>\n",
       "      <td>1</td>\n",
       "      <td>0</td>\n",
       "      <td>0</td>\n",
       "      <td>0</td>\n",
       "      <td>1</td>\n",
       "      <td>0</td>\n",
       "      <td>0</td>\n",
       "      <td>1</td>\n",
       "    </tr>\n",
       "  </tbody>\n",
       "</table>\n",
       "<p>10910 rows × 60 columns</p>\n",
       "</div>"
      ],
      "text/plain": [
       "       coverage  education  vehicle_size  unnamed:_0  customer_lifetime_value  \\\n",
       "0             0        1.0             1           0              4809.216960   \n",
       "1             0        1.0             1           1              2228.525238   \n",
       "2             0        2.0             1           2             14947.917300   \n",
       "3             1        1.0             1           3             22332.439460   \n",
       "4             2        2.0             1           4              9025.067525   \n",
       "...         ...        ...           ...         ...                      ...   \n",
       "10905         2        2.0             1       10905             15563.369440   \n",
       "10906         0        1.0             1       10906              5259.444853   \n",
       "10907         1        2.0             1       10907             23893.304100   \n",
       "10908         2        1.0             1       10908             11971.977650   \n",
       "10909         0        2.0             1       10909              6857.519928   \n",
       "\n",
       "       income  monthly_premium_auto  months_since_last_claim  \\\n",
       "0       48029                    61                 7.000000   \n",
       "1           0                    64                 3.000000   \n",
       "2       22139                   100                34.000000   \n",
       "3       49078                    97                10.000000   \n",
       "4       23675                   117                15.149071   \n",
       "...       ...                   ...                      ...   \n",
       "10905       0                   253                15.149071   \n",
       "10906   61146                    65                 7.000000   \n",
       "10907   39837                   201                11.000000   \n",
       "10908   64195                   158                 0.000000   \n",
       "10909       0                   101                31.000000   \n",
       "\n",
       "       months_since_policy_inception  number_of_open_complaints  ...  \\\n",
       "0                                 52                   0.000000  ...   \n",
       "1                                 26                   0.000000  ...   \n",
       "2                                 31                   0.000000  ...   \n",
       "3                                  3                   0.000000  ...   \n",
       "4                                 31                   0.384256  ...   \n",
       "...                              ...                        ...  ...   \n",
       "10905                             40                   0.384256  ...   \n",
       "10906                             68                   0.000000  ...   \n",
       "10907                             63                   0.000000  ...   \n",
       "10908                             27                   4.000000  ...   \n",
       "10909                              1                   0.000000  ...   \n",
       "\n",
       "       sales_channel_Branch  sales_channel_Call Center  sales_channel_Web  \\\n",
       "0                         0                          0                  0   \n",
       "1                         0                          1                  0   \n",
       "2                         0                          1                  0   \n",
       "3                         1                          0                  0   \n",
       "4                         1                          0                  0   \n",
       "...                     ...                        ...                ...   \n",
       "10905                     0                          0                  1   \n",
       "10906                     1                          0                  0   \n",
       "10907                     0                          0                  1   \n",
       "10908                     1                          0                  0   \n",
       "10909                     0                          0                  1   \n",
       "\n",
       "       vehicle_class_Four-Door Car  vehicle_class_Luxury Car  \\\n",
       "0                                1                         0   \n",
       "1                                1                         0   \n",
       "2                                0                         0   \n",
       "3                                1                         0   \n",
       "4                                1                         0   \n",
       "...                            ...                       ...   \n",
       "10905                            0                         1   \n",
       "10906                            1                         0   \n",
       "10907                            0                         0   \n",
       "10908                            0                         0   \n",
       "10909                            0                         0   \n",
       "\n",
       "       vehicle_class_Luxury SUV  vehicle_class_SUV  vehicle_class_Sports Car  \\\n",
       "0                             0                  0                         0   \n",
       "1                             0                  0                         0   \n",
       "2                             0                  1                         0   \n",
       "3                             0                  0                         0   \n",
       "4                             0                  0                         0   \n",
       "...                         ...                ...                       ...   \n",
       "10905                         0                  0                         0   \n",
       "10906                         0                  0                         0   \n",
       "10907                         1                  0                         0   \n",
       "10908                         0                  1                         0   \n",
       "10909                         0                  1                         0   \n",
       "\n",
       "       vehicle_class_Two-Door Car  vehicle_type_A  \n",
       "0                               0               1  \n",
       "1                               0               1  \n",
       "2                               0               1  \n",
       "3                               0               1  \n",
       "4                               0               1  \n",
       "...                           ...             ...  \n",
       "10905                           0               1  \n",
       "10906                           0               1  \n",
       "10907                           0               1  \n",
       "10908                           0               1  \n",
       "10909                           0               1  \n",
       "\n",
       "[10910 rows x 60 columns]"
      ]
     },
     "execution_count": 41,
     "metadata": {},
     "output_type": "execute_result"
    }
   ],
   "source": [
    "final_df"
   ]
  },
  {
   "cell_type": "markdown",
   "id": "a1d32739",
   "metadata": {},
   "source": [
    "### X-Y Split"
   ]
  },
  {
   "cell_type": "code",
   "execution_count": 42,
   "id": "3f4f08c1",
   "metadata": {},
   "outputs": [],
   "source": [
    "# Drop Null Values and Duplicates\n",
    "df_marketing.dropna()\n",
    "df_marketing = df_marketing.drop_duplicates()"
   ]
  },
  {
   "cell_type": "code",
   "execution_count": 43,
   "id": "80a733d2",
   "metadata": {},
   "outputs": [
    {
     "data": {
      "text/plain": [
       "Index(['coverage', 'education', 'vehicle_size', 'unnamed:_0',\n",
       "       'customer_lifetime_value', 'income', 'monthly_premium_auto',\n",
       "       'months_since_last_claim', 'months_since_policy_inception',\n",
       "       'number_of_open_complaints', 'number_of_policies', 'total_claim_amount',\n",
       "       'month', 'state_Arizona', 'state_California', 'state_Nevada',\n",
       "       'state_Oregon', 'state_Washington', 'response_No', 'response_Yes',\n",
       "       'employmentstatus_Disabled', 'employmentstatus_Employed',\n",
       "       'employmentstatus_Medical Leave', 'employmentstatus_Retired',\n",
       "       'employmentstatus_Unemployed', 'gender_F', 'gender_M',\n",
       "       'location_code_Rural', 'location_code_Suburban', 'location_code_Urban',\n",
       "       'marital_status_Divorced', 'marital_status_Married',\n",
       "       'marital_status_Single', 'policy_type_Corporate Auto',\n",
       "       'policy_type_Personal Auto', 'policy_type_Special Auto',\n",
       "       'policy_Corporate L1', 'policy_Corporate L2', 'policy_Corporate L3',\n",
       "       'policy_Personal L1', 'policy_Personal L2', 'policy_Personal L3',\n",
       "       'policy_Special L1', 'policy_Special L2', 'policy_Special L3',\n",
       "       'renew_offer_type_Offer1', 'renew_offer_type_Offer2',\n",
       "       'renew_offer_type_Offer3', 'renew_offer_type_Offer4',\n",
       "       'sales_channel_Agent', 'sales_channel_Branch',\n",
       "       'sales_channel_Call Center', 'sales_channel_Web',\n",
       "       'vehicle_class_Four-Door Car', 'vehicle_class_Luxury Car',\n",
       "       'vehicle_class_Luxury SUV', 'vehicle_class_SUV',\n",
       "       'vehicle_class_Sports Car', 'vehicle_class_Two-Door Car',\n",
       "       'vehicle_type_A'],\n",
       "      dtype='object')"
      ]
     },
     "execution_count": 43,
     "metadata": {},
     "output_type": "execute_result"
    }
   ],
   "source": [
    "final_df.columns"
   ]
  },
  {
   "cell_type": "code",
   "execution_count": 44,
   "id": "c3343134",
   "metadata": {},
   "outputs": [],
   "source": [
    "X = final_df[['vehicle_size', 'customer_lifetime_value', 'income',\n",
    "       'monthly_premium_auto', 'months_since_last_claim',\n",
    "       'months_since_policy_inception', 'number_of_open_complaints',\n",
    "       'number_of_policies', 'month', 'state_Arizona',\n",
    "       'state_California', 'state_Nevada', 'state_Oregon', 'state_Washington',\n",
    "       'response_No', 'response_Yes', 'employmentstatus_Disabled',\n",
    "       'employmentstatus_Employed', 'employmentstatus_Medical Leave',\n",
    "       'employmentstatus_Retired', 'employmentstatus_Unemployed', 'gender_F',\n",
    "       'gender_M', 'location_code_Rural', 'location_code_Suburban',\n",
    "       'location_code_Urban', 'marital_status_Divorced',\n",
    "       'marital_status_Married', 'marital_status_Single',\n",
    "       'policy_type_Corporate Auto', 'policy_type_Personal Auto',\n",
    "       'policy_type_Special Auto', 'policy_Corporate L1',\n",
    "       'policy_Corporate L2', 'policy_Corporate L3', 'policy_Personal L1',\n",
    "       'policy_Personal L2', 'policy_Personal L3', 'policy_Special L1',\n",
    "       'policy_Special L2', 'policy_Special L3', 'renew_offer_type_Offer1',\n",
    "       'renew_offer_type_Offer2', 'renew_offer_type_Offer3',\n",
    "       'renew_offer_type_Offer4', 'sales_channel_Agent',\n",
    "       'sales_channel_Branch', 'sales_channel_Call Center',\n",
    "       'sales_channel_Web', 'vehicle_class_Four-Door Car',\n",
    "       'vehicle_class_Luxury Car', 'vehicle_class_Luxury SUV',\n",
    "       'vehicle_class_SUV', 'vehicle_class_Sports Car',\n",
    "       'vehicle_class_Two-Door Car', 'vehicle_type_A']]\n",
    "y = final_df [\"total_claim_amount\"]"
   ]
  },
  {
   "cell_type": "code",
   "execution_count": 45,
   "id": "6de8908f",
   "metadata": {},
   "outputs": [],
   "source": [
    "from sklearn.model_selection import train_test_split"
   ]
  },
  {
   "cell_type": "code",
   "execution_count": 83,
   "id": "b52f144f",
   "metadata": {},
   "outputs": [],
   "source": [
    "X_train, X_test, y_train, y_test = train_test_split(X,y, random_state = 42)"
   ]
  },
  {
   "cell_type": "markdown",
   "id": "8d66cb98",
   "metadata": {},
   "source": [
    "### Standardscaler"
   ]
  },
  {
   "cell_type": "code",
   "execution_count": 47,
   "id": "64b0ccf3",
   "metadata": {},
   "outputs": [],
   "source": [
    "## from sklearn.preprocessing import StandardScaler"
   ]
  },
  {
   "cell_type": "code",
   "execution_count": 48,
   "id": "00e173e9",
   "metadata": {},
   "outputs": [],
   "source": [
    "#scaler = StandardScaler()\n",
    "#scaler_fitted = scaler.fit(X_train)\n",
    "#X_train_scaled = scaler_fitted.transform(X_train)\n",
    "#X_test_scaled = scaler_fitted.transform(X_test)"
   ]
  },
  {
   "cell_type": "code",
   "execution_count": null,
   "id": "340c400f",
   "metadata": {},
   "outputs": [],
   "source": []
  },
  {
   "cell_type": "code",
   "execution_count": 84,
   "id": "3039a49e",
   "metadata": {},
   "outputs": [],
   "source": [
    "from sklearn.linear_model import LinearRegression"
   ]
  },
  {
   "cell_type": "code",
   "execution_count": 85,
   "id": "6275b5c9",
   "metadata": {},
   "outputs": [],
   "source": [
    "lm = LinearRegression()\n",
    "model = lm.fit(X_train_scaled,y_train)"
   ]
  },
  {
   "cell_type": "code",
   "execution_count": 86,
   "id": "01b29bce",
   "metadata": {},
   "outputs": [
    {
     "data": {
      "text/plain": [
       "434.600519268188"
      ]
     },
     "execution_count": 86,
     "metadata": {},
     "output_type": "execute_result"
    }
   ],
   "source": [
    "model.intercept_"
   ]
  },
  {
   "cell_type": "code",
   "execution_count": 87,
   "id": "9aad8876",
   "metadata": {},
   "outputs": [
    {
     "data": {
      "text/plain": [
       "array([-1.09446469e-03, -8.69765498e-01, -8.57831771e+00,  1.74901159e+02,\n",
       "        4.32728069e+00, -7.06089643e-02, -1.07612358e+00,  2.64686896e+00,\n",
       "       -2.26309260e-01,  1.60934528e+14,  2.04917887e+14,  1.20962206e+14,\n",
       "        1.87408143e+14,  1.17184292e+14,  6.29974621e+14,  6.29974621e+14,\n",
       "        1.65906603e+14,  3.80710708e+14,  1.67742677e+14,  1.33165732e+14,\n",
       "        3.41943633e+14,  6.63373579e+13,  6.63373579e+13, -1.32793783e+14,\n",
       "       -1.62500527e+14, -1.28560298e+14,  3.76830825e+14,  5.18916142e+14,\n",
       "        4.66159036e+14, -2.61097800e+14, -2.03608168e+14, -7.37159772e+14,\n",
       "       -8.77931077e+13, -1.09395165e+14, -1.43169105e+14, -2.12009527e+14,\n",
       "       -2.60553241e+14, -2.99927794e+14,  2.34576560e+14,  3.55270755e+14,\n",
       "        3.18609106e+14,  3.41008914e+14,  3.22999727e+14,  2.54233782e+14,\n",
       "        2.15514916e+14, -6.94435522e+13, -6.40338860e+13, -5.71029075e+13,\n",
       "       -5.08454683e+13, -1.93753193e+13, -5.03497742e+12, -5.39235742e+12,\n",
       "       -1.50421672e+13, -8.57731509e+12, -1.54388511e+13,  0.00000000e+00])"
      ]
     },
     "execution_count": 87,
     "metadata": {},
     "output_type": "execute_result"
    }
   ],
   "source": [
    "model.coef_"
   ]
  },
  {
   "cell_type": "markdown",
   "id": "e2b7af84",
   "metadata": {},
   "source": [
    "### Predictions"
   ]
  },
  {
   "cell_type": "code",
   "execution_count": 60,
   "id": "9b6ce97e",
   "metadata": {},
   "outputs": [],
   "source": [
    "random_pick = X_test.sample()"
   ]
  },
  {
   "cell_type": "code",
   "execution_count": 61,
   "id": "3ae1da10",
   "metadata": {},
   "outputs": [
    {
     "data": {
      "text/html": [
       "<div>\n",
       "<style scoped>\n",
       "    .dataframe tbody tr th:only-of-type {\n",
       "        vertical-align: middle;\n",
       "    }\n",
       "\n",
       "    .dataframe tbody tr th {\n",
       "        vertical-align: top;\n",
       "    }\n",
       "\n",
       "    .dataframe thead th {\n",
       "        text-align: right;\n",
       "    }\n",
       "</style>\n",
       "<table border=\"1\" class=\"dataframe\">\n",
       "  <thead>\n",
       "    <tr style=\"text-align: right;\">\n",
       "      <th></th>\n",
       "      <th>vehicle_size</th>\n",
       "      <th>customer_lifetime_value</th>\n",
       "      <th>income</th>\n",
       "      <th>monthly_premium_auto</th>\n",
       "      <th>months_since_last_claim</th>\n",
       "      <th>months_since_policy_inception</th>\n",
       "      <th>number_of_open_complaints</th>\n",
       "      <th>number_of_policies</th>\n",
       "      <th>month</th>\n",
       "      <th>state_Arizona</th>\n",
       "      <th>...</th>\n",
       "      <th>sales_channel_Branch</th>\n",
       "      <th>sales_channel_Call Center</th>\n",
       "      <th>sales_channel_Web</th>\n",
       "      <th>vehicle_class_Four-Door Car</th>\n",
       "      <th>vehicle_class_Luxury Car</th>\n",
       "      <th>vehicle_class_Luxury SUV</th>\n",
       "      <th>vehicle_class_SUV</th>\n",
       "      <th>vehicle_class_Sports Car</th>\n",
       "      <th>vehicle_class_Two-Door Car</th>\n",
       "      <th>vehicle_type_A</th>\n",
       "    </tr>\n",
       "  </thead>\n",
       "  <tbody>\n",
       "    <tr>\n",
       "      <th>3059</th>\n",
       "      <td>1</td>\n",
       "      <td>10700.4952</td>\n",
       "      <td>75313</td>\n",
       "      <td>89</td>\n",
       "      <td>15.149071</td>\n",
       "      <td>64</td>\n",
       "      <td>0.384256</td>\n",
       "      <td>2</td>\n",
       "      <td>2</td>\n",
       "      <td>0</td>\n",
       "      <td>...</td>\n",
       "      <td>0</td>\n",
       "      <td>0</td>\n",
       "      <td>1</td>\n",
       "      <td>1</td>\n",
       "      <td>0</td>\n",
       "      <td>0</td>\n",
       "      <td>0</td>\n",
       "      <td>0</td>\n",
       "      <td>0</td>\n",
       "      <td>1</td>\n",
       "    </tr>\n",
       "  </tbody>\n",
       "</table>\n",
       "<p>1 rows × 56 columns</p>\n",
       "</div>"
      ],
      "text/plain": [
       "      vehicle_size  customer_lifetime_value  income  monthly_premium_auto  \\\n",
       "3059             1               10700.4952   75313                    89   \n",
       "\n",
       "      months_since_last_claim  months_since_policy_inception  \\\n",
       "3059                15.149071                             64   \n",
       "\n",
       "      number_of_open_complaints  number_of_policies  month  state_Arizona  \\\n",
       "3059                   0.384256                   2      2              0   \n",
       "\n",
       "      ...  sales_channel_Branch  sales_channel_Call Center  sales_channel_Web  \\\n",
       "3059  ...                     0                          0                  1   \n",
       "\n",
       "      vehicle_class_Four-Door Car  vehicle_class_Luxury Car  \\\n",
       "3059                            1                         0   \n",
       "\n",
       "      vehicle_class_Luxury SUV  vehicle_class_SUV  vehicle_class_Sports Car  \\\n",
       "3059                         0                  0                         0   \n",
       "\n",
       "      vehicle_class_Two-Door Car  vehicle_type_A  \n",
       "3059                           0               1  \n",
       "\n",
       "[1 rows x 56 columns]"
      ]
     },
     "execution_count": 61,
     "metadata": {},
     "output_type": "execute_result"
    }
   ],
   "source": [
    "random_pick"
   ]
  },
  {
   "cell_type": "code",
   "execution_count": 56,
   "id": "df98be05",
   "metadata": {},
   "outputs": [
    {
     "name": "stderr",
     "output_type": "stream",
     "text": [
      "C:\\Users\\flori\\anaconda4\\Lib\\site-packages\\sklearn\\base.py:457: UserWarning: X has feature names, but LinearRegression was fitted without feature names\n",
      "  warnings.warn(\n"
     ]
    },
    {
     "data": {
      "text/plain": [
       "array([1.23598543e+15])"
      ]
     },
     "execution_count": 56,
     "metadata": {},
     "output_type": "execute_result"
    }
   ],
   "source": [
    "model.predict(random_pick)"
   ]
  },
  {
   "cell_type": "markdown",
   "id": "f54cdfe2",
   "metadata": {},
   "source": [
    "### Create predictions for test set"
   ]
  },
  {
   "cell_type": "code",
   "execution_count": 62,
   "id": "5fd7e018",
   "metadata": {},
   "outputs": [],
   "source": [
    "y_pred = model.predict(X_test_scaled)"
   ]
  },
  {
   "cell_type": "code",
   "execution_count": 63,
   "id": "06b20e31",
   "metadata": {},
   "outputs": [],
   "source": [
    "y_pred = pd.DataFrame(y_pred)"
   ]
  },
  {
   "cell_type": "code",
   "execution_count": 64,
   "id": "b35f38e0",
   "metadata": {},
   "outputs": [],
   "source": [
    "y_test = y_test.reset_index(drop=True)"
   ]
  },
  {
   "cell_type": "code",
   "execution_count": 65,
   "id": "317dbad2",
   "metadata": {},
   "outputs": [],
   "source": [
    "residuals_df = pd.concat([y_test,y_pred],axis=1)"
   ]
  },
  {
   "cell_type": "code",
   "execution_count": 66,
   "id": "3bf2448a",
   "metadata": {},
   "outputs": [],
   "source": [
    "residuals_df = residuals_df.rename(columns={\"total_claim_amount\":\"y_test\", 0:\"y_pred\"})"
   ]
  },
  {
   "cell_type": "code",
   "execution_count": 67,
   "id": "94ac4645",
   "metadata": {},
   "outputs": [],
   "source": [
    "residuals_df[\"residual\"] = residuals_df[\"y_test\"]-residuals_df[\"y_pred\"]"
   ]
  },
  {
   "cell_type": "code",
   "execution_count": 68,
   "id": "84f523f4",
   "metadata": {},
   "outputs": [
    {
     "data": {
      "text/html": [
       "<div>\n",
       "<style scoped>\n",
       "    .dataframe tbody tr th:only-of-type {\n",
       "        vertical-align: middle;\n",
       "    }\n",
       "\n",
       "    .dataframe tbody tr th {\n",
       "        vertical-align: top;\n",
       "    }\n",
       "\n",
       "    .dataframe thead th {\n",
       "        text-align: right;\n",
       "    }\n",
       "</style>\n",
       "<table border=\"1\" class=\"dataframe\">\n",
       "  <thead>\n",
       "    <tr style=\"text-align: right;\">\n",
       "      <th></th>\n",
       "      <th>y_test</th>\n",
       "      <th>y_pred</th>\n",
       "      <th>residual</th>\n",
       "    </tr>\n",
       "  </thead>\n",
       "  <tbody>\n",
       "    <tr>\n",
       "      <th>0</th>\n",
       "      <td>475.423848</td>\n",
       "      <td>380.994444</td>\n",
       "      <td>94.429404</td>\n",
       "    </tr>\n",
       "    <tr>\n",
       "      <th>1</th>\n",
       "      <td>350.400000</td>\n",
       "      <td>417.166368</td>\n",
       "      <td>-66.766368</td>\n",
       "    </tr>\n",
       "    <tr>\n",
       "      <th>2</th>\n",
       "      <td>482.400000</td>\n",
       "      <td>542.885069</td>\n",
       "      <td>-60.485069</td>\n",
       "    </tr>\n",
       "    <tr>\n",
       "      <th>3</th>\n",
       "      <td>673.342650</td>\n",
       "      <td>576.334337</td>\n",
       "      <td>97.008313</td>\n",
       "    </tr>\n",
       "    <tr>\n",
       "      <th>4</th>\n",
       "      <td>302.400000</td>\n",
       "      <td>325.775743</td>\n",
       "      <td>-23.375743</td>\n",
       "    </tr>\n",
       "  </tbody>\n",
       "</table>\n",
       "</div>"
      ],
      "text/plain": [
       "       y_test      y_pred   residual\n",
       "0  475.423848  380.994444  94.429404\n",
       "1  350.400000  417.166368 -66.766368\n",
       "2  482.400000  542.885069 -60.485069\n",
       "3  673.342650  576.334337  97.008313\n",
       "4  302.400000  325.775743 -23.375743"
      ]
     },
     "execution_count": 68,
     "metadata": {},
     "output_type": "execute_result"
    }
   ],
   "source": [
    "residuals_df.head()"
   ]
  },
  {
   "cell_type": "code",
   "execution_count": null,
   "id": "6d9386f5",
   "metadata": {},
   "outputs": [],
   "source": []
  },
  {
   "cell_type": "markdown",
   "id": "2b7466de",
   "metadata": {},
   "source": [
    "### Calculating metrics"
   ]
  },
  {
   "cell_type": "code",
   "execution_count": 69,
   "id": "e79c0fd5",
   "metadata": {},
   "outputs": [],
   "source": [
    "mean_error = residuals_df[\"residual\"].mean()"
   ]
  },
  {
   "cell_type": "code",
   "execution_count": 70,
   "id": "e6fe5fcf",
   "metadata": {},
   "outputs": [
    {
     "data": {
      "text/plain": [
       "2.829534279159236"
      ]
     },
     "execution_count": 70,
     "metadata": {},
     "output_type": "execute_result"
    }
   ],
   "source": [
    "mean_error"
   ]
  },
  {
   "cell_type": "code",
   "execution_count": 71,
   "id": "fd26f254",
   "metadata": {},
   "outputs": [],
   "source": [
    "from sklearn.metrics import mean_squared_error as mse , mean_absolute_error as mae"
   ]
  },
  {
   "cell_type": "code",
   "execution_count": 72,
   "id": "53891943",
   "metadata": {},
   "outputs": [
    {
     "data": {
      "text/plain": [
       "19292.784215122898"
      ]
     },
     "execution_count": 72,
     "metadata": {},
     "output_type": "execute_result"
    }
   ],
   "source": [
    "mse(y_test,y_pred)"
   ]
  },
  {
   "cell_type": "code",
   "execution_count": 73,
   "id": "b9879425",
   "metadata": {},
   "outputs": [
    {
     "data": {
      "text/plain": [
       "96.14976017435536"
      ]
     },
     "execution_count": 73,
     "metadata": {},
     "output_type": "execute_result"
    }
   ],
   "source": [
    "mae(y_test,y_pred)"
   ]
  },
  {
   "cell_type": "code",
   "execution_count": 74,
   "id": "af0326e7",
   "metadata": {},
   "outputs": [],
   "source": [
    "rmse = mse(y_test,y_pred, squared = False)"
   ]
  },
  {
   "cell_type": "code",
   "execution_count": 75,
   "id": "a0077b01",
   "metadata": {},
   "outputs": [],
   "source": [
    "from sklearn.metrics import r2_score"
   ]
  },
  {
   "cell_type": "markdown",
   "id": "427e4bac",
   "metadata": {},
   "source": [
    "### Computing R2_score for test_set"
   ]
  },
  {
   "cell_type": "code",
   "execution_count": 76,
   "id": "ca56a80d",
   "metadata": {},
   "outputs": [
    {
     "data": {
      "text/plain": [
       "0.77"
      ]
     },
     "execution_count": 76,
     "metadata": {},
     "output_type": "execute_result"
    }
   ],
   "source": [
    "from sklearn.metrics import r2_score\n",
    "round(r2_score(y_test, y_pred),2)"
   ]
  },
  {
   "cell_type": "markdown",
   "id": "4ce6303b",
   "metadata": {},
   "source": [
    "### COMPUTING R2_score for train_set\n"
   ]
  },
  {
   "cell_type": "code",
   "execution_count": 77,
   "id": "0657d357",
   "metadata": {},
   "outputs": [],
   "source": [
    "y_pred_train = pd.DataFrame(model.predict(X_train_scaled))"
   ]
  },
  {
   "cell_type": "code",
   "execution_count": 78,
   "id": "982b6366",
   "metadata": {},
   "outputs": [
    {
     "data": {
      "text/plain": [
       "0.7698234817716385"
      ]
     },
     "execution_count": 78,
     "metadata": {},
     "output_type": "execute_result"
    }
   ],
   "source": [
    "r2_score(y_train,y_pred_train)"
   ]
  },
  {
   "cell_type": "code",
   "execution_count": 79,
   "id": "a0e72886",
   "metadata": {},
   "outputs": [],
   "source": [
    "feature_names = list(X_train.columns)"
   ]
  },
  {
   "cell_type": "code",
   "execution_count": 80,
   "id": "2f9d54ff",
   "metadata": {},
   "outputs": [],
   "source": [
    "coefficients = model.coef_"
   ]
  },
  {
   "cell_type": "code",
   "execution_count": 81,
   "id": "1bf9aaa2",
   "metadata": {},
   "outputs": [
    {
     "data": {
      "text/html": [
       "<div>\n",
       "<style scoped>\n",
       "    .dataframe tbody tr th:only-of-type {\n",
       "        vertical-align: middle;\n",
       "    }\n",
       "\n",
       "    .dataframe tbody tr th {\n",
       "        vertical-align: top;\n",
       "    }\n",
       "\n",
       "    .dataframe thead th {\n",
       "        text-align: right;\n",
       "    }\n",
       "</style>\n",
       "<table border=\"1\" class=\"dataframe\">\n",
       "  <thead>\n",
       "    <tr style=\"text-align: right;\">\n",
       "      <th></th>\n",
       "      <th>name</th>\n",
       "      <th>coeff</th>\n",
       "    </tr>\n",
       "  </thead>\n",
       "  <tbody>\n",
       "    <tr>\n",
       "      <th>0</th>\n",
       "      <td>vehicle_size</td>\n",
       "      <td>-1.094465e-03</td>\n",
       "    </tr>\n",
       "    <tr>\n",
       "      <th>1</th>\n",
       "      <td>customer_lifetime_value</td>\n",
       "      <td>-8.697655e-01</td>\n",
       "    </tr>\n",
       "    <tr>\n",
       "      <th>2</th>\n",
       "      <td>income</td>\n",
       "      <td>-8.578318e+00</td>\n",
       "    </tr>\n",
       "    <tr>\n",
       "      <th>3</th>\n",
       "      <td>monthly_premium_auto</td>\n",
       "      <td>1.749012e+02</td>\n",
       "    </tr>\n",
       "    <tr>\n",
       "      <th>4</th>\n",
       "      <td>months_since_last_claim</td>\n",
       "      <td>4.327281e+00</td>\n",
       "    </tr>\n",
       "    <tr>\n",
       "      <th>5</th>\n",
       "      <td>months_since_policy_inception</td>\n",
       "      <td>-7.060896e-02</td>\n",
       "    </tr>\n",
       "    <tr>\n",
       "      <th>6</th>\n",
       "      <td>number_of_open_complaints</td>\n",
       "      <td>-1.076124e+00</td>\n",
       "    </tr>\n",
       "    <tr>\n",
       "      <th>7</th>\n",
       "      <td>number_of_policies</td>\n",
       "      <td>2.646869e+00</td>\n",
       "    </tr>\n",
       "    <tr>\n",
       "      <th>8</th>\n",
       "      <td>month</td>\n",
       "      <td>-2.263093e-01</td>\n",
       "    </tr>\n",
       "    <tr>\n",
       "      <th>9</th>\n",
       "      <td>state_Arizona</td>\n",
       "      <td>1.609345e+14</td>\n",
       "    </tr>\n",
       "    <tr>\n",
       "      <th>10</th>\n",
       "      <td>state_California</td>\n",
       "      <td>2.049179e+14</td>\n",
       "    </tr>\n",
       "    <tr>\n",
       "      <th>11</th>\n",
       "      <td>state_Nevada</td>\n",
       "      <td>1.209622e+14</td>\n",
       "    </tr>\n",
       "    <tr>\n",
       "      <th>12</th>\n",
       "      <td>state_Oregon</td>\n",
       "      <td>1.874081e+14</td>\n",
       "    </tr>\n",
       "    <tr>\n",
       "      <th>13</th>\n",
       "      <td>state_Washington</td>\n",
       "      <td>1.171843e+14</td>\n",
       "    </tr>\n",
       "    <tr>\n",
       "      <th>14</th>\n",
       "      <td>response_No</td>\n",
       "      <td>6.299746e+14</td>\n",
       "    </tr>\n",
       "    <tr>\n",
       "      <th>15</th>\n",
       "      <td>response_Yes</td>\n",
       "      <td>6.299746e+14</td>\n",
       "    </tr>\n",
       "    <tr>\n",
       "      <th>16</th>\n",
       "      <td>employmentstatus_Disabled</td>\n",
       "      <td>1.659066e+14</td>\n",
       "    </tr>\n",
       "    <tr>\n",
       "      <th>17</th>\n",
       "      <td>employmentstatus_Employed</td>\n",
       "      <td>3.807107e+14</td>\n",
       "    </tr>\n",
       "    <tr>\n",
       "      <th>18</th>\n",
       "      <td>employmentstatus_Medical Leave</td>\n",
       "      <td>1.677427e+14</td>\n",
       "    </tr>\n",
       "    <tr>\n",
       "      <th>19</th>\n",
       "      <td>employmentstatus_Retired</td>\n",
       "      <td>1.331657e+14</td>\n",
       "    </tr>\n",
       "    <tr>\n",
       "      <th>20</th>\n",
       "      <td>employmentstatus_Unemployed</td>\n",
       "      <td>3.419436e+14</td>\n",
       "    </tr>\n",
       "    <tr>\n",
       "      <th>21</th>\n",
       "      <td>gender_F</td>\n",
       "      <td>6.633736e+13</td>\n",
       "    </tr>\n",
       "    <tr>\n",
       "      <th>22</th>\n",
       "      <td>gender_M</td>\n",
       "      <td>6.633736e+13</td>\n",
       "    </tr>\n",
       "    <tr>\n",
       "      <th>23</th>\n",
       "      <td>location_code_Rural</td>\n",
       "      <td>-1.327938e+14</td>\n",
       "    </tr>\n",
       "    <tr>\n",
       "      <th>24</th>\n",
       "      <td>location_code_Suburban</td>\n",
       "      <td>-1.625005e+14</td>\n",
       "    </tr>\n",
       "    <tr>\n",
       "      <th>25</th>\n",
       "      <td>location_code_Urban</td>\n",
       "      <td>-1.285603e+14</td>\n",
       "    </tr>\n",
       "    <tr>\n",
       "      <th>26</th>\n",
       "      <td>marital_status_Divorced</td>\n",
       "      <td>3.768308e+14</td>\n",
       "    </tr>\n",
       "    <tr>\n",
       "      <th>27</th>\n",
       "      <td>marital_status_Married</td>\n",
       "      <td>5.189161e+14</td>\n",
       "    </tr>\n",
       "    <tr>\n",
       "      <th>28</th>\n",
       "      <td>marital_status_Single</td>\n",
       "      <td>4.661590e+14</td>\n",
       "    </tr>\n",
       "    <tr>\n",
       "      <th>29</th>\n",
       "      <td>policy_type_Corporate Auto</td>\n",
       "      <td>-2.610978e+14</td>\n",
       "    </tr>\n",
       "    <tr>\n",
       "      <th>30</th>\n",
       "      <td>policy_type_Personal Auto</td>\n",
       "      <td>-2.036082e+14</td>\n",
       "    </tr>\n",
       "    <tr>\n",
       "      <th>31</th>\n",
       "      <td>policy_type_Special Auto</td>\n",
       "      <td>-7.371598e+14</td>\n",
       "    </tr>\n",
       "    <tr>\n",
       "      <th>32</th>\n",
       "      <td>policy_Corporate L1</td>\n",
       "      <td>-8.779311e+13</td>\n",
       "    </tr>\n",
       "    <tr>\n",
       "      <th>33</th>\n",
       "      <td>policy_Corporate L2</td>\n",
       "      <td>-1.093952e+14</td>\n",
       "    </tr>\n",
       "    <tr>\n",
       "      <th>34</th>\n",
       "      <td>policy_Corporate L3</td>\n",
       "      <td>-1.431691e+14</td>\n",
       "    </tr>\n",
       "    <tr>\n",
       "      <th>35</th>\n",
       "      <td>policy_Personal L1</td>\n",
       "      <td>-2.120095e+14</td>\n",
       "    </tr>\n",
       "    <tr>\n",
       "      <th>36</th>\n",
       "      <td>policy_Personal L2</td>\n",
       "      <td>-2.605532e+14</td>\n",
       "    </tr>\n",
       "    <tr>\n",
       "      <th>37</th>\n",
       "      <td>policy_Personal L3</td>\n",
       "      <td>-2.999278e+14</td>\n",
       "    </tr>\n",
       "    <tr>\n",
       "      <th>38</th>\n",
       "      <td>policy_Special L1</td>\n",
       "      <td>2.345766e+14</td>\n",
       "    </tr>\n",
       "    <tr>\n",
       "      <th>39</th>\n",
       "      <td>policy_Special L2</td>\n",
       "      <td>3.552708e+14</td>\n",
       "    </tr>\n",
       "    <tr>\n",
       "      <th>40</th>\n",
       "      <td>policy_Special L3</td>\n",
       "      <td>3.186091e+14</td>\n",
       "    </tr>\n",
       "    <tr>\n",
       "      <th>41</th>\n",
       "      <td>renew_offer_type_Offer1</td>\n",
       "      <td>3.410089e+14</td>\n",
       "    </tr>\n",
       "    <tr>\n",
       "      <th>42</th>\n",
       "      <td>renew_offer_type_Offer2</td>\n",
       "      <td>3.229997e+14</td>\n",
       "    </tr>\n",
       "    <tr>\n",
       "      <th>43</th>\n",
       "      <td>renew_offer_type_Offer3</td>\n",
       "      <td>2.542338e+14</td>\n",
       "    </tr>\n",
       "    <tr>\n",
       "      <th>44</th>\n",
       "      <td>renew_offer_type_Offer4</td>\n",
       "      <td>2.155149e+14</td>\n",
       "    </tr>\n",
       "    <tr>\n",
       "      <th>45</th>\n",
       "      <td>sales_channel_Agent</td>\n",
       "      <td>-6.944355e+13</td>\n",
       "    </tr>\n",
       "    <tr>\n",
       "      <th>46</th>\n",
       "      <td>sales_channel_Branch</td>\n",
       "      <td>-6.403389e+13</td>\n",
       "    </tr>\n",
       "    <tr>\n",
       "      <th>47</th>\n",
       "      <td>sales_channel_Call Center</td>\n",
       "      <td>-5.710291e+13</td>\n",
       "    </tr>\n",
       "    <tr>\n",
       "      <th>48</th>\n",
       "      <td>sales_channel_Web</td>\n",
       "      <td>-5.084547e+13</td>\n",
       "    </tr>\n",
       "    <tr>\n",
       "      <th>49</th>\n",
       "      <td>vehicle_class_Four-Door Car</td>\n",
       "      <td>-1.937532e+13</td>\n",
       "    </tr>\n",
       "    <tr>\n",
       "      <th>50</th>\n",
       "      <td>vehicle_class_Luxury Car</td>\n",
       "      <td>-5.034977e+12</td>\n",
       "    </tr>\n",
       "    <tr>\n",
       "      <th>51</th>\n",
       "      <td>vehicle_class_Luxury SUV</td>\n",
       "      <td>-5.392357e+12</td>\n",
       "    </tr>\n",
       "    <tr>\n",
       "      <th>52</th>\n",
       "      <td>vehicle_class_SUV</td>\n",
       "      <td>-1.504217e+13</td>\n",
       "    </tr>\n",
       "    <tr>\n",
       "      <th>53</th>\n",
       "      <td>vehicle_class_Sports Car</td>\n",
       "      <td>-8.577315e+12</td>\n",
       "    </tr>\n",
       "    <tr>\n",
       "      <th>54</th>\n",
       "      <td>vehicle_class_Two-Door Car</td>\n",
       "      <td>-1.543885e+13</td>\n",
       "    </tr>\n",
       "    <tr>\n",
       "      <th>55</th>\n",
       "      <td>vehicle_type_A</td>\n",
       "      <td>0.000000e+00</td>\n",
       "    </tr>\n",
       "  </tbody>\n",
       "</table>\n",
       "</div>"
      ],
      "text/plain": [
       "                              name         coeff\n",
       "0                     vehicle_size -1.094465e-03\n",
       "1          customer_lifetime_value -8.697655e-01\n",
       "2                           income -8.578318e+00\n",
       "3             monthly_premium_auto  1.749012e+02\n",
       "4          months_since_last_claim  4.327281e+00\n",
       "5    months_since_policy_inception -7.060896e-02\n",
       "6        number_of_open_complaints -1.076124e+00\n",
       "7               number_of_policies  2.646869e+00\n",
       "8                            month -2.263093e-01\n",
       "9                    state_Arizona  1.609345e+14\n",
       "10                state_California  2.049179e+14\n",
       "11                    state_Nevada  1.209622e+14\n",
       "12                    state_Oregon  1.874081e+14\n",
       "13                state_Washington  1.171843e+14\n",
       "14                     response_No  6.299746e+14\n",
       "15                    response_Yes  6.299746e+14\n",
       "16       employmentstatus_Disabled  1.659066e+14\n",
       "17       employmentstatus_Employed  3.807107e+14\n",
       "18  employmentstatus_Medical Leave  1.677427e+14\n",
       "19        employmentstatus_Retired  1.331657e+14\n",
       "20     employmentstatus_Unemployed  3.419436e+14\n",
       "21                        gender_F  6.633736e+13\n",
       "22                        gender_M  6.633736e+13\n",
       "23             location_code_Rural -1.327938e+14\n",
       "24          location_code_Suburban -1.625005e+14\n",
       "25             location_code_Urban -1.285603e+14\n",
       "26         marital_status_Divorced  3.768308e+14\n",
       "27          marital_status_Married  5.189161e+14\n",
       "28           marital_status_Single  4.661590e+14\n",
       "29      policy_type_Corporate Auto -2.610978e+14\n",
       "30       policy_type_Personal Auto -2.036082e+14\n",
       "31        policy_type_Special Auto -7.371598e+14\n",
       "32             policy_Corporate L1 -8.779311e+13\n",
       "33             policy_Corporate L2 -1.093952e+14\n",
       "34             policy_Corporate L3 -1.431691e+14\n",
       "35              policy_Personal L1 -2.120095e+14\n",
       "36              policy_Personal L2 -2.605532e+14\n",
       "37              policy_Personal L3 -2.999278e+14\n",
       "38               policy_Special L1  2.345766e+14\n",
       "39               policy_Special L2  3.552708e+14\n",
       "40               policy_Special L3  3.186091e+14\n",
       "41         renew_offer_type_Offer1  3.410089e+14\n",
       "42         renew_offer_type_Offer2  3.229997e+14\n",
       "43         renew_offer_type_Offer3  2.542338e+14\n",
       "44         renew_offer_type_Offer4  2.155149e+14\n",
       "45             sales_channel_Agent -6.944355e+13\n",
       "46            sales_channel_Branch -6.403389e+13\n",
       "47       sales_channel_Call Center -5.710291e+13\n",
       "48               sales_channel_Web -5.084547e+13\n",
       "49     vehicle_class_Four-Door Car -1.937532e+13\n",
       "50        vehicle_class_Luxury Car -5.034977e+12\n",
       "51        vehicle_class_Luxury SUV -5.392357e+12\n",
       "52               vehicle_class_SUV -1.504217e+13\n",
       "53        vehicle_class_Sports Car -8.577315e+12\n",
       "54      vehicle_class_Two-Door Car -1.543885e+13\n",
       "55                  vehicle_type_A  0.000000e+00"
      ]
     },
     "execution_count": 81,
     "metadata": {},
     "output_type": "execute_result"
    }
   ],
   "source": [
    "fi_dict = {\"name\":feature_names,\"coeff\":coefficients}\n",
    "fi_df = pd.DataFrame(fi_dict)\n",
    "fi_df"
   ]
  },
  {
   "cell_type": "code",
   "execution_count": 82,
   "id": "c2da31c1",
   "metadata": {},
   "outputs": [
    {
     "data": {
      "text/plain": [
       "<Axes: xlabel='coeff', ylabel='name'>"
      ]
     },
     "execution_count": 82,
     "metadata": {},
     "output_type": "execute_result"
    },
    {
     "data": {
      "image/png": "[encoded data removed]",
      "text/plain": [
       "<Figure size 1000x1200 with 1 Axes>"
      ]
     },
     "metadata": {},
     "output_type": "display_data"
    }
   ],
   "source": [
    "import seaborn as sns\n",
    "fi_df_sorted = fi_df.sort_values(by = \"coeff\", ascending = False)\n",
    "import matplotlib.pyplot as plt\n",
    "plt.figure(figsize = (10,12))\n",
    "sns.barplot(y = fi_df_sorted[\"name\"], x = fi_df_sorted[\"coeff\"])"
   ]
  },
  {
   "cell_type": "code",
   "execution_count": null,
   "id": "24d28d74",
   "metadata": {},
   "outputs": [],
   "source": []
  }
 ],
 "metadata": {
  "kernelspec": {
   "display_name": "Python 3 (ipykernel)",
   "language": "python",
   "name": "python3"
  },
  "language_info": {
   "codemirror_mode": {
    "name": "ipython",
    "version": 3
   },
   "file_extension": ".py",
   "mimetype": "text/x-python",
   "name": "python",
   "nbconvert_exporter": "python",
   "pygments_lexer": "ipython3",
   "version": "3.11.5"
  }
 },
 "nbformat": 4,
 "nbformat_minor": 5
}
