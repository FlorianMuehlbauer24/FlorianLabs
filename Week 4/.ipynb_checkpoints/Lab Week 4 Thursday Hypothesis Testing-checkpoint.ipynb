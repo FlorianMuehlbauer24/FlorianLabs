{
 "cells": [
  {
   "cell_type": "markdown",
   "id": "f64d77ca",
   "metadata": {},
   "source": [
    "Lab | Hypothesis Testing\n",
    "Instructions\n",
    "It is assumed that the mean systolic blood pressure is μ = 120 mm Hg. In the Honolulu Heart Study, a sample of n = 100 people had an average systolic blood pressure of 130.1 mm Hg with a standard deviation of 21.21 mm Hg. Is the group significantly different (with respect to systolic blood pressure!) from the regular population?\n",
    "\n",
    "Set up the hypothesis test.\n",
    "Write down all the steps followed for setting up the test.\n",
    "Calculate the test statistic by hand and also code it in Python. It should be 4.76190. What decision can you make based on this calculated value?"
   ]
  },
  {
   "cell_type": "code",
   "execution_count": 1,
   "id": "becf1119",
   "metadata": {},
   "outputs": [],
   "source": [
    "import numpy as np\n",
    "import pandas as pd\n",
    "import scipy.stats as stats\n",
    "import matplotlib.pyplot as plt\n",
    "import seaborn as sns\n",
    "\n",
    "%matplotlib inline"
   ]
  },
  {
   "cell_type": "markdown",
   "id": "3ca530c3",
   "metadata": {},
   "source": [
    "### Problem Statement"
   ]
  },
  {
   "cell_type": "markdown",
   "id": "bdaad1f6",
   "metadata": {},
   "source": [
    "Is the group significantly different (with respect to systolic blood pressure!) from the regular population?\n",
    "\n",
    "H0: mu = 120mg Hg\n",
    "Ha: mu != 120mg Hg\n"
   ]
  },
  {
   "cell_type": "markdown",
   "id": "71258ae9",
   "metadata": {},
   "source": [
    "<b>  z distribution is a standard normal distribution \n",
    "   "
   ]
  },
  {
   "cell_type": "code",
   "execution_count": 33,
   "id": "d251ffa8",
   "metadata": {},
   "outputs": [
    {
     "name": "stdout",
     "output_type": "stream",
     "text": [
      "The t score of our sample is: 4.76\n"
     ]
    }
   ],
   "source": [
    "import math\n",
    "\n",
    "sem = 21.21 #Standard Deviation of the sample\n",
    "mean = 130.1 # Sample Mean\n",
    "mu = 120 # population Mean\n",
    "n = 100 #Sample Size\n",
    "\n",
    "#Standard deviation of the population is not given -> T-Distribution must be used! \n",
    "\n",
    "t = (mean-mu)/(sem/math.sqrt(n))\n",
    "              \n",
    "            \n",
    "print(\"The t score of our sample is: {:.2f}\".format(t))"
   ]
  },
  {
   "cell_type": "code",
   "execution_count": 31,
   "id": "005bb489",
   "metadata": {},
   "outputs": [
    {
     "name": "stdout",
     "output_type": "stream",
     "text": [
      "3.3066342302957467e-06\n"
     ]
    }
   ],
   "source": [
    "# Calculate two-tailed p-value\n",
    "p_value = stats.t.sf(4.76, df=99)\n",
    "print(p_value)"
   ]
  },
  {
   "cell_type": "code",
   "execution_count": 34,
   "id": "f6001d7a",
   "metadata": {},
   "outputs": [
    {
     "name": "stdout",
     "output_type": "stream",
     "text": [
      "The critical value corresponding to a 0.95 area of a normal distribution is: 1.98\n"
     ]
    }
   ],
   "source": [
    "zc = stats.t.ppf(1-0.025, df = 99) \n",
    "print(\"The critical value corresponding to a 0.95 area of a normal distribution is: {:.2f}\".format(zc))\n",
    "# Result is Critical Value (on both ends)"
   ]
  },
  {
   "cell_type": "markdown",
   "id": "aa6305de",
   "metadata": {},
   "source": [
    "P-value < confidence level -> H0 can be rejected"
   ]
  },
  {
   "cell_type": "code",
   "execution_count": null,
   "id": "f489279a",
   "metadata": {},
   "outputs": [],
   "source": []
  }
 ],
 "metadata": {
  "kernelspec": {
   "display_name": "Python 3 (ipykernel)",
   "language": "python",
   "name": "python3"
  },
  "language_info": {
   "codemirror_mode": {
    "name": "ipython",
    "version": 3
   },
   "file_extension": ".py",
   "mimetype": "text/x-python",
   "name": "python",
   "nbconvert_exporter": "python",
   "pygments_lexer": "ipython3",
   "version": "3.11.5"
  }
 },
 "nbformat": 4,
 "nbformat_minor": 5
}
