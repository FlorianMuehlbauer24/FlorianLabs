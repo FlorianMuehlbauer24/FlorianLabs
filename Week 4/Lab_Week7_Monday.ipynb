{
 "cells": [
  {
   "cell_type": "code",
   "execution_count": 2,
   "id": "bf0ae0b8",
   "metadata": {},
   "outputs": [],
   "source": [
    "#Import File\n",
    "import pandas as pd\n",
    "file_path = r'C:\\Users\\flori\\Downloads\\marketing_customer_analysis_clean.csv'\n",
    "\n",
    "df_marketing = pd.read_csv(file_path)"
   ]
  },
  {
   "cell_type": "code",
   "execution_count": 3,
   "id": "038d77ee",
   "metadata": {},
   "outputs": [],
   "source": [
    "# Create Categorical and Numbercial DF\n",
    "\n",
    "categorical_df = df_marketing.select_dtypes(include='object')\n",
    "numericals_df = df_marketing.select_dtypes(include ='number')"
   ]
  },
  {
   "cell_type": "code",
   "execution_count": 4,
   "id": "b6639066",
   "metadata": {},
   "outputs": [],
   "source": [
    "# Create nominal df\n",
    "nominals_df = pd.get_dummies(categorical_df[['state', 'response', 'employmentstatus', 'gender', 'location_code','marital_status', 'policy_type','policy', 'renew_offer_type','sales_channel','vehicle_class', 'vehicle_type']], dtype=int)"
   ]
  },
  {
   "cell_type": "code",
   "execution_count": 5,
   "id": "3414eada",
   "metadata": {},
   "outputs": [],
   "source": [
    "# Create ordinal df\n",
    "ordinals_df = pd.DataFrame(columns=[\"coverage\", \"education\", \"vehicle_size\"])\n",
    "\n",
    "# Transform the columns in ordinals_df\n",
    "ordinals_df[\"coverage\"] = df_marketing[\"coverage\"].map({'Basic': 0, 'Extended': 1, 'Premium': 2})\n",
    "ordinals_df[\"education\"] = df_marketing[\"education\"].map({'High School or Below':0, 'College': 1, 'Bachelor':2, 'Master':3, 'Doctor':4})\n",
    "ordinals_df[\"vehicle_size\"] = df_marketing[\"vehicle_size\"].map({'Small': 0, 'Medsize': 1, 'Large': 2})"
   ]
  },
  {
   "cell_type": "code",
   "execution_count": null,
   "id": "52f51f1e",
   "metadata": {},
   "outputs": [],
   "source": []
  },
  {
   "cell_type": "markdown",
   "id": "ca7f8984",
   "metadata": {},
   "source": [
    "### Concat final DF"
   ]
  },
  {
   "cell_type": "code",
   "execution_count": 6,
   "id": "3a26d1ae",
   "metadata": {},
   "outputs": [],
   "source": [
    "final_df = pd.concat([ordinals_df,numericals_df,nominals_df], axis=1)"
   ]
  },
  {
   "cell_type": "code",
   "execution_count": 7,
   "id": "a7968cdc",
   "metadata": {},
   "outputs": [
    {
     "data": {
      "text/html": [
       "<div>\n",
       "<style scoped>\n",
       "    .dataframe tbody tr th:only-of-type {\n",
       "        vertical-align: middle;\n",
       "    }\n",
       "\n",
       "    .dataframe tbody tr th {\n",
       "        vertical-align: top;\n",
       "    }\n",
       "\n",
       "    .dataframe thead th {\n",
       "        text-align: right;\n",
       "    }\n",
       "</style>\n",
       "<table border=\"1\" class=\"dataframe\">\n",
       "  <thead>\n",
       "    <tr style=\"text-align: right;\">\n",
       "      <th></th>\n",
       "      <th>coverage</th>\n",
       "      <th>education</th>\n",
       "      <th>vehicle_size</th>\n",
       "      <th>unnamed:_0</th>\n",
       "      <th>customer_lifetime_value</th>\n",
       "      <th>income</th>\n",
       "      <th>monthly_premium_auto</th>\n",
       "      <th>months_since_last_claim</th>\n",
       "      <th>months_since_policy_inception</th>\n",
       "      <th>number_of_open_complaints</th>\n",
       "      <th>...</th>\n",
       "      <th>sales_channel_Branch</th>\n",
       "      <th>sales_channel_Call Center</th>\n",
       "      <th>sales_channel_Web</th>\n",
       "      <th>vehicle_class_Four-Door Car</th>\n",
       "      <th>vehicle_class_Luxury Car</th>\n",
       "      <th>vehicle_class_Luxury SUV</th>\n",
       "      <th>vehicle_class_SUV</th>\n",
       "      <th>vehicle_class_Sports Car</th>\n",
       "      <th>vehicle_class_Two-Door Car</th>\n",
       "      <th>vehicle_type_A</th>\n",
       "    </tr>\n",
       "  </thead>\n",
       "  <tbody>\n",
       "    <tr>\n",
       "      <th>0</th>\n",
       "      <td>0</td>\n",
       "      <td>1</td>\n",
       "      <td>1</td>\n",
       "      <td>0</td>\n",
       "      <td>4809.216960</td>\n",
       "      <td>48029</td>\n",
       "      <td>61</td>\n",
       "      <td>7.000000</td>\n",
       "      <td>52</td>\n",
       "      <td>0.000000</td>\n",
       "      <td>...</td>\n",
       "      <td>0</td>\n",
       "      <td>0</td>\n",
       "      <td>0</td>\n",
       "      <td>1</td>\n",
       "      <td>0</td>\n",
       "      <td>0</td>\n",
       "      <td>0</td>\n",
       "      <td>0</td>\n",
       "      <td>0</td>\n",
       "      <td>1</td>\n",
       "    </tr>\n",
       "    <tr>\n",
       "      <th>1</th>\n",
       "      <td>0</td>\n",
       "      <td>1</td>\n",
       "      <td>1</td>\n",
       "      <td>1</td>\n",
       "      <td>2228.525238</td>\n",
       "      <td>0</td>\n",
       "      <td>64</td>\n",
       "      <td>3.000000</td>\n",
       "      <td>26</td>\n",
       "      <td>0.000000</td>\n",
       "      <td>...</td>\n",
       "      <td>0</td>\n",
       "      <td>1</td>\n",
       "      <td>0</td>\n",
       "      <td>1</td>\n",
       "      <td>0</td>\n",
       "      <td>0</td>\n",
       "      <td>0</td>\n",
       "      <td>0</td>\n",
       "      <td>0</td>\n",
       "      <td>1</td>\n",
       "    </tr>\n",
       "    <tr>\n",
       "      <th>2</th>\n",
       "      <td>0</td>\n",
       "      <td>2</td>\n",
       "      <td>1</td>\n",
       "      <td>2</td>\n",
       "      <td>14947.917300</td>\n",
       "      <td>22139</td>\n",
       "      <td>100</td>\n",
       "      <td>34.000000</td>\n",
       "      <td>31</td>\n",
       "      <td>0.000000</td>\n",
       "      <td>...</td>\n",
       "      <td>0</td>\n",
       "      <td>1</td>\n",
       "      <td>0</td>\n",
       "      <td>0</td>\n",
       "      <td>0</td>\n",
       "      <td>0</td>\n",
       "      <td>1</td>\n",
       "      <td>0</td>\n",
       "      <td>0</td>\n",
       "      <td>1</td>\n",
       "    </tr>\n",
       "    <tr>\n",
       "      <th>3</th>\n",
       "      <td>1</td>\n",
       "      <td>1</td>\n",
       "      <td>1</td>\n",
       "      <td>3</td>\n",
       "      <td>22332.439460</td>\n",
       "      <td>49078</td>\n",
       "      <td>97</td>\n",
       "      <td>10.000000</td>\n",
       "      <td>3</td>\n",
       "      <td>0.000000</td>\n",
       "      <td>...</td>\n",
       "      <td>1</td>\n",
       "      <td>0</td>\n",
       "      <td>0</td>\n",
       "      <td>1</td>\n",
       "      <td>0</td>\n",
       "      <td>0</td>\n",
       "      <td>0</td>\n",
       "      <td>0</td>\n",
       "      <td>0</td>\n",
       "      <td>1</td>\n",
       "    </tr>\n",
       "    <tr>\n",
       "      <th>4</th>\n",
       "      <td>2</td>\n",
       "      <td>2</td>\n",
       "      <td>1</td>\n",
       "      <td>4</td>\n",
       "      <td>9025.067525</td>\n",
       "      <td>23675</td>\n",
       "      <td>117</td>\n",
       "      <td>15.149071</td>\n",
       "      <td>31</td>\n",
       "      <td>0.384256</td>\n",
       "      <td>...</td>\n",
       "      <td>1</td>\n",
       "      <td>0</td>\n",
       "      <td>0</td>\n",
       "      <td>1</td>\n",
       "      <td>0</td>\n",
       "      <td>0</td>\n",
       "      <td>0</td>\n",
       "      <td>0</td>\n",
       "      <td>0</td>\n",
       "      <td>1</td>\n",
       "    </tr>\n",
       "    <tr>\n",
       "      <th>...</th>\n",
       "      <td>...</td>\n",
       "      <td>...</td>\n",
       "      <td>...</td>\n",
       "      <td>...</td>\n",
       "      <td>...</td>\n",
       "      <td>...</td>\n",
       "      <td>...</td>\n",
       "      <td>...</td>\n",
       "      <td>...</td>\n",
       "      <td>...</td>\n",
       "      <td>...</td>\n",
       "      <td>...</td>\n",
       "      <td>...</td>\n",
       "      <td>...</td>\n",
       "      <td>...</td>\n",
       "      <td>...</td>\n",
       "      <td>...</td>\n",
       "      <td>...</td>\n",
       "      <td>...</td>\n",
       "      <td>...</td>\n",
       "      <td>...</td>\n",
       "    </tr>\n",
       "    <tr>\n",
       "      <th>10905</th>\n",
       "      <td>2</td>\n",
       "      <td>2</td>\n",
       "      <td>1</td>\n",
       "      <td>10905</td>\n",
       "      <td>15563.369440</td>\n",
       "      <td>0</td>\n",
       "      <td>253</td>\n",
       "      <td>15.149071</td>\n",
       "      <td>40</td>\n",
       "      <td>0.384256</td>\n",
       "      <td>...</td>\n",
       "      <td>0</td>\n",
       "      <td>0</td>\n",
       "      <td>1</td>\n",
       "      <td>0</td>\n",
       "      <td>1</td>\n",
       "      <td>0</td>\n",
       "      <td>0</td>\n",
       "      <td>0</td>\n",
       "      <td>0</td>\n",
       "      <td>1</td>\n",
       "    </tr>\n",
       "    <tr>\n",
       "      <th>10906</th>\n",
       "      <td>0</td>\n",
       "      <td>1</td>\n",
       "      <td>1</td>\n",
       "      <td>10906</td>\n",
       "      <td>5259.444853</td>\n",
       "      <td>61146</td>\n",
       "      <td>65</td>\n",
       "      <td>7.000000</td>\n",
       "      <td>68</td>\n",
       "      <td>0.000000</td>\n",
       "      <td>...</td>\n",
       "      <td>1</td>\n",
       "      <td>0</td>\n",
       "      <td>0</td>\n",
       "      <td>1</td>\n",
       "      <td>0</td>\n",
       "      <td>0</td>\n",
       "      <td>0</td>\n",
       "      <td>0</td>\n",
       "      <td>0</td>\n",
       "      <td>1</td>\n",
       "    </tr>\n",
       "    <tr>\n",
       "      <th>10907</th>\n",
       "      <td>1</td>\n",
       "      <td>2</td>\n",
       "      <td>1</td>\n",
       "      <td>10907</td>\n",
       "      <td>23893.304100</td>\n",
       "      <td>39837</td>\n",
       "      <td>201</td>\n",
       "      <td>11.000000</td>\n",
       "      <td>63</td>\n",
       "      <td>0.000000</td>\n",
       "      <td>...</td>\n",
       "      <td>0</td>\n",
       "      <td>0</td>\n",
       "      <td>1</td>\n",
       "      <td>0</td>\n",
       "      <td>0</td>\n",
       "      <td>1</td>\n",
       "      <td>0</td>\n",
       "      <td>0</td>\n",
       "      <td>0</td>\n",
       "      <td>1</td>\n",
       "    </tr>\n",
       "    <tr>\n",
       "      <th>10908</th>\n",
       "      <td>2</td>\n",
       "      <td>1</td>\n",
       "      <td>1</td>\n",
       "      <td>10908</td>\n",
       "      <td>11971.977650</td>\n",
       "      <td>64195</td>\n",
       "      <td>158</td>\n",
       "      <td>0.000000</td>\n",
       "      <td>27</td>\n",
       "      <td>4.000000</td>\n",
       "      <td>...</td>\n",
       "      <td>1</td>\n",
       "      <td>0</td>\n",
       "      <td>0</td>\n",
       "      <td>0</td>\n",
       "      <td>0</td>\n",
       "      <td>0</td>\n",
       "      <td>1</td>\n",
       "      <td>0</td>\n",
       "      <td>0</td>\n",
       "      <td>1</td>\n",
       "    </tr>\n",
       "    <tr>\n",
       "      <th>10909</th>\n",
       "      <td>0</td>\n",
       "      <td>2</td>\n",
       "      <td>1</td>\n",
       "      <td>10909</td>\n",
       "      <td>6857.519928</td>\n",
       "      <td>0</td>\n",
       "      <td>101</td>\n",
       "      <td>31.000000</td>\n",
       "      <td>1</td>\n",
       "      <td>0.000000</td>\n",
       "      <td>...</td>\n",
       "      <td>0</td>\n",
       "      <td>0</td>\n",
       "      <td>1</td>\n",
       "      <td>0</td>\n",
       "      <td>0</td>\n",
       "      <td>0</td>\n",
       "      <td>1</td>\n",
       "      <td>0</td>\n",
       "      <td>0</td>\n",
       "      <td>1</td>\n",
       "    </tr>\n",
       "  </tbody>\n",
       "</table>\n",
       "<p>10910 rows × 60 columns</p>\n",
       "</div>"
      ],
      "text/plain": [
       "       coverage  education  vehicle_size  unnamed:_0  customer_lifetime_value  \\\n",
       "0             0          1             1           0              4809.216960   \n",
       "1             0          1             1           1              2228.525238   \n",
       "2             0          2             1           2             14947.917300   \n",
       "3             1          1             1           3             22332.439460   \n",
       "4             2          2             1           4              9025.067525   \n",
       "...         ...        ...           ...         ...                      ...   \n",
       "10905         2          2             1       10905             15563.369440   \n",
       "10906         0          1             1       10906              5259.444853   \n",
       "10907         1          2             1       10907             23893.304100   \n",
       "10908         2          1             1       10908             11971.977650   \n",
       "10909         0          2             1       10909              6857.519928   \n",
       "\n",
       "       income  monthly_premium_auto  months_since_last_claim  \\\n",
       "0       48029                    61                 7.000000   \n",
       "1           0                    64                 3.000000   \n",
       "2       22139                   100                34.000000   \n",
       "3       49078                    97                10.000000   \n",
       "4       23675                   117                15.149071   \n",
       "...       ...                   ...                      ...   \n",
       "10905       0                   253                15.149071   \n",
       "10906   61146                    65                 7.000000   \n",
       "10907   39837                   201                11.000000   \n",
       "10908   64195                   158                 0.000000   \n",
       "10909       0                   101                31.000000   \n",
       "\n",
       "       months_since_policy_inception  number_of_open_complaints  ...  \\\n",
       "0                                 52                   0.000000  ...   \n",
       "1                                 26                   0.000000  ...   \n",
       "2                                 31                   0.000000  ...   \n",
       "3                                  3                   0.000000  ...   \n",
       "4                                 31                   0.384256  ...   \n",
       "...                              ...                        ...  ...   \n",
       "10905                             40                   0.384256  ...   \n",
       "10906                             68                   0.000000  ...   \n",
       "10907                             63                   0.000000  ...   \n",
       "10908                             27                   4.000000  ...   \n",
       "10909                              1                   0.000000  ...   \n",
       "\n",
       "       sales_channel_Branch  sales_channel_Call Center  sales_channel_Web  \\\n",
       "0                         0                          0                  0   \n",
       "1                         0                          1                  0   \n",
       "2                         0                          1                  0   \n",
       "3                         1                          0                  0   \n",
       "4                         1                          0                  0   \n",
       "...                     ...                        ...                ...   \n",
       "10905                     0                          0                  1   \n",
       "10906                     1                          0                  0   \n",
       "10907                     0                          0                  1   \n",
       "10908                     1                          0                  0   \n",
       "10909                     0                          0                  1   \n",
       "\n",
       "       vehicle_class_Four-Door Car  vehicle_class_Luxury Car  \\\n",
       "0                                1                         0   \n",
       "1                                1                         0   \n",
       "2                                0                         0   \n",
       "3                                1                         0   \n",
       "4                                1                         0   \n",
       "...                            ...                       ...   \n",
       "10905                            0                         1   \n",
       "10906                            1                         0   \n",
       "10907                            0                         0   \n",
       "10908                            0                         0   \n",
       "10909                            0                         0   \n",
       "\n",
       "       vehicle_class_Luxury SUV  vehicle_class_SUV  vehicle_class_Sports Car  \\\n",
       "0                             0                  0                         0   \n",
       "1                             0                  0                         0   \n",
       "2                             0                  1                         0   \n",
       "3                             0                  0                         0   \n",
       "4                             0                  0                         0   \n",
       "...                         ...                ...                       ...   \n",
       "10905                         0                  0                         0   \n",
       "10906                         0                  0                         0   \n",
       "10907                         1                  0                         0   \n",
       "10908                         0                  1                         0   \n",
       "10909                         0                  1                         0   \n",
       "\n",
       "       vehicle_class_Two-Door Car  vehicle_type_A  \n",
       "0                               0               1  \n",
       "1                               0               1  \n",
       "2                               0               1  \n",
       "3                               0               1  \n",
       "4                               0               1  \n",
       "...                           ...             ...  \n",
       "10905                           0               1  \n",
       "10906                           0               1  \n",
       "10907                           0               1  \n",
       "10908                           0               1  \n",
       "10909                           0               1  \n",
       "\n",
       "[10910 rows x 60 columns]"
      ]
     },
     "execution_count": 7,
     "metadata": {},
     "output_type": "execute_result"
    }
   ],
   "source": [
    "final_df"
   ]
  },
  {
   "cell_type": "markdown",
   "id": "a1d32739",
   "metadata": {},
   "source": [
    "### X-Y Split"
   ]
  },
  {
   "cell_type": "code",
   "execution_count": 8,
   "id": "3f4f08c1",
   "metadata": {},
   "outputs": [],
   "source": [
    "# Drop Null Values and Duplicates\n",
    "df_marketing.dropna()\n",
    "df_marketing = df_marketing.drop_duplicates()"
   ]
  },
  {
   "cell_type": "code",
   "execution_count": 9,
   "id": "80a733d2",
   "metadata": {},
   "outputs": [
    {
     "data": {
      "text/plain": [
       "Index(['coverage', 'education', 'vehicle_size', 'unnamed:_0',\n",
       "       'customer_lifetime_value', 'income', 'monthly_premium_auto',\n",
       "       'months_since_last_claim', 'months_since_policy_inception',\n",
       "       'number_of_open_complaints', 'number_of_policies', 'total_claim_amount',\n",
       "       'month', 'state_Arizona', 'state_California', 'state_Nevada',\n",
       "       'state_Oregon', 'state_Washington', 'response_No', 'response_Yes',\n",
       "       'employmentstatus_Disabled', 'employmentstatus_Employed',\n",
       "       'employmentstatus_Medical Leave', 'employmentstatus_Retired',\n",
       "       'employmentstatus_Unemployed', 'gender_F', 'gender_M',\n",
       "       'location_code_Rural', 'location_code_Suburban', 'location_code_Urban',\n",
       "       'marital_status_Divorced', 'marital_status_Married',\n",
       "       'marital_status_Single', 'policy_type_Corporate Auto',\n",
       "       'policy_type_Personal Auto', 'policy_type_Special Auto',\n",
       "       'policy_Corporate L1', 'policy_Corporate L2', 'policy_Corporate L3',\n",
       "       'policy_Personal L1', 'policy_Personal L2', 'policy_Personal L3',\n",
       "       'policy_Special L1', 'policy_Special L2', 'policy_Special L3',\n",
       "       'renew_offer_type_Offer1', 'renew_offer_type_Offer2',\n",
       "       'renew_offer_type_Offer3', 'renew_offer_type_Offer4',\n",
       "       'sales_channel_Agent', 'sales_channel_Branch',\n",
       "       'sales_channel_Call Center', 'sales_channel_Web',\n",
       "       'vehicle_class_Four-Door Car', 'vehicle_class_Luxury Car',\n",
       "       'vehicle_class_Luxury SUV', 'vehicle_class_SUV',\n",
       "       'vehicle_class_Sports Car', 'vehicle_class_Two-Door Car',\n",
       "       'vehicle_type_A'],\n",
       "      dtype='object')"
      ]
     },
     "execution_count": 9,
     "metadata": {},
     "output_type": "execute_result"
    }
   ],
   "source": [
    "final_df.columns"
   ]
  },
  {
   "cell_type": "code",
   "execution_count": 10,
   "id": "c3343134",
   "metadata": {},
   "outputs": [],
   "source": [
    "X = final_df[['coverage', 'education', 'vehicle_size',\n",
    "       'customer_lifetime_value', 'income', 'monthly_premium_auto',\n",
    "       'months_since_last_claim', 'months_since_policy_inception',\n",
    "       'number_of_open_complaints', 'number_of_policies',\n",
    "       'month', 'state_Arizona', 'state_California', 'state_Nevada',\n",
    "       'state_Oregon', 'state_Washington', 'response_No', 'response_Yes',\n",
    "       'employmentstatus_Disabled', 'employmentstatus_Employed',\n",
    "       'employmentstatus_Medical Leave', 'employmentstatus_Retired',\n",
    "       'employmentstatus_Unemployed', 'gender_F', 'gender_M',\n",
    "       'location_code_Rural', 'location_code_Suburban', 'location_code_Urban',\n",
    "       'marital_status_Divorced', 'marital_status_Married',\n",
    "       'marital_status_Single', 'policy_type_Corporate Auto',\n",
    "       'policy_type_Personal Auto', 'policy_type_Special Auto',\n",
    "       'policy_Corporate L1', 'policy_Corporate L2', 'policy_Corporate L3',\n",
    "       'policy_Personal L1', 'policy_Personal L2', 'policy_Personal L3',\n",
    "       'policy_Special L1', 'policy_Special L2', 'policy_Special L3',\n",
    "       'renew_offer_type_Offer1', 'renew_offer_type_Offer2',\n",
    "       'renew_offer_type_Offer3', 'renew_offer_type_Offer4',\n",
    "       'sales_channel_Agent', 'sales_channel_Branch',\n",
    "       'sales_channel_Call Center', 'sales_channel_Web',\n",
    "       'vehicle_class_Four-Door Car', 'vehicle_class_Luxury Car',\n",
    "       'vehicle_class_Luxury SUV', 'vehicle_class_SUV',\n",
    "       'vehicle_class_Sports Car', 'vehicle_class_Two-Door Car',\n",
    "       'vehicle_type_A']]\n",
    "# We can also just drop one columns instead of listing all columns\n",
    "y = final_df [\"total_claim_amount\"]"
   ]
  },
  {
   "cell_type": "code",
   "execution_count": 11,
   "id": "fc467a49",
   "metadata": {},
   "outputs": [],
   "source": [
    "final_df.dropna(inplace=True)\n",
    "final_df.drop_duplicates(inplace=True)\n"
   ]
  },
  {
   "cell_type": "markdown",
   "id": "247e9506",
   "metadata": {},
   "source": [
    "### X-Y Split"
   ]
  },
  {
   "cell_type": "code",
   "execution_count": 30,
   "id": "6de8908f",
   "metadata": {},
   "outputs": [],
   "source": [
    "from sklearn.model_selection import train_test_split"
   ]
  },
  {
   "cell_type": "code",
   "execution_count": null,
   "id": "7b805c41",
   "metadata": {},
   "outputs": [],
   "source": []
  },
  {
   "cell_type": "code",
   "execution_count": 48,
   "id": "b52f144f",
   "metadata": {},
   "outputs": [],
   "source": [
    "X_train, X_test, y_train, y_test = train_test_split(X,y, random_state = 42)"
   ]
  },
  {
   "cell_type": "markdown",
   "id": "8d66cb98",
   "metadata": {},
   "source": [
    "### Standardscaler"
   ]
  },
  {
   "cell_type": "code",
   "execution_count": 32,
   "id": "64b0ccf3",
   "metadata": {},
   "outputs": [],
   "source": [
    "from sklearn.preprocessing import StandardScaler, PowerTransformer"
   ]
  },
  {
   "cell_type": "code",
   "execution_count": 33,
   "id": "00e173e9",
   "metadata": {},
   "outputs": [],
   "source": [
    "scaler = StandardScaler()\n",
    "scaler_fitted = scaler.fit(X_train)\n",
    "X_train_scaled = scaler_fitted.transform(X_train)\n",
    "X_test_scaled = scaler_fitted.transform(X_test)"
   ]
  },
  {
   "cell_type": "code",
   "execution_count": 34,
   "id": "9252e62f",
   "metadata": {},
   "outputs": [
    {
     "data": {
      "text/plain": [
       "<Axes: >"
      ]
     },
     "execution_count": 34,
     "metadata": {},
     "output_type": "execute_result"
    },
    {
     "data": {
      "image/png": "[encoded data removed]",
      "text/plain": [
       "<Figure size 640x480 with 1 Axes>"
      ]
     },
     "metadata": {},
     "output_type": "display_data"
    }
   ],
   "source": [
    "y_train.hist() # check output "
   ]
  },
  {
   "cell_type": "code",
   "execution_count": 35,
   "id": "af10b68d",
   "metadata": {},
   "outputs": [],
   "source": [
    "pt = PowerTransformer"
   ]
  },
  {
   "cell_type": "code",
   "execution_count": 37,
   "id": "dfe10a5d",
   "metadata": {},
   "outputs": [],
   "source": [
    "y_train = y_train.reset_index(drop=True)  # Resetting the index"
   ]
  },
  {
   "cell_type": "code",
   "execution_count": 45,
   "id": "88a3f9ad",
   "metadata": {},
   "outputs": [],
   "source": [
    "import numpy as np\n",
    "\n",
    "# Assuming y_train is a NumPy array\n",
    "y_train = y_train.reshape(-1, 1)\n",
    "\n",
    "# Now you can use the transform method\n",
    "y_train_transformed = pt.transform(y_train)"
   ]
  },
  {
   "cell_type": "code",
   "execution_count": 43,
   "id": "175cf6ae",
   "metadata": {},
   "outputs": [],
   "source": [
    "from sklearn.preprocessing import PowerTransformer\n",
    "\n",
    "# Assuming y_train is a NumPy array\n",
    "pt = PowerTransformer()\n",
    "y_train_transformed = pt.fit_transform(y_train)"
   ]
  },
  {
   "cell_type": "code",
   "execution_count": 46,
   "id": "5a59ac32",
   "metadata": {},
   "outputs": [
    {
     "ename": "ValueError",
     "evalue": "Expected 2D array, got 1D array instead:\narray=[475.423848 350.4      482.4      ...  41.182611 364.8       89.411365].\nReshape your data either using array.reshape(-1, 1) if your data has a single feature or array.reshape(1, -1) if it contains a single sample.",
     "output_type": "error",
     "traceback": [
      "\u001b[1;31m---------------------------------------------------------------------------\u001b[0m",
      "\u001b[1;31mValueError\u001b[0m                                Traceback (most recent call last)",
      "Cell \u001b[1;32mIn[46], line 1\u001b[0m\n\u001b[1;32m----> 1\u001b[0m y_test \u001b[38;5;241m=\u001b[39m pt\u001b[38;5;241m.\u001b[39mtransform(y_test)\n",
      "File \u001b[1;32m~\\anaconda4\\Lib\\site-packages\\sklearn\\utils\\_set_output.py:140\u001b[0m, in \u001b[0;36m_wrap_method_output.<locals>.wrapped\u001b[1;34m(self, X, *args, **kwargs)\u001b[0m\n\u001b[0;32m    138\u001b[0m \u001b[38;5;129m@wraps\u001b[39m(f)\n\u001b[0;32m    139\u001b[0m \u001b[38;5;28;01mdef\u001b[39;00m \u001b[38;5;21mwrapped\u001b[39m(\u001b[38;5;28mself\u001b[39m, X, \u001b[38;5;241m*\u001b[39margs, \u001b[38;5;241m*\u001b[39m\u001b[38;5;241m*\u001b[39mkwargs):\n\u001b[1;32m--> 140\u001b[0m     data_to_wrap \u001b[38;5;241m=\u001b[39m f(\u001b[38;5;28mself\u001b[39m, X, \u001b[38;5;241m*\u001b[39margs, \u001b[38;5;241m*\u001b[39m\u001b[38;5;241m*\u001b[39mkwargs)\n\u001b[0;32m    141\u001b[0m     \u001b[38;5;28;01mif\u001b[39;00m \u001b[38;5;28misinstance\u001b[39m(data_to_wrap, \u001b[38;5;28mtuple\u001b[39m):\n\u001b[0;32m    142\u001b[0m         \u001b[38;5;66;03m# only wrap the first output for cross decomposition\u001b[39;00m\n\u001b[0;32m    143\u001b[0m         return_tuple \u001b[38;5;241m=\u001b[39m (\n\u001b[0;32m    144\u001b[0m             _wrap_data_with_container(method, data_to_wrap[\u001b[38;5;241m0\u001b[39m], X, \u001b[38;5;28mself\u001b[39m),\n\u001b[0;32m    145\u001b[0m             \u001b[38;5;241m*\u001b[39mdata_to_wrap[\u001b[38;5;241m1\u001b[39m:],\n\u001b[0;32m    146\u001b[0m         )\n",
      "File \u001b[1;32m~\\anaconda4\\Lib\\site-packages\\sklearn\\preprocessing\\_data.py:3204\u001b[0m, in \u001b[0;36mPowerTransformer.transform\u001b[1;34m(self, X)\u001b[0m\n\u001b[0;32m   3191\u001b[0m \u001b[38;5;250m\u001b[39m\u001b[38;5;124;03m\"\"\"Apply the power transform to each feature using the fitted lambdas.\u001b[39;00m\n\u001b[0;32m   3192\u001b[0m \n\u001b[0;32m   3193\u001b[0m \u001b[38;5;124;03mParameters\u001b[39;00m\n\u001b[1;32m   (...)\u001b[0m\n\u001b[0;32m   3201\u001b[0m \u001b[38;5;124;03m    The transformed data.\u001b[39;00m\n\u001b[0;32m   3202\u001b[0m \u001b[38;5;124;03m\"\"\"\u001b[39;00m\n\u001b[0;32m   3203\u001b[0m check_is_fitted(\u001b[38;5;28mself\u001b[39m)\n\u001b[1;32m-> 3204\u001b[0m X \u001b[38;5;241m=\u001b[39m \u001b[38;5;28mself\u001b[39m\u001b[38;5;241m.\u001b[39m_check_input(X, in_fit\u001b[38;5;241m=\u001b[39m\u001b[38;5;28;01mFalse\u001b[39;00m, check_positive\u001b[38;5;241m=\u001b[39m\u001b[38;5;28;01mTrue\u001b[39;00m, check_shape\u001b[38;5;241m=\u001b[39m\u001b[38;5;28;01mTrue\u001b[39;00m)\n\u001b[0;32m   3206\u001b[0m transform_function \u001b[38;5;241m=\u001b[39m {\n\u001b[0;32m   3207\u001b[0m     \u001b[38;5;124m\"\u001b[39m\u001b[38;5;124mbox-cox\u001b[39m\u001b[38;5;124m\"\u001b[39m: boxcox,\n\u001b[0;32m   3208\u001b[0m     \u001b[38;5;124m\"\u001b[39m\u001b[38;5;124myeo-johnson\u001b[39m\u001b[38;5;124m\"\u001b[39m: \u001b[38;5;28mself\u001b[39m\u001b[38;5;241m.\u001b[39m_yeo_johnson_transform,\n\u001b[0;32m   3209\u001b[0m }[\u001b[38;5;28mself\u001b[39m\u001b[38;5;241m.\u001b[39mmethod]\n\u001b[0;32m   3210\u001b[0m \u001b[38;5;28;01mfor\u001b[39;00m i, lmbda \u001b[38;5;129;01min\u001b[39;00m \u001b[38;5;28menumerate\u001b[39m(\u001b[38;5;28mself\u001b[39m\u001b[38;5;241m.\u001b[39mlambdas_):\n",
      "File \u001b[1;32m~\\anaconda4\\Lib\\site-packages\\sklearn\\preprocessing\\_data.py:3385\u001b[0m, in \u001b[0;36mPowerTransformer._check_input\u001b[1;34m(self, X, in_fit, check_positive, check_shape)\u001b[0m\n\u001b[0;32m   3367\u001b[0m \u001b[38;5;28;01mdef\u001b[39;00m \u001b[38;5;21m_check_input\u001b[39m(\u001b[38;5;28mself\u001b[39m, X, in_fit, check_positive\u001b[38;5;241m=\u001b[39m\u001b[38;5;28;01mFalse\u001b[39;00m, check_shape\u001b[38;5;241m=\u001b[39m\u001b[38;5;28;01mFalse\u001b[39;00m):\n\u001b[0;32m   3368\u001b[0m \u001b[38;5;250m    \u001b[39m\u001b[38;5;124;03m\"\"\"Validate the input before fit and transform.\u001b[39;00m\n\u001b[0;32m   3369\u001b[0m \n\u001b[0;32m   3370\u001b[0m \u001b[38;5;124;03m    Parameters\u001b[39;00m\n\u001b[1;32m   (...)\u001b[0m\n\u001b[0;32m   3383\u001b[0m \u001b[38;5;124;03m        If True, check that n_features matches the length of self.lambdas_\u001b[39;00m\n\u001b[0;32m   3384\u001b[0m \u001b[38;5;124;03m    \"\"\"\u001b[39;00m\n\u001b[1;32m-> 3385\u001b[0m     X \u001b[38;5;241m=\u001b[39m \u001b[38;5;28mself\u001b[39m\u001b[38;5;241m.\u001b[39m_validate_data(\n\u001b[0;32m   3386\u001b[0m         X,\n\u001b[0;32m   3387\u001b[0m         ensure_2d\u001b[38;5;241m=\u001b[39m\u001b[38;5;28;01mTrue\u001b[39;00m,\n\u001b[0;32m   3388\u001b[0m         dtype\u001b[38;5;241m=\u001b[39mFLOAT_DTYPES,\n\u001b[0;32m   3389\u001b[0m         copy\u001b[38;5;241m=\u001b[39m\u001b[38;5;28mself\u001b[39m\u001b[38;5;241m.\u001b[39mcopy,\n\u001b[0;32m   3390\u001b[0m         force_all_finite\u001b[38;5;241m=\u001b[39m\u001b[38;5;124m\"\u001b[39m\u001b[38;5;124mallow-nan\u001b[39m\u001b[38;5;124m\"\u001b[39m,\n\u001b[0;32m   3391\u001b[0m         reset\u001b[38;5;241m=\u001b[39min_fit,\n\u001b[0;32m   3392\u001b[0m     )\n\u001b[0;32m   3394\u001b[0m     \u001b[38;5;28;01mwith\u001b[39;00m warnings\u001b[38;5;241m.\u001b[39mcatch_warnings():\n\u001b[0;32m   3395\u001b[0m         warnings\u001b[38;5;241m.\u001b[39mfilterwarnings(\u001b[38;5;124m\"\u001b[39m\u001b[38;5;124mignore\u001b[39m\u001b[38;5;124m\"\u001b[39m, \u001b[38;5;124mr\u001b[39m\u001b[38;5;124m\"\u001b[39m\u001b[38;5;124mAll-NaN (slice|axis) encountered\u001b[39m\u001b[38;5;124m\"\u001b[39m)\n",
      "File \u001b[1;32m~\\anaconda4\\Lib\\site-packages\\sklearn\\base.py:604\u001b[0m, in \u001b[0;36mBaseEstimator._validate_data\u001b[1;34m(self, X, y, reset, validate_separately, cast_to_ndarray, **check_params)\u001b[0m\n\u001b[0;32m    602\u001b[0m         out \u001b[38;5;241m=\u001b[39m X, y\n\u001b[0;32m    603\u001b[0m \u001b[38;5;28;01melif\u001b[39;00m \u001b[38;5;129;01mnot\u001b[39;00m no_val_X \u001b[38;5;129;01mand\u001b[39;00m no_val_y:\n\u001b[1;32m--> 604\u001b[0m     out \u001b[38;5;241m=\u001b[39m check_array(X, input_name\u001b[38;5;241m=\u001b[39m\u001b[38;5;124m\"\u001b[39m\u001b[38;5;124mX\u001b[39m\u001b[38;5;124m\"\u001b[39m, \u001b[38;5;241m*\u001b[39m\u001b[38;5;241m*\u001b[39mcheck_params)\n\u001b[0;32m    605\u001b[0m \u001b[38;5;28;01melif\u001b[39;00m no_val_X \u001b[38;5;129;01mand\u001b[39;00m \u001b[38;5;129;01mnot\u001b[39;00m no_val_y:\n\u001b[0;32m    606\u001b[0m     out \u001b[38;5;241m=\u001b[39m _check_y(y, \u001b[38;5;241m*\u001b[39m\u001b[38;5;241m*\u001b[39mcheck_params)\n",
      "File \u001b[1;32m~\\anaconda4\\Lib\\site-packages\\sklearn\\utils\\validation.py:940\u001b[0m, in \u001b[0;36mcheck_array\u001b[1;34m(array, accept_sparse, accept_large_sparse, dtype, order, copy, force_all_finite, ensure_2d, allow_nd, ensure_min_samples, ensure_min_features, estimator, input_name)\u001b[0m\n\u001b[0;32m    938\u001b[0m     \u001b[38;5;66;03m# If input is 1D raise error\u001b[39;00m\n\u001b[0;32m    939\u001b[0m     \u001b[38;5;28;01mif\u001b[39;00m array\u001b[38;5;241m.\u001b[39mndim \u001b[38;5;241m==\u001b[39m \u001b[38;5;241m1\u001b[39m:\n\u001b[1;32m--> 940\u001b[0m         \u001b[38;5;28;01mraise\u001b[39;00m \u001b[38;5;167;01mValueError\u001b[39;00m(\n\u001b[0;32m    941\u001b[0m             \u001b[38;5;124m\"\u001b[39m\u001b[38;5;124mExpected 2D array, got 1D array instead:\u001b[39m\u001b[38;5;130;01m\\n\u001b[39;00m\u001b[38;5;124marray=\u001b[39m\u001b[38;5;132;01m{}\u001b[39;00m\u001b[38;5;124m.\u001b[39m\u001b[38;5;130;01m\\n\u001b[39;00m\u001b[38;5;124m\"\u001b[39m\n\u001b[0;32m    942\u001b[0m             \u001b[38;5;124m\"\u001b[39m\u001b[38;5;124mReshape your data either using array.reshape(-1, 1) if \u001b[39m\u001b[38;5;124m\"\u001b[39m\n\u001b[0;32m    943\u001b[0m             \u001b[38;5;124m\"\u001b[39m\u001b[38;5;124myour data has a single feature or array.reshape(1, -1) \u001b[39m\u001b[38;5;124m\"\u001b[39m\n\u001b[0;32m    944\u001b[0m             \u001b[38;5;124m\"\u001b[39m\u001b[38;5;124mif it contains a single sample.\u001b[39m\u001b[38;5;124m\"\u001b[39m\u001b[38;5;241m.\u001b[39mformat(array)\n\u001b[0;32m    945\u001b[0m         )\n\u001b[0;32m    947\u001b[0m \u001b[38;5;28;01mif\u001b[39;00m dtype_numeric \u001b[38;5;129;01mand\u001b[39;00m \u001b[38;5;28mhasattr\u001b[39m(array\u001b[38;5;241m.\u001b[39mdtype, \u001b[38;5;124m\"\u001b[39m\u001b[38;5;124mkind\u001b[39m\u001b[38;5;124m\"\u001b[39m) \u001b[38;5;129;01mand\u001b[39;00m array\u001b[38;5;241m.\u001b[39mdtype\u001b[38;5;241m.\u001b[39mkind \u001b[38;5;129;01min\u001b[39;00m \u001b[38;5;124m\"\u001b[39m\u001b[38;5;124mUSV\u001b[39m\u001b[38;5;124m\"\u001b[39m:\n\u001b[0;32m    948\u001b[0m     \u001b[38;5;28;01mraise\u001b[39;00m \u001b[38;5;167;01mValueError\u001b[39;00m(\n\u001b[0;32m    949\u001b[0m         \u001b[38;5;124m\"\u001b[39m\u001b[38;5;124mdtype=\u001b[39m\u001b[38;5;124m'\u001b[39m\u001b[38;5;124mnumeric\u001b[39m\u001b[38;5;124m'\u001b[39m\u001b[38;5;124m is not compatible with arrays of bytes/strings.\u001b[39m\u001b[38;5;124m\"\u001b[39m\n\u001b[0;32m    950\u001b[0m         \u001b[38;5;124m\"\u001b[39m\u001b[38;5;124mConvert your data to numeric values explicitly instead.\u001b[39m\u001b[38;5;124m\"\u001b[39m\n\u001b[0;32m    951\u001b[0m     )\n",
      "\u001b[1;31mValueError\u001b[0m: Expected 2D array, got 1D array instead:\narray=[475.423848 350.4      482.4      ...  41.182611 364.8       89.411365].\nReshape your data either using array.reshape(-1, 1) if your data has a single feature or array.reshape(1, -1) if it contains a single sample."
     ]
    }
   ],
   "source": [
    "y_test = pt.transform(y_test)"
   ]
  },
  {
   "cell_type": "code",
   "execution_count": 49,
   "id": "5189aa54",
   "metadata": {},
   "outputs": [
    {
     "ename": "NameError",
     "evalue": "name 'x_train' is not defined",
     "output_type": "error",
     "traceback": [
      "\u001b[1;31m---------------------------------------------------------------------------\u001b[0m",
      "\u001b[1;31mNameError\u001b[0m                                 Traceback (most recent call last)",
      "Cell \u001b[1;32mIn[49], line 5\u001b[0m\n\u001b[0;32m      3\u001b[0m y_train \u001b[38;5;241m=\u001b[39m pd\u001b[38;5;241m.\u001b[39mDataFrame(y_train)\n\u001b[0;32m      4\u001b[0m X_train \u001b[38;5;241m=\u001b[39m pd\u001b[38;5;241m.\u001b[39mDataFrame (X_train)\n\u001b[1;32m----> 5\u001b[0m train \u001b[38;5;241m=\u001b[39m pd\u001b[38;5;241m.\u001b[39mconcat([x_train,y_train]); axis\u001b[38;5;241m=\u001b[39m\u001b[38;5;241m1\u001b[39m\n\u001b[0;32m      6\u001b[0m train \u001b[38;5;241m=\u001b[39m train\u001b[38;5;241m.\u001b[39mdropna()\n",
      "\u001b[1;31mNameError\u001b[0m: name 'x_train' is not defined"
     ]
    }
   ],
   "source": [
    "# Drop Null values from y-train and X_train \n",
    "\n",
    "y_train = pd.DataFrame(y_train)\n",
    "X_train = pd.DataFrame (X_train)\n",
    "train = pd.concat([x_train,y_train]); axis=1\n",
    "train = train.dropna()"
   ]
  },
  {
   "cell_type": "code",
   "execution_count": 50,
   "id": "dda39abc",
   "metadata": {},
   "outputs": [
    {
     "ename": "NameError",
     "evalue": "name 'train' is not defined",
     "output_type": "error",
     "traceback": [
      "\u001b[1;31m---------------------------------------------------------------------------\u001b[0m",
      "\u001b[1;31mNameError\u001b[0m                                 Traceback (most recent call last)",
      "Cell \u001b[1;32mIn[50], line 1\u001b[0m\n\u001b[1;32m----> 1\u001b[0m X_train \u001b[38;5;241m=\u001b[39m train\u001b[38;5;241m.\u001b[39miloc [:,:\u001b[38;5;241m58\u001b[39m]\n\u001b[0;32m      2\u001b[0m y_train \u001b[38;5;241m=\u001b[39m train\u001b[38;5;241m.\u001b[39miloc [:,\u001b[38;5;241m-\u001b[39m\u001b[38;5;241m1\u001b[39m]\n",
      "\u001b[1;31mNameError\u001b[0m: name 'train' is not defined"
     ]
    }
   ],
   "source": [
    "X_train = train.iloc [:,:58]\n",
    "y_train = train.iloc [:,-1]"
   ]
  },
  {
   "cell_type": "markdown",
   "id": "f2b8c60a",
   "metadata": {},
   "source": [
    "### Model Training"
   ]
  },
  {
   "cell_type": "code",
   "execution_count": 120,
   "id": "3039a49e",
   "metadata": {},
   "outputs": [],
   "source": [
    "from sklearn.linear_model import LinearRegression"
   ]
  },
  {
   "cell_type": "code",
   "execution_count": 176,
   "id": "6275b5c9",
   "metadata": {},
   "outputs": [],
   "source": [
    "lm = LinearRegression()\n",
    "model = lm.fit(X_train_scaled,y_train)"
   ]
  },
  {
   "cell_type": "code",
   "execution_count": 122,
   "id": "01b29bce",
   "metadata": {},
   "outputs": [
    {
     "data": {
      "text/plain": [
       "435.1939950744817"
      ]
     },
     "execution_count": 122,
     "metadata": {},
     "output_type": "execute_result"
    }
   ],
   "source": [
    "model.intercept_"
   ]
  },
  {
   "cell_type": "code",
   "execution_count": 123,
   "id": "9aad8876",
   "metadata": {},
   "outputs": [
    {
     "data": {
      "text/plain": [
       "array([-5.81437145e+00, -8.17525268e+00,  6.02502546e-01, -1.73301142e+00,\n",
       "       -8.60205401e+00,  1.84451758e+02,  5.34193661e+00, -1.82812079e+00,\n",
       "       -8.22548520e-01,  2.19295166e+00, -3.72115616e-01,  6.32866042e+14,\n",
       "        8.05828145e+14,  4.75677120e+14,  7.36972056e+14,  4.60820683e+14,\n",
       "       -7.42781497e+14, -7.42781497e+14, -7.64964754e+14, -1.75538688e+15,\n",
       "       -7.73430554e+14, -6.14002636e+14, -1.57663904e+15, -2.79277096e+15,\n",
       "       -2.79277096e+15,  1.69797420e+15,  2.07782094e+15,  1.64384254e+15,\n",
       "       -4.77638254e+14, -6.57733348e+14, -5.90862991e+14,  4.43309785e+14,\n",
       "        1.19973896e+15, -1.27770137e+15,  1.00026496e+15,  1.24638657e+15,\n",
       "        1.63118772e+15,  1.18728251e+15,  1.45913399e+15,  1.67963690e+15,\n",
       "        1.11416309e+15,  1.68742163e+15,  1.51329061e+15, -6.24578353e+14,\n",
       "       -5.91593444e+14, -4.65644475e+14, -3.94728543e+14,  1.73158125e+15,\n",
       "        1.59669073e+15,  1.42386616e+15,  1.26783634e+15,  6.33733880e+14,\n",
       "        1.64685584e+14,  1.76374879e+14,  4.92003815e+14,  2.80549450e+14,\n",
       "        5.04978672e+14,  0.00000000e+00])"
      ]
     },
     "execution_count": 123,
     "metadata": {},
     "output_type": "execute_result"
    }
   ],
   "source": [
    "model.coef_"
   ]
  },
  {
   "cell_type": "markdown",
   "id": "e2b7af84",
   "metadata": {},
   "source": [
    "### Predictions"
   ]
  },
  {
   "cell_type": "code",
   "execution_count": 124,
   "id": "9b6ce97e",
   "metadata": {},
   "outputs": [],
   "source": [
    "random_pick = X_test.sample()"
   ]
  },
  {
   "cell_type": "code",
   "execution_count": 125,
   "id": "3ae1da10",
   "metadata": {},
   "outputs": [
    {
     "data": {
      "text/html": [
       "<div>\n",
       "<style scoped>\n",
       "    .dataframe tbody tr th:only-of-type {\n",
       "        vertical-align: middle;\n",
       "    }\n",
       "\n",
       "    .dataframe tbody tr th {\n",
       "        vertical-align: top;\n",
       "    }\n",
       "\n",
       "    .dataframe thead th {\n",
       "        text-align: right;\n",
       "    }\n",
       "</style>\n",
       "<table border=\"1\" class=\"dataframe\">\n",
       "  <thead>\n",
       "    <tr style=\"text-align: right;\">\n",
       "      <th></th>\n",
       "      <th>coverage</th>\n",
       "      <th>education</th>\n",
       "      <th>vehicle_size</th>\n",
       "      <th>customer_lifetime_value</th>\n",
       "      <th>income</th>\n",
       "      <th>monthly_premium_auto</th>\n",
       "      <th>months_since_last_claim</th>\n",
       "      <th>months_since_policy_inception</th>\n",
       "      <th>number_of_open_complaints</th>\n",
       "      <th>number_of_policies</th>\n",
       "      <th>...</th>\n",
       "      <th>sales_channel_Branch</th>\n",
       "      <th>sales_channel_Call Center</th>\n",
       "      <th>sales_channel_Web</th>\n",
       "      <th>vehicle_class_Four-Door Car</th>\n",
       "      <th>vehicle_class_Luxury Car</th>\n",
       "      <th>vehicle_class_Luxury SUV</th>\n",
       "      <th>vehicle_class_SUV</th>\n",
       "      <th>vehicle_class_Sports Car</th>\n",
       "      <th>vehicle_class_Two-Door Car</th>\n",
       "      <th>vehicle_type_A</th>\n",
       "    </tr>\n",
       "  </thead>\n",
       "  <tbody>\n",
       "    <tr>\n",
       "      <th>1562</th>\n",
       "      <td>0</td>\n",
       "      <td>0</td>\n",
       "      <td>1</td>\n",
       "      <td>4697.152892</td>\n",
       "      <td>0</td>\n",
       "      <td>67</td>\n",
       "      <td>10.0</td>\n",
       "      <td>75</td>\n",
       "      <td>0.0</td>\n",
       "      <td>7</td>\n",
       "      <td>...</td>\n",
       "      <td>1</td>\n",
       "      <td>0</td>\n",
       "      <td>0</td>\n",
       "      <td>1</td>\n",
       "      <td>0</td>\n",
       "      <td>0</td>\n",
       "      <td>0</td>\n",
       "      <td>0</td>\n",
       "      <td>0</td>\n",
       "      <td>1</td>\n",
       "    </tr>\n",
       "  </tbody>\n",
       "</table>\n",
       "<p>1 rows × 58 columns</p>\n",
       "</div>"
      ],
      "text/plain": [
       "      coverage  education  vehicle_size  customer_lifetime_value  income  \\\n",
       "1562         0          0             1              4697.152892       0   \n",
       "\n",
       "      monthly_premium_auto  months_since_last_claim  \\\n",
       "1562                    67                     10.0   \n",
       "\n",
       "      months_since_policy_inception  number_of_open_complaints  \\\n",
       "1562                             75                        0.0   \n",
       "\n",
       "      number_of_policies  ...  sales_channel_Branch  \\\n",
       "1562                   7  ...                     1   \n",
       "\n",
       "      sales_channel_Call Center  sales_channel_Web  \\\n",
       "1562                          0                  0   \n",
       "\n",
       "      vehicle_class_Four-Door Car  vehicle_class_Luxury Car  \\\n",
       "1562                            1                         0   \n",
       "\n",
       "      vehicle_class_Luxury SUV  vehicle_class_SUV  vehicle_class_Sports Car  \\\n",
       "1562                         0                  0                         0   \n",
       "\n",
       "      vehicle_class_Two-Door Car  vehicle_type_A  \n",
       "1562                           0               1  \n",
       "\n",
       "[1 rows x 58 columns]"
      ]
     },
     "execution_count": 125,
     "metadata": {},
     "output_type": "execute_result"
    }
   ],
   "source": [
    "random_pick"
   ]
  },
  {
   "cell_type": "code",
   "execution_count": 126,
   "id": "df98be05",
   "metadata": {},
   "outputs": [
    {
     "name": "stderr",
     "output_type": "stream",
     "text": [
      "C:\\Users\\flori\\anaconda4\\Lib\\site-packages\\sklearn\\base.py:457: UserWarning: X has feature names, but LinearRegression was fitted without feature names\n",
      "  warnings.warn(\n"
     ]
    },
    {
     "data": {
      "text/plain": [
       "array([-1.101005e+15])"
      ]
     },
     "execution_count": 126,
     "metadata": {},
     "output_type": "execute_result"
    }
   ],
   "source": [
    "model.predict(random_pick)"
   ]
  },
  {
   "cell_type": "code",
   "execution_count": null,
   "id": "45205abd",
   "metadata": {},
   "outputs": [],
   "source": []
  },
  {
   "cell_type": "markdown",
   "id": "f54cdfe2",
   "metadata": {},
   "source": [
    "### Create predictions for test set (input test set into the model)"
   ]
  },
  {
   "cell_type": "code",
   "execution_count": 127,
   "id": "5fd7e018",
   "metadata": {},
   "outputs": [],
   "source": [
    "y_pred = model.predict(X_test_scaled)"
   ]
  },
  {
   "cell_type": "code",
   "execution_count": 128,
   "id": "06b20e31",
   "metadata": {},
   "outputs": [],
   "source": [
    "y_pred = pd.DataFrame(y_pred) #uses prodictions stored in y-pred and creates a DF called y_pred as well"
   ]
  },
  {
   "cell_type": "code",
   "execution_count": 129,
   "id": "b35f38e0",
   "metadata": {},
   "outputs": [],
   "source": [
    "y_test = y_test.reset_index(drop=True)"
   ]
  },
  {
   "cell_type": "code",
   "execution_count": 130,
   "id": "317dbad2",
   "metadata": {},
   "outputs": [],
   "source": [
    "residuals_df = pd.concat([y_test,y_pred],axis=1)"
   ]
  },
  {
   "cell_type": "code",
   "execution_count": 131,
   "id": "3bf2448a",
   "metadata": {},
   "outputs": [],
   "source": [
    "residuals_df = residuals_df.rename(columns={\"total_claim_amount\":\"y_test\", 0:\"y_pred\"})"
   ]
  },
  {
   "cell_type": "code",
   "execution_count": 132,
   "id": "94ac4645",
   "metadata": {},
   "outputs": [],
   "source": [
    "residuals_df[\"residual\"] = residuals_df[\"y_test\"]-residuals_df[\"y_pred\"]"
   ]
  },
  {
   "cell_type": "code",
   "execution_count": 133,
   "id": "84f523f4",
   "metadata": {},
   "outputs": [
    {
     "data": {
      "text/html": [
       "<div>\n",
       "<style scoped>\n",
       "    .dataframe tbody tr th:only-of-type {\n",
       "        vertical-align: middle;\n",
       "    }\n",
       "\n",
       "    .dataframe tbody tr th {\n",
       "        vertical-align: top;\n",
       "    }\n",
       "\n",
       "    .dataframe thead th {\n",
       "        text-align: right;\n",
       "    }\n",
       "</style>\n",
       "<table border=\"1\" class=\"dataframe\">\n",
       "  <thead>\n",
       "    <tr style=\"text-align: right;\">\n",
       "      <th></th>\n",
       "      <th>y_test</th>\n",
       "      <th>y_pred</th>\n",
       "      <th>residual</th>\n",
       "    </tr>\n",
       "  </thead>\n",
       "  <tbody>\n",
       "    <tr>\n",
       "      <th>0</th>\n",
       "      <td>475.423848</td>\n",
       "      <td>381.774071</td>\n",
       "      <td>93.649777</td>\n",
       "    </tr>\n",
       "    <tr>\n",
       "      <th>1</th>\n",
       "      <td>350.400000</td>\n",
       "      <td>429.206788</td>\n",
       "      <td>-78.806788</td>\n",
       "    </tr>\n",
       "    <tr>\n",
       "      <th>2</th>\n",
       "      <td>482.400000</td>\n",
       "      <td>554.024071</td>\n",
       "      <td>-71.624071</td>\n",
       "    </tr>\n",
       "    <tr>\n",
       "      <th>3</th>\n",
       "      <td>673.342650</td>\n",
       "      <td>580.144288</td>\n",
       "      <td>93.198362</td>\n",
       "    </tr>\n",
       "    <tr>\n",
       "      <th>4</th>\n",
       "      <td>302.400000</td>\n",
       "      <td>321.831788</td>\n",
       "      <td>-19.431788</td>\n",
       "    </tr>\n",
       "  </tbody>\n",
       "</table>\n",
       "</div>"
      ],
      "text/plain": [
       "       y_test      y_pred   residual\n",
       "0  475.423848  381.774071  93.649777\n",
       "1  350.400000  429.206788 -78.806788\n",
       "2  482.400000  554.024071 -71.624071\n",
       "3  673.342650  580.144288  93.198362\n",
       "4  302.400000  321.831788 -19.431788"
      ]
     },
     "execution_count": 133,
     "metadata": {},
     "output_type": "execute_result"
    }
   ],
   "source": [
    "residuals_df.head()"
   ]
  },
  {
   "cell_type": "code",
   "execution_count": null,
   "id": "6d9386f5",
   "metadata": {},
   "outputs": [],
   "source": []
  },
  {
   "cell_type": "markdown",
   "id": "2b7466de",
   "metadata": {},
   "source": [
    "### Calculating metrics"
   ]
  },
  {
   "cell_type": "code",
   "execution_count": 134,
   "id": "e79c0fd5",
   "metadata": {},
   "outputs": [],
   "source": [
    "mean_error = residuals_df[\"residual\"].mean()"
   ]
  },
  {
   "cell_type": "code",
   "execution_count": 135,
   "id": "e6fe5fcf",
   "metadata": {},
   "outputs": [
    {
     "data": {
      "text/plain": [
       "2.878502294391808"
      ]
     },
     "execution_count": 135,
     "metadata": {},
     "output_type": "execute_result"
    }
   ],
   "source": [
    "mean_error"
   ]
  },
  {
   "cell_type": "code",
   "execution_count": 136,
   "id": "fd26f254",
   "metadata": {},
   "outputs": [],
   "source": [
    "from sklearn.metrics import mean_squared_error as mse , mean_absolute_error as mae"
   ]
  },
  {
   "cell_type": "code",
   "execution_count": 137,
   "id": "53891943",
   "metadata": {},
   "outputs": [
    {
     "data": {
      "text/plain": [
       "19305.13805409447"
      ]
     },
     "execution_count": 137,
     "metadata": {},
     "output_type": "execute_result"
    }
   ],
   "source": [
    "mse(y_test,y_pred)"
   ]
  },
  {
   "cell_type": "code",
   "execution_count": 138,
   "id": "b9879425",
   "metadata": {},
   "outputs": [
    {
     "data": {
      "text/plain": [
       "96.2808080365657"
      ]
     },
     "execution_count": 138,
     "metadata": {},
     "output_type": "execute_result"
    }
   ],
   "source": [
    "mae(y_test,y_pred)"
   ]
  },
  {
   "cell_type": "code",
   "execution_count": 149,
   "id": "af0326e7",
   "metadata": {},
   "outputs": [
    {
     "data": {
      "text/plain": [
       "138.94293092523444"
      ]
     },
     "execution_count": 149,
     "metadata": {},
     "output_type": "execute_result"
    }
   ],
   "source": [
    "rmse = mse(y_test,y_pred, squared = False)\n",
    "rmse # 138 Dollars on average off the actual claim"
   ]
  },
  {
   "cell_type": "code",
   "execution_count": 140,
   "id": "a0077b01",
   "metadata": {},
   "outputs": [],
   "source": [
    "from sklearn.metrics import r2_score"
   ]
  },
  {
   "cell_type": "markdown",
   "id": "427e4bac",
   "metadata": {},
   "source": [
    "### Computing R2_score for test_set"
   ]
  },
  {
   "cell_type": "code",
   "execution_count": 141,
   "id": "ca56a80d",
   "metadata": {},
   "outputs": [
    {
     "data": {
      "text/plain": [
       "0.77"
      ]
     },
     "execution_count": 141,
     "metadata": {},
     "output_type": "execute_result"
    }
   ],
   "source": [
    "from sklearn.metrics import r2_score\n",
    "round(r2_score(y_test, y_pred),2)"
   ]
  },
  {
   "cell_type": "markdown",
   "id": "4ce6303b",
   "metadata": {},
   "source": [
    "### COMPUTING R2_score for train_set\n"
   ]
  },
  {
   "cell_type": "code",
   "execution_count": 142,
   "id": "0657d357",
   "metadata": {},
   "outputs": [],
   "source": [
    "y_pred_train = pd.DataFrame(model.predict(X_train_scaled))"
   ]
  },
  {
   "cell_type": "code",
   "execution_count": 143,
   "id": "982b6366",
   "metadata": {},
   "outputs": [
    {
     "data": {
      "text/plain": [
       "0.7697894485712073"
      ]
     },
     "execution_count": 143,
     "metadata": {},
     "output_type": "execute_result"
    }
   ],
   "source": [
    "r2_score(y_train,y_pred_train)"
   ]
  },
  {
   "cell_type": "code",
   "execution_count": 144,
   "id": "a0e72886",
   "metadata": {},
   "outputs": [],
   "source": [
    "feature_names = list(X_train.columns)"
   ]
  },
  {
   "cell_type": "code",
   "execution_count": 145,
   "id": "2f9d54ff",
   "metadata": {},
   "outputs": [],
   "source": [
    "coefficients = model.coef_"
   ]
  },
  {
   "cell_type": "code",
   "execution_count": 146,
   "id": "1bf9aaa2",
   "metadata": {},
   "outputs": [
    {
     "data": {
      "text/html": [
       "<div>\n",
       "<style scoped>\n",
       "    .dataframe tbody tr th:only-of-type {\n",
       "        vertical-align: middle;\n",
       "    }\n",
       "\n",
       "    .dataframe tbody tr th {\n",
       "        vertical-align: top;\n",
       "    }\n",
       "\n",
       "    .dataframe thead th {\n",
       "        text-align: right;\n",
       "    }\n",
       "</style>\n",
       "<table border=\"1\" class=\"dataframe\">\n",
       "  <thead>\n",
       "    <tr style=\"text-align: right;\">\n",
       "      <th></th>\n",
       "      <th>name</th>\n",
       "      <th>coeff</th>\n",
       "    </tr>\n",
       "  </thead>\n",
       "  <tbody>\n",
       "    <tr>\n",
       "      <th>0</th>\n",
       "      <td>coverage</td>\n",
       "      <td>-5.814371e+00</td>\n",
       "    </tr>\n",
       "    <tr>\n",
       "      <th>1</th>\n",
       "      <td>education</td>\n",
       "      <td>-8.175253e+00</td>\n",
       "    </tr>\n",
       "    <tr>\n",
       "      <th>2</th>\n",
       "      <td>vehicle_size</td>\n",
       "      <td>6.025025e-01</td>\n",
       "    </tr>\n",
       "    <tr>\n",
       "      <th>3</th>\n",
       "      <td>customer_lifetime_value</td>\n",
       "      <td>-1.733011e+00</td>\n",
       "    </tr>\n",
       "    <tr>\n",
       "      <th>4</th>\n",
       "      <td>income</td>\n",
       "      <td>-8.602054e+00</td>\n",
       "    </tr>\n",
       "    <tr>\n",
       "      <th>5</th>\n",
       "      <td>monthly_premium_auto</td>\n",
       "      <td>1.844518e+02</td>\n",
       "    </tr>\n",
       "    <tr>\n",
       "      <th>6</th>\n",
       "      <td>months_since_last_claim</td>\n",
       "      <td>5.341937e+00</td>\n",
       "    </tr>\n",
       "    <tr>\n",
       "      <th>7</th>\n",
       "      <td>months_since_policy_inception</td>\n",
       "      <td>-1.828121e+00</td>\n",
       "    </tr>\n",
       "    <tr>\n",
       "      <th>8</th>\n",
       "      <td>number_of_open_complaints</td>\n",
       "      <td>-8.225485e-01</td>\n",
       "    </tr>\n",
       "    <tr>\n",
       "      <th>9</th>\n",
       "      <td>number_of_policies</td>\n",
       "      <td>2.192952e+00</td>\n",
       "    </tr>\n",
       "    <tr>\n",
       "      <th>10</th>\n",
       "      <td>month</td>\n",
       "      <td>-3.721156e-01</td>\n",
       "    </tr>\n",
       "    <tr>\n",
       "      <th>11</th>\n",
       "      <td>state_Arizona</td>\n",
       "      <td>6.328660e+14</td>\n",
       "    </tr>\n",
       "    <tr>\n",
       "      <th>12</th>\n",
       "      <td>state_California</td>\n",
       "      <td>8.058281e+14</td>\n",
       "    </tr>\n",
       "    <tr>\n",
       "      <th>13</th>\n",
       "      <td>state_Nevada</td>\n",
       "      <td>4.756771e+14</td>\n",
       "    </tr>\n",
       "    <tr>\n",
       "      <th>14</th>\n",
       "      <td>state_Oregon</td>\n",
       "      <td>7.369721e+14</td>\n",
       "    </tr>\n",
       "    <tr>\n",
       "      <th>15</th>\n",
       "      <td>state_Washington</td>\n",
       "      <td>4.608207e+14</td>\n",
       "    </tr>\n",
       "    <tr>\n",
       "      <th>16</th>\n",
       "      <td>response_No</td>\n",
       "      <td>-7.427815e+14</td>\n",
       "    </tr>\n",
       "    <tr>\n",
       "      <th>17</th>\n",
       "      <td>response_Yes</td>\n",
       "      <td>-7.427815e+14</td>\n",
       "    </tr>\n",
       "    <tr>\n",
       "      <th>18</th>\n",
       "      <td>employmentstatus_Disabled</td>\n",
       "      <td>-7.649648e+14</td>\n",
       "    </tr>\n",
       "    <tr>\n",
       "      <th>19</th>\n",
       "      <td>employmentstatus_Employed</td>\n",
       "      <td>-1.755387e+15</td>\n",
       "    </tr>\n",
       "    <tr>\n",
       "      <th>20</th>\n",
       "      <td>employmentstatus_Medical Leave</td>\n",
       "      <td>-7.734306e+14</td>\n",
       "    </tr>\n",
       "    <tr>\n",
       "      <th>21</th>\n",
       "      <td>employmentstatus_Retired</td>\n",
       "      <td>-6.140026e+14</td>\n",
       "    </tr>\n",
       "    <tr>\n",
       "      <th>22</th>\n",
       "      <td>employmentstatus_Unemployed</td>\n",
       "      <td>-1.576639e+15</td>\n",
       "    </tr>\n",
       "    <tr>\n",
       "      <th>23</th>\n",
       "      <td>gender_F</td>\n",
       "      <td>-2.792771e+15</td>\n",
       "    </tr>\n",
       "    <tr>\n",
       "      <th>24</th>\n",
       "      <td>gender_M</td>\n",
       "      <td>-2.792771e+15</td>\n",
       "    </tr>\n",
       "    <tr>\n",
       "      <th>25</th>\n",
       "      <td>location_code_Rural</td>\n",
       "      <td>1.697974e+15</td>\n",
       "    </tr>\n",
       "    <tr>\n",
       "      <th>26</th>\n",
       "      <td>location_code_Suburban</td>\n",
       "      <td>2.077821e+15</td>\n",
       "    </tr>\n",
       "    <tr>\n",
       "      <th>27</th>\n",
       "      <td>location_code_Urban</td>\n",
       "      <td>1.643843e+15</td>\n",
       "    </tr>\n",
       "    <tr>\n",
       "      <th>28</th>\n",
       "      <td>marital_status_Divorced</td>\n",
       "      <td>-4.776383e+14</td>\n",
       "    </tr>\n",
       "    <tr>\n",
       "      <th>29</th>\n",
       "      <td>marital_status_Married</td>\n",
       "      <td>-6.577333e+14</td>\n",
       "    </tr>\n",
       "    <tr>\n",
       "      <th>30</th>\n",
       "      <td>marital_status_Single</td>\n",
       "      <td>-5.908630e+14</td>\n",
       "    </tr>\n",
       "    <tr>\n",
       "      <th>31</th>\n",
       "      <td>policy_type_Corporate Auto</td>\n",
       "      <td>4.433098e+14</td>\n",
       "    </tr>\n",
       "    <tr>\n",
       "      <th>32</th>\n",
       "      <td>policy_type_Personal Auto</td>\n",
       "      <td>1.199739e+15</td>\n",
       "    </tr>\n",
       "    <tr>\n",
       "      <th>33</th>\n",
       "      <td>policy_type_Special Auto</td>\n",
       "      <td>-1.277701e+15</td>\n",
       "    </tr>\n",
       "    <tr>\n",
       "      <th>34</th>\n",
       "      <td>policy_Corporate L1</td>\n",
       "      <td>1.000265e+15</td>\n",
       "    </tr>\n",
       "    <tr>\n",
       "      <th>35</th>\n",
       "      <td>policy_Corporate L2</td>\n",
       "      <td>1.246387e+15</td>\n",
       "    </tr>\n",
       "    <tr>\n",
       "      <th>36</th>\n",
       "      <td>policy_Corporate L3</td>\n",
       "      <td>1.631188e+15</td>\n",
       "    </tr>\n",
       "    <tr>\n",
       "      <th>37</th>\n",
       "      <td>policy_Personal L1</td>\n",
       "      <td>1.187283e+15</td>\n",
       "    </tr>\n",
       "    <tr>\n",
       "      <th>38</th>\n",
       "      <td>policy_Personal L2</td>\n",
       "      <td>1.459134e+15</td>\n",
       "    </tr>\n",
       "    <tr>\n",
       "      <th>39</th>\n",
       "      <td>policy_Personal L3</td>\n",
       "      <td>1.679637e+15</td>\n",
       "    </tr>\n",
       "    <tr>\n",
       "      <th>40</th>\n",
       "      <td>policy_Special L1</td>\n",
       "      <td>1.114163e+15</td>\n",
       "    </tr>\n",
       "    <tr>\n",
       "      <th>41</th>\n",
       "      <td>policy_Special L2</td>\n",
       "      <td>1.687422e+15</td>\n",
       "    </tr>\n",
       "    <tr>\n",
       "      <th>42</th>\n",
       "      <td>policy_Special L3</td>\n",
       "      <td>1.513291e+15</td>\n",
       "    </tr>\n",
       "    <tr>\n",
       "      <th>43</th>\n",
       "      <td>renew_offer_type_Offer1</td>\n",
       "      <td>-6.245784e+14</td>\n",
       "    </tr>\n",
       "    <tr>\n",
       "      <th>44</th>\n",
       "      <td>renew_offer_type_Offer2</td>\n",
       "      <td>-5.915934e+14</td>\n",
       "    </tr>\n",
       "    <tr>\n",
       "      <th>45</th>\n",
       "      <td>renew_offer_type_Offer3</td>\n",
       "      <td>-4.656445e+14</td>\n",
       "    </tr>\n",
       "    <tr>\n",
       "      <th>46</th>\n",
       "      <td>renew_offer_type_Offer4</td>\n",
       "      <td>-3.947285e+14</td>\n",
       "    </tr>\n",
       "    <tr>\n",
       "      <th>47</th>\n",
       "      <td>sales_channel_Agent</td>\n",
       "      <td>1.731581e+15</td>\n",
       "    </tr>\n",
       "    <tr>\n",
       "      <th>48</th>\n",
       "      <td>sales_channel_Branch</td>\n",
       "      <td>1.596691e+15</td>\n",
       "    </tr>\n",
       "    <tr>\n",
       "      <th>49</th>\n",
       "      <td>sales_channel_Call Center</td>\n",
       "      <td>1.423866e+15</td>\n",
       "    </tr>\n",
       "    <tr>\n",
       "      <th>50</th>\n",
       "      <td>sales_channel_Web</td>\n",
       "      <td>1.267836e+15</td>\n",
       "    </tr>\n",
       "    <tr>\n",
       "      <th>51</th>\n",
       "      <td>vehicle_class_Four-Door Car</td>\n",
       "      <td>6.337339e+14</td>\n",
       "    </tr>\n",
       "    <tr>\n",
       "      <th>52</th>\n",
       "      <td>vehicle_class_Luxury Car</td>\n",
       "      <td>1.646856e+14</td>\n",
       "    </tr>\n",
       "    <tr>\n",
       "      <th>53</th>\n",
       "      <td>vehicle_class_Luxury SUV</td>\n",
       "      <td>1.763749e+14</td>\n",
       "    </tr>\n",
       "    <tr>\n",
       "      <th>54</th>\n",
       "      <td>vehicle_class_SUV</td>\n",
       "      <td>4.920038e+14</td>\n",
       "    </tr>\n",
       "    <tr>\n",
       "      <th>55</th>\n",
       "      <td>vehicle_class_Sports Car</td>\n",
       "      <td>2.805495e+14</td>\n",
       "    </tr>\n",
       "    <tr>\n",
       "      <th>56</th>\n",
       "      <td>vehicle_class_Two-Door Car</td>\n",
       "      <td>5.049787e+14</td>\n",
       "    </tr>\n",
       "    <tr>\n",
       "      <th>57</th>\n",
       "      <td>vehicle_type_A</td>\n",
       "      <td>0.000000e+00</td>\n",
       "    </tr>\n",
       "  </tbody>\n",
       "</table>\n",
       "</div>"
      ],
      "text/plain": [
       "                              name         coeff\n",
       "0                         coverage -5.814371e+00\n",
       "1                        education -8.175253e+00\n",
       "2                     vehicle_size  6.025025e-01\n",
       "3          customer_lifetime_value -1.733011e+00\n",
       "4                           income -8.602054e+00\n",
       "5             monthly_premium_auto  1.844518e+02\n",
       "6          months_since_last_claim  5.341937e+00\n",
       "7    months_since_policy_inception -1.828121e+00\n",
       "8        number_of_open_complaints -8.225485e-01\n",
       "9               number_of_policies  2.192952e+00\n",
       "10                           month -3.721156e-01\n",
       "11                   state_Arizona  6.328660e+14\n",
       "12                state_California  8.058281e+14\n",
       "13                    state_Nevada  4.756771e+14\n",
       "14                    state_Oregon  7.369721e+14\n",
       "15                state_Washington  4.608207e+14\n",
       "16                     response_No -7.427815e+14\n",
       "17                    response_Yes -7.427815e+14\n",
       "18       employmentstatus_Disabled -7.649648e+14\n",
       "19       employmentstatus_Employed -1.755387e+15\n",
       "20  employmentstatus_Medical Leave -7.734306e+14\n",
       "21        employmentstatus_Retired -6.140026e+14\n",
       "22     employmentstatus_Unemployed -1.576639e+15\n",
       "23                        gender_F -2.792771e+15\n",
       "24                        gender_M -2.792771e+15\n",
       "25             location_code_Rural  1.697974e+15\n",
       "26          location_code_Suburban  2.077821e+15\n",
       "27             location_code_Urban  1.643843e+15\n",
       "28         marital_status_Divorced -4.776383e+14\n",
       "29          marital_status_Married -6.577333e+14\n",
       "30           marital_status_Single -5.908630e+14\n",
       "31      policy_type_Corporate Auto  4.433098e+14\n",
       "32       policy_type_Personal Auto  1.199739e+15\n",
       "33        policy_type_Special Auto -1.277701e+15\n",
       "34             policy_Corporate L1  1.000265e+15\n",
       "35             policy_Corporate L2  1.246387e+15\n",
       "36             policy_Corporate L3  1.631188e+15\n",
       "37              policy_Personal L1  1.187283e+15\n",
       "38              policy_Personal L2  1.459134e+15\n",
       "39              policy_Personal L3  1.679637e+15\n",
       "40               policy_Special L1  1.114163e+15\n",
       "41               policy_Special L2  1.687422e+15\n",
       "42               policy_Special L3  1.513291e+15\n",
       "43         renew_offer_type_Offer1 -6.245784e+14\n",
       "44         renew_offer_type_Offer2 -5.915934e+14\n",
       "45         renew_offer_type_Offer3 -4.656445e+14\n",
       "46         renew_offer_type_Offer4 -3.947285e+14\n",
       "47             sales_channel_Agent  1.731581e+15\n",
       "48            sales_channel_Branch  1.596691e+15\n",
       "49       sales_channel_Call Center  1.423866e+15\n",
       "50               sales_channel_Web  1.267836e+15\n",
       "51     vehicle_class_Four-Door Car  6.337339e+14\n",
       "52        vehicle_class_Luxury Car  1.646856e+14\n",
       "53        vehicle_class_Luxury SUV  1.763749e+14\n",
       "54               vehicle_class_SUV  4.920038e+14\n",
       "55        vehicle_class_Sports Car  2.805495e+14\n",
       "56      vehicle_class_Two-Door Car  5.049787e+14\n",
       "57                  vehicle_type_A  0.000000e+00"
      ]
     },
     "execution_count": 146,
     "metadata": {},
     "output_type": "execute_result"
    }
   ],
   "source": [
    "fi_dict = {\"name\":feature_names,\"coeff\":coefficients}\n",
    "fi_df = pd.DataFrame(fi_dict)\n",
    "fi_df"
   ]
  },
  {
   "cell_type": "code",
   "execution_count": 147,
   "id": "c2da31c1",
   "metadata": {},
   "outputs": [
    {
     "data": {
      "text/plain": [
       "<Axes: xlabel='coeff', ylabel='name'>"
      ]
     },
     "execution_count": 147,
     "metadata": {},
     "output_type": "execute_result"
    },
    {
     "data": {
      "image/png": "[encoded data removed]",
      "text/plain": [
       "<Figure size 1000x1200 with 1 Axes>"
      ]
     },
     "metadata": {},
     "output_type": "display_data"
    }
   ],
   "source": [
    "import seaborn as sns\n",
    "fi_df_sorted = fi_df.sort_values(by = \"coeff\", ascending = False)\n",
    "import matplotlib.pyplot as plt\n",
    "plt.figure(figsize = (10,12))\n",
    "sns.barplot(y = fi_df_sorted[\"name\"], x = fi_df_sorted[\"coeff\"])"
   ]
  },
  {
   "cell_type": "markdown",
   "id": "fe36bf42",
   "metadata": {},
   "source": [
    "### Lasso"
   ]
  },
  {
   "cell_type": "code",
   "execution_count": 1,
   "id": "5388e02f",
   "metadata": {},
   "outputs": [
    {
     "ename": "NameError",
     "evalue": "name 'X_train' is not defined",
     "output_type": "error",
     "traceback": [
      "\u001b[1;31m---------------------------------------------------------------------------\u001b[0m",
      "\u001b[1;31mNameError\u001b[0m                                 Traceback (most recent call last)",
      "Cell \u001b[1;32mIn[1], line 4\u001b[0m\n\u001b[0;32m      1\u001b[0m \u001b[38;5;28;01mfrom\u001b[39;00m \u001b[38;5;21;01msklearn\u001b[39;00m\u001b[38;5;21;01m.\u001b[39;00m\u001b[38;5;21;01mlinear_model\u001b[39;00m \u001b[38;5;28;01mimport\u001b[39;00m Lasso,Ridge,ElasticNet, LinearRegression\n\u001b[0;32m      2\u001b[0m model\u001b[38;5;241m=\u001b[39mLasso(alpha\u001b[38;5;241m=\u001b[39m\u001b[38;5;241m0\u001b[39m)\n\u001b[1;32m----> 4\u001b[0m model\u001b[38;5;241m.\u001b[39mfit(X_train, y_train)\n\u001b[0;32m      5\u001b[0m \u001b[38;5;28mprint\u001b[39m(\u001b[38;5;124mf\u001b[39m\u001b[38;5;124m\"\u001b[39m\u001b[38;5;132;01m{\u001b[39;00mmodel\u001b[38;5;241m.\u001b[39m\u001b[38;5;18m__class__\u001b[39m\u001b[38;5;241m.\u001b[39m\u001b[38;5;18m__name__\u001b[39m\u001b[38;5;132;01m}\u001b[39;00m\u001b[38;5;124m: Train -> \u001b[39m\u001b[38;5;132;01m{\u001b[39;00mmodel\u001b[38;5;241m.\u001b[39mscore(X_train,\u001b[38;5;250m \u001b[39my_train)\u001b[38;5;132;01m}\u001b[39;00m\u001b[38;5;124m, Test -> \u001b[39m\u001b[38;5;132;01m{\u001b[39;00mmodel\u001b[38;5;241m.\u001b[39mscore(X_test,\u001b[38;5;250m \u001b[39my_test)\u001b[38;5;132;01m}\u001b[39;00m\u001b[38;5;124m\"\u001b[39m)\n",
      "\u001b[1;31mNameError\u001b[0m: name 'X_train' is not defined"
     ]
    }
   ],
   "source": [
    "from sklearn.linear_model import Lasso,Ridge,ElasticNet, LinearRegression\n",
    "model=Lasso(alpha=0)\n",
    "\n",
    "model.fit(X_train, y_train)\n",
    "print(f\"{model.__class__.__name__}: Train -> {model.score(X_train, y_train)}, Test -> {model.score(X_test, y_test)}\")"
   ]
  },
  {
   "cell_type": "code",
   "execution_count": null,
   "id": "83edc51e",
   "metadata": {},
   "outputs": [],
   "source": []
  }
 ],
 "metadata": {
  "kernelspec": {
   "display_name": "Python 3 (ipykernel)",
   "language": "python",
   "name": "python3"
  },
  "language_info": {
   "codemirror_mode": {
    "name": "ipython",
    "version": 3
   },
   "file_extension": ".py",
   "mimetype": "text/x-python",
   "name": "python",
   "nbconvert_exporter": "python",
   "pygments_lexer": "ipython3",
   "version": "3.11.5"
  }
 },
 "nbformat": 4,
 "nbformat_minor": 5
}
