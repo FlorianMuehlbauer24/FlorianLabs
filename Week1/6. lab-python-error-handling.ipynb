{
 "cells": [
  {
   "cell_type": "markdown",
   "id": "25d7736c-ba17-4aff-b6bb-66eba20fbf4e",
   "metadata": {},
   "source": [
    "# Lab | Error Handling"
   ]
  },
  {
   "cell_type": "markdown",
   "id": "bc99b386-7508-47a0-bcdb-d969deaf6c8b",
   "metadata": {},
   "source": [
    "## Exercise: Error Handling for Managing Customer Orders\n",
    "\n",
    "The implementation of your code for managing customer orders assumes that the user will always enter a valid input. \n",
    "\n",
    "For example, we could modify the `initialize_inventory` function to include error handling.\n",
    "   - If the user enters an invalid quantity (e.g., a negative value or a non-numeric value), display an error message and ask them to re-enter the quantity for that product.\n",
    "   - Use a try-except block to handle the error and continue prompting the user until a valid quantity is entered.\n",
    "\n",
    "```python\n",
    "# Step 1: Define the function for initializing the inventory with error handling\n",
    "def initialize_inventory(products):\n",
    "    inventory = {}\n",
    "    for product in products:\n",
    "        valid_quantity = False\n",
    "        while not valid_quantity:\n",
    "            try:\n",
    "                quantity = int(input(f\"Enter the quantity of {product}s available: \"))\n",
    "                if quantity < 0:\n",
    "                    raise ValueError(\"Invalid quantity! Please enter a non-negative value.\")\n",
    "                valid_quantity = True\n",
    "            except ValueError as error:\n",
    "                print(f\"Error: {error}\")\n",
    "        inventory[product] = quantity\n",
    "    return inventory\n",
    "\n",
    "# Or, in another way:\n",
    "\n",
    "def initialize_inventory(products):\n",
    "    inventory = {}\n",
    "    for product in products:\n",
    "        valid_input = False\n",
    "        while not valid_input:\n",
    "            try:\n",
    "                quantity = int(input(f\"Enter the quantity of {product}s available: \"))\n",
    "                if quantity >= 0:\n",
    "                    inventory[product] = quantity\n",
    "                    valid_input = True\n",
    "                else:\n",
    "                    print(\"Quantity cannot be negative. Please enter a valid quantity.\")\n",
    "            except ValueError:\n",
    "                print(\"Invalid input. Please enter a valid quantity.\")\n",
    "    return inventory\n",
    "```\n",
    "\n",
    "Let's enhance your code by implementing error handling to handle invalid inputs.\n",
    "\n",
    "Follow the steps below to complete the exercise:\n",
    "\n",
    "2. Modify the `calculate_total_price` function to include error handling.\n",
    "   - If the user enters an invalid price (e.g., a negative value or a non-numeric value), display an error message and ask them to re-enter the price for that product.\n",
    "   - Use a try-except block to handle the error and continue prompting the user until a valid price is entered.\n",
    "\n",
    "3. Modify the `get_customer_orders` function to include error handling.\n",
    "   - If the user enters an invalid number of orders (e.g., a negative value or a non-numeric value), display an error message and ask them to re-enter the number of orders.\n",
    "   - If the user enters an invalid product name (e.g., a product name that is not in the inventory), or that doesn't have stock available, display an error message and ask them to re-enter the product name. *Hint: you will need to pass inventory as a parameter*\n",
    "   - Use a try-except block to handle the error and continue prompting the user until a valid product name is entered.\n",
    "\n",
    "4. Test your code by running the program and deliberately entering invalid quantities and product names. Make sure the error handling mechanism works as expected.\n"
   ]
  },
  {
   "cell_type": "code",
   "execution_count": 5,
   "id": "8edebfe4",
   "metadata": {},
   "outputs": [],
   "source": [
    "import statistics as stats\n"
   ]
  },
  {
   "cell_type": "code",
   "execution_count": 11,
   "id": "e84bfa2d",
   "metadata": {},
   "outputs": [
    {
     "ename": "SyntaxError",
     "evalue": "incomplete input (3414694572.py, line 10)",
     "output_type": "error",
     "traceback": [
      "\u001b[1;36m  Cell \u001b[1;32mIn[11], line 10\u001b[1;36m\u001b[0m\n\u001b[1;33m    \u001b[0m\n\u001b[1;37m    ^\u001b[0m\n\u001b[1;31mSyntaxError\u001b[0m\u001b[1;31m:\u001b[0m incomplete input\n"
     ]
    }
   ],
   "source": [
    "#1 new start\n",
    "#Original:\n",
    "def calculate_total_price(customer_orders):\n",
    "    total_price = sum(int(input(f\"Enter the price for {product}: \")) for product, quantity in customer_orders)\n",
    "    return total_price\n",
    "\n",
    "\n",
    "            \n",
    "        "
   ]
  },
  {
   "cell_type": "code",
   "execution_count": 30,
   "id": "f3940f6d",
   "metadata": {},
   "outputs": [
    {
     "ename": "TypeError",
     "evalue": "cannot unpack non-iterable int object",
     "output_type": "error",
     "traceback": [
      "\u001b[1;31m---------------------------------------------------------------------------\u001b[0m",
      "\u001b[1;31mTypeError\u001b[0m                                 Traceback (most recent call last)",
      "Cell \u001b[1;32mIn[30], line 14\u001b[0m\n\u001b[0;32m     11\u001b[0m             (\u001b[38;5;28mint\u001b[39m(\u001b[38;5;28minput\u001b[39m)) \u001b[38;5;241m<\u001b[39m \u001b[38;5;241m0\u001b[39m\n\u001b[0;32m     12\u001b[0m         \u001b[38;5;28mprint\u001b[39m(\u001b[38;5;124m\"\u001b[39m\u001b[38;5;124mIncorrect input, please input a positive number\u001b[39m\u001b[38;5;124m\"\u001b[39m)\n\u001b[1;32m---> 14\u001b[0m calculate_total_price(customer_orders)\n",
      "Cell \u001b[1;32mIn[30], line 5\u001b[0m, in \u001b[0;36mcalculate_total_price\u001b[1;34m(customer_orders)\u001b[0m\n\u001b[0;32m      4\u001b[0m \u001b[38;5;28;01mdef\u001b[39;00m \u001b[38;5;21mcalculate_total_price\u001b[39m(customer_orders):\n\u001b[1;32m----> 5\u001b[0m     \u001b[38;5;28;01mfor\u001b[39;00m product, quantity \u001b[38;5;129;01min\u001b[39;00m customer_orders:\n\u001b[0;32m      6\u001b[0m         \u001b[38;5;28;01mtry\u001b[39;00m: \n\u001b[0;32m      7\u001b[0m             total_price \u001b[38;5;241m=\u001b[39m \u001b[38;5;28msum\u001b[39m(\u001b[38;5;28mint\u001b[39m(\u001b[38;5;28minput\u001b[39m(\u001b[38;5;124mf\u001b[39m\u001b[38;5;124m\"\u001b[39m\u001b[38;5;124mEnter the price for \u001b[39m\u001b[38;5;132;01m{\u001b[39;00mproduct\u001b[38;5;132;01m}\u001b[39;00m\u001b[38;5;124m: \u001b[39m\u001b[38;5;124m\"\u001b[39m)))\n",
      "\u001b[1;31mTypeError\u001b[0m: cannot unpack non-iterable int object"
     ]
    }
   ],
   "source": [
    "\n",
    "# 1 New\n",
    "def calculate_total_price(customer_orders):\n",
    "    for product, quantity in customer_orders:\n",
    "        try: \n",
    "            total_price = sum(int(input(f\"Enter the price for {product}: \")))\n",
    "        except TypeError:\n",
    "            print(\"Error: Input is not a number\")   \n",
    "        except:\n",
    "            sum(int(input(f\"Enter the price for {product}: \"))) < 0\n",
    "            print(\"Incorrect input, please input a positive number\")\n",
    "        finally: \n",
    "        print(\"Operation complete.\")\n",
    "        \n",
    "        \n",
    "calculate_total_price(customer_orders)\n",
    "            "
   ]
  },
  {
   "cell_type": "code",
   "execution_count": null,
   "id": "0af24da6",
   "metadata": {},
   "outputs": [],
   "source": [
    "#2 \n",
    "\n",
    "#Original\n",
    "products = [\"t-shirt\", \"mug\", \"hat\", \"book\", \"keychain\"]\n",
    "\n",
    "def get_customer_orders(products):\n",
    "    customer_orders = set()  \n",
    "    for product in products: \n",
    "        user_selection_quantity = int(input(f\"Enter desired quantity of {product}: \"))\n",
    "        customer_orders.add((product, user_selection_quantity))\n",
    "    return customer_orders\n",
    "\n",
    "\"\"\"If the user enters an invalid number of orders (e.g., a negative value or a non-numeric value), display an error message and ask them to re-enter the number of orders.\n",
    "If the user enters an invalid product name (e.g., a product name that is not in the inventory), or that doesn't have stock available, display an error message and ask them to re-enter the product name. Hint: you will need to pass inventory as a parameter\n",
    "Use a try-except block to handle the error and continue prompting the user until a valid product name is entered.\"\"\""
   ]
  },
  {
   "cell_type": "code",
   "execution_count": null,
   "id": "78879c36",
   "metadata": {},
   "outputs": [],
   "source": [
    "#2 New\n",
    "\n",
    "def get_customer_orders(products):\n",
    "    customer_orders = set()     \n",
    "    for product in products:\n",
    "        while True:\n",
    "            try:\n",
    "                selected_quantity = int(input(f\"Enter quantity of {product}: \"))\n",
    "                if selected_quantity < 0:\n",
    "                    raise ValueError(\"Quantity cannot be negative.\")\n",
    "                if product not in inventory or inventory[product] == 0:\n",
    "                    raise ValueError(f\"Invalid product: Please enter a valid product that is in stock\")\n",
    "                customer_orders.add((product, selected_quantity))\n",
    "                break  # exit the loop if input is valid\n",
    "            except ValueError as e:\n",
    "                print(f\"Error: {e}\")\n",
    "                print(\"Please enter a valid input.\")"
   ]
  },
  {
   "cell_type": "code",
   "execution_count": null,
   "id": "281ae422",
   "metadata": {},
   "outputs": [],
   "source": []
  }
 ],
 "metadata": {
  "kernelspec": {
   "display_name": "Python 3 (ipykernel)",
   "language": "python",
   "name": "python3"
  },
  "language_info": {
   "codemirror_mode": {
    "name": "ipython",
    "version": 3
   },
   "file_extension": ".py",
   "mimetype": "text/x-python",
   "name": "python",
   "nbconvert_exporter": "python",
   "pygments_lexer": "ipython3",
   "version": "3.11.5"
  }
 },
 "nbformat": 4,
 "nbformat_minor": 5
}
