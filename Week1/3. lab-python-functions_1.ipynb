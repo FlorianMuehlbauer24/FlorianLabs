{
 "cells": [
  {
   "cell_type": "markdown",
   "id": "25d7736c-ba17-4aff-b6bb-66eba20fbf4e",
   "metadata": {},
   "source": [
    "# Lab | Functions"
   ]
  },
  {
   "cell_type": "markdown",
   "id": "0c581062-8967-4d93-b06e-62833222f930",
   "metadata": {
    "tags": []
   },
   "source": [
    "## Exercise: Managing Customer Orders with Functions\n",
    "\n",
    "In the previous exercise, you improved the code for managing customer orders by using loops and flow control. Now, let's take it a step further and refactor the code by introducing functions.\n",
    "\n",
    "Follow the steps below to complete the exercise:\n",
    "\n",
    "1. Define a function named `initialize_inventory` that takes `products` as a parameter. Inside the function, implement the code for initializing the inventory dictionary using a loop and user input.\n",
    "\n",
    "2. Define a function named `get_customer_orders` that takes no parameters. Inside the function, implement the code for prompting the user to enter the product names using a loop. The function should return the `customer_orders` set.\n",
    "\n",
    "3. Define a function named `update_inventory` that takes `customer_orders` and `inventory` as parameters. Inside the function, implement the code for updating the inventory dictionary based on the customer orders.\n",
    "\n",
    "4. Define a function named `calculate_order_statistics` that takes `customer_orders` and `products` as parameters. Inside the function, implement the code for calculating the order statistics (total products ordered, and percentage of unique products ordered). The function should return these values.\n",
    "\n",
    "5. Define a function named `print_order_statistics` that takes `order_statistics` as a parameter. Inside the function, implement the code for printing the order statistics.\n",
    "\n",
    "6. Define a function named `print_updated_inventory` that takes `inventory` as a parameter. Inside the function, implement the code for printing the updated inventory.\n",
    "\n",
    "7. Call the functions in the appropriate sequence to execute the program and manage customer orders.\n",
    "\n",
    "Hints for functions:\n",
    "\n",
    "- Consider the input parameters required for each function and their return values.\n",
    "- Utilize function parameters and return values to transfer data between functions.\n",
    "- Test your functions individually to ensure they work correctly.\n",
    "\n",
    "\n"
   ]
  },
  {
   "cell_type": "code",
   "execution_count": 2,
   "id": "497ec366",
   "metadata": {},
   "outputs": [],
   "source": [
    "#1\n",
    "\n",
    "products = [\"t-shirt\", \"mug\", \"hat\", \"book\", \"keychain\"]\n",
    "inventory = {}\n",
    "\n",
    "def initialize_inventory (products):\n",
    "    for product in products:\n",
    "        quantity = int(input(f\"Enter the quantity of {product}s available: \"))\n",
    "        inventory[product] = quantity\n",
    "    return inventory"
   ]
  },
  {
   "cell_type": "code",
   "execution_count": 18,
   "id": "b477a1a0",
   "metadata": {},
   "outputs": [
    {
     "ename": "NameError",
     "evalue": "name 'customer_orders' is not defined",
     "output_type": "error",
     "traceback": [
      "\u001b[1;31m---------------------------------------------------------------------------\u001b[0m",
      "\u001b[1;31mNameError\u001b[0m                                 Traceback (most recent call last)",
      "Cell \u001b[1;32mIn[18], line 14\u001b[0m\n\u001b[0;32m     12\u001b[0m                 useranswer_anotherproduct \u001b[38;5;241m=\u001b[39m \u001b[38;5;28minput\u001b[39m(\u001b[38;5;124m\"\u001b[39m\u001b[38;5;124mDo you want to add another item? Yes or No?\u001b[39m\u001b[38;5;124m\"\u001b[39m)\n\u001b[0;32m     13\u001b[0m         \u001b[38;5;28;01mreturn\u001b[39;00m customer_orders\n\u001b[1;32m---> 14\u001b[0m \u001b[38;5;28mprint\u001b[39m (customer_orders)\n",
      "\u001b[1;31mNameError\u001b[0m: name 'customer_orders' is not defined"
     ]
    }
   ],
   "source": [
    "#2 \n",
    "\n",
    "def get_customer_orders(products):\n",
    "        customer_orders = set()\n",
    "        order = input(\"Enter the name of the product you want to order: \")\n",
    "        if order in products:\n",
    "                customer_orders.add(order)\n",
    "                useranswer_anotherproduct = input(\"Do you want to add another item? Yes or No?\")\n",
    "                while useranswer_anotherproduct != \"No\":\n",
    "                    input(\"Enter the name of another product you want to order: \")\n",
    "                    customer_orders.add(order)\n",
    "                useranswer_anotherproduct = input(\"Do you want to add another item? Yes or No?\")\n",
    "        return customer_orders\n",
    "print (customer_orders)"
   ]
  },
  {
   "cell_type": "code",
   "execution_count": 45,
   "id": "6adbd54c",
   "metadata": {},
   "outputs": [],
   "source": [
    "#3 def update_inventory(customer_orders, inventory):\n",
    "    for order in customer_orders:\n",
    "        if order in inventory:\n",
    "            inventory[order] -= 1\n",
    "    return inventory "
   ]
  },
  {
   "cell_type": "code",
   "execution_count": 3,
   "id": "35ff472a",
   "metadata": {},
   "outputs": [],
   "source": [
    "#4 \n",
    "def calculate_order_statistics (customer_orders, products):\n",
    "    total_products_ordered = len(customer_orders)\n",
    "    percentage_ordered = (total_products_ordered / len(products)) * 100\n",
    "    return total_products_ordered, percentage_ordered\n"
   ]
  },
  {
   "cell_type": "code",
   "execution_count": 9,
   "id": "7387baab",
   "metadata": {},
   "outputs": [],
   "source": [
    "#5 \n",
    "def print_order_statistics (order_statistics):\n",
    "    print (total_products_ordered, percentage_ordered)\n"
   ]
  },
  {
   "cell_type": "code",
   "execution_count": 21,
   "id": "526483c1",
   "metadata": {},
   "outputs": [],
   "source": [
    "#6 \n",
    "def print_updated_inventory (inventory):\n",
    "    for order in customer_orders:\n",
    "            if order in inventory:\n",
    "                inventory[order] -= 1\n",
    "    print (inventory)\n",
    "    "
   ]
  },
  {
   "cell_type": "code",
   "execution_count": 22,
   "id": "ccac963d",
   "metadata": {},
   "outputs": [
    {
     "name": "stdout",
     "output_type": "stream",
     "text": [
      "Enter the quantity of t-shirts available: 4\n",
      "Enter the quantity of mugs available: 5\n",
      "Enter the quantity of hats available: 3\n",
      "Enter the quantity of books available: 2\n",
      "Enter the quantity of keychains available: 3\n"
     ]
    }
   ],
   "source": [
    "initialize_inventory (products)"
   ]
  },
  {
   "cell_type": "code",
   "execution_count": null,
   "id": "9bed9b6c",
   "metadata": {},
   "outputs": [],
   "source": [
    "get_customer_orders()"
   ]
  },
  {
   "cell_type": "code",
   "execution_count": null,
   "id": "afdfaf8e",
   "metadata": {},
   "outputs": [],
   "source": [
    "update_inventory (customer_orders, inventory)"
   ]
  },
  {
   "cell_type": "code",
   "execution_count": null,
   "id": "29d66973",
   "metadata": {},
   "outputs": [],
   "source": [
    "calculate_order_statistics (customer_orders, products)"
   ]
  },
  {
   "cell_type": "code",
   "execution_count": 10,
   "id": "6498b283",
   "metadata": {},
   "outputs": [
    {
     "ename": "NameError",
     "evalue": "name 'order_statistics' is not defined",
     "output_type": "error",
     "traceback": [
      "\u001b[1;31m---------------------------------------------------------------------------\u001b[0m",
      "\u001b[1;31mNameError\u001b[0m                                 Traceback (most recent call last)",
      "Cell \u001b[1;32mIn[10], line 1\u001b[0m\n\u001b[1;32m----> 1\u001b[0m print_order_statistics(order_statistics)\n",
      "\u001b[1;31mNameError\u001b[0m: name 'order_statistics' is not defined"
     ]
    }
   ],
   "source": [
    "print_order_statistics(order_statistics)"
   ]
  },
  {
   "cell_type": "code",
   "execution_count": 11,
   "id": "9597a633",
   "metadata": {},
   "outputs": [
    {
     "ename": "NameError",
     "evalue": "name 'print_updated_inventory' is not defined",
     "output_type": "error",
     "traceback": [
      "\u001b[1;31m---------------------------------------------------------------------------\u001b[0m",
      "\u001b[1;31mNameError\u001b[0m                                 Traceback (most recent call last)",
      "Cell \u001b[1;32mIn[11], line 1\u001b[0m\n\u001b[1;32m----> 1\u001b[0m print_updated_inventory(order_statistics)\n",
      "\u001b[1;31mNameError\u001b[0m: name 'print_updated_inventory' is not defined"
     ]
    }
   ],
   "source": [
    "print_updated_inventory(order_statistics)"
   ]
  },
  {
   "cell_type": "code",
   "execution_count": null,
   "id": "f3752c26",
   "metadata": {},
   "outputs": [],
   "source": []
  }
 ],
 "metadata": {
  "kernelspec": {
   "display_name": "Python 3 (ipykernel)",
   "language": "python",
   "name": "python3"
  },
  "language_info": {
   "codemirror_mode": {
    "name": "ipython",
    "version": 3
   },
   "file_extension": ".py",
   "mimetype": "text/x-python",
   "name": "python",
   "nbconvert_exporter": "python",
   "pygments_lexer": "ipython3",
   "version": "3.11.5"
  }
 },
 "nbformat": 4,
 "nbformat_minor": 5
}
