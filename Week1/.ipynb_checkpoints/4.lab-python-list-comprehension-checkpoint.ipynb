{
 "cells": [
  {
   "cell_type": "markdown",
   "id": "25d7736c-ba17-4aff-b6bb-66eba20fbf4e",
   "metadata": {},
   "source": [
    "# Lab | List, Dict and Set Comprehension"
   ]
  },
  {
   "cell_type": "code",
   "execution_count": null,
   "id": "46f8c513",
   "metadata": {},
   "outputs": [],
   "source": []
  },
  {
   "cell_type": "markdown",
   "id": "7dd3cbde-675a-4b81-92c3-f728846dbe06",
   "metadata": {},
   "source": [
    "## Exercise: Managing Customer Orders Optimized with Comprehension"
   ]
  },
  {
   "cell_type": "markdown",
   "id": "5d500160-2fb7-4777-b5e4-09d45ebaf328",
   "metadata": {},
   "source": [
    "In the previous exercise, you developed a program to manage customer orders and inventory. Now, let's take it a step further and incorporate comprehension into your code.\n",
    "\n",
    "Follow the steps below to complete the exercise:\n",
    "\n",
    "1. Review your code from the previous exercise and identify areas where you can apply comprehension to simplify and streamline your code. \n",
    "\n",
    "    - *Hint: Apply it to initialize inventory, updating the inventory and printing the updated inventory.*\n",
    "    \n",
    "    - For example, in initializing the inventory, we could have:\n",
    "    \n",
    "        ```python\n",
    "        def initialize_inventory(products):\n",
    "            inventory = {product: int(input(f\"Enter the quantity of {product}s available: \")) for product in products}\n",
    "            return inventory\n",
    "\n",
    "        ```\n",
    "<br>\n",
    "    \n",
    "    \n",
    "2. Modify the function get_customer_orders so it prompts the user to enter the number of customer orders and gathers the product names using a loop and user input. Use comprehension.\n",
    "\n",
    "3. Add a new function to calculate the total price of the customer order. For each product in customer_orders, prompt the user to enter the price of that product. Use comprehension to calculate the total price. Note: assume that the user can only have 1 unit of each product.\n",
    "\n",
    "4. Modify the update_inventory function to remove the product from the inventory if its quantity becomes zero after fulfilling the customer orders. Use comprehension to filter out the products with a quantity of zero from the inventory.\n",
    "\n",
    "5. Print the total price of the customer order.\n",
    "\n",
    "Your code should produce output similar to the following:\n",
    "\n",
    "```python\n",
    "Enter the quantity of t-shirts available:  5\n",
    "Enter the quantity of mugs available:  4\n",
    "Enter the quantity of hats available:  3\n",
    "Enter the quantity of books available:  2\n",
    "Enter the quantity of keychains available:  1\n",
    "Enter the number of customer orders:  2\n",
    "Enter the name of a product that a customer wants to order:  hat\n",
    "Enter the name of a product that a customer wants to order:  keychain\n",
    "\n",
    "Order Statistics:\n",
    "Total Products Ordered: 2\n",
    "Percentage of Unique Products Ordered: 40.0\n",
    "\n",
    "Updated Inventory:\n",
    "t-shirt: 5\n",
    "mug: 4\n",
    "hat: 2\n",
    "book: 2\n",
    "Enter the price of keychain:  5\n",
    "Enter the price of hat:  10\n",
    "Total Price: 15.0\n",
    "\n",
    "```\n"
   ]
  },
  {
   "cell_type": "code",
   "execution_count": null,
   "id": "180486f0",
   "metadata": {},
   "outputs": [],
   "source": [
    "#1 \n",
    "\n",
    "\n"
   ]
  },
  {
   "cell_type": "code",
   "execution_count": null,
   "id": "1e1c8692",
   "metadata": {},
   "outputs": [],
   "source": [
    "#1 Standard Function\n",
    "\n",
    "products = [\"t-shirt\", \"mug\", \"hat\", \"book\", \"keychain\"]\n",
    "inventory = {}\n",
    "\n",
    "def initialize_inventory (products):\n",
    "    for product in products:\n",
    "        quantity = int(input(f\"Enter the quantity of {product}s available: \"))\n",
    "        inventory[product] = quantity\n",
    "    return inventory"
   ]
  },
  {
   "cell_type": "code",
   "execution_count": null,
   "id": "408132bd",
   "metadata": {},
   "outputs": [],
   "source": [
    "#1 comprehension\n",
    "\n",
    "def initialize_inventory(products):\n",
    "    inventory = {product: int(input(f\"Enter the quantity of {product}s available: \")) for product in products}\n",
    "    return inventory"
   ]
  },
  {
   "cell_type": "code",
   "execution_count": null,
   "id": "e1cc45f1",
   "metadata": {},
   "outputs": [],
   "source": [
    "#2 \n",
    "\n",
    "#Copy of last lab:\n",
    "\n",
    "def get_customer_orders():\n",
    "        customer_orders = set()\n",
    "        order = input(\"Enter the name of the product you want to order: \")\n",
    "        if order in products:\n",
    "                customer_orders.add(order)\n",
    "                useranswer_anotherproduct = input(\"Do you want to add another item? Yes or No?\")\n",
    "                while useranswer_anotherproduct != \"No\":\n",
    "                    input(\"Enter the name of another product you want to order: \")\n",
    "                    customer_orders.add(order)\n",
    "                useranswer_anotherproduct = input(\"Do you want to add another item? Yes or No?\")\n",
    "        return customer_orders\n",
    "customer_orders = get_customer_orders()\n",
    "\n",
    "\n",
    "\n"
   ]
  },
  {
   "cell_type": "code",
   "execution_count": null,
   "id": "e3e3af90",
   "metadata": {},
   "outputs": [],
   "source": [
    "#2 comprehension\n",
    "\n",
    "products = [\"t-shirt\", \"mug\", \"hat\", \"book\", \"keychain\"]\n",
    "def get_customer_orders():\n",
    "        customer_orders = {(input(\"Choose number of products:\"))for product in products}\n",
    "\n",
    "customer orders = get_customer_orders()\n",
    "print(customer orders)"
   ]
  },
  {
   "cell_type": "code",
   "execution_count": null,
   "id": "e1cf31b0",
   "metadata": {},
   "outputs": [],
   "source": [
    "#3\n",
    "\n",
    "def update_inventory(customer_orders, inventory):\n",
    "    for order in customer_orders:\n",
    "        if order in inventory:\n",
    "            inventory[order] -= 1\n",
    "    return inventory\n",
    "\n",
    "\n",
    "\n"
   ]
  },
  {
   "cell_type": "code",
   "execution_count": null,
   "id": "9274205f",
   "metadata": {},
   "outputs": [],
   "source": [
    "#3 Comprehension\n",
    "\n",
    "def update_inventory(customer_orders, inventory):\n",
    "    inventory[order] -= 1 for order in customer_orders if order in inventory\n",
    "    return inventory"
   ]
  },
  {
   "cell_type": "code",
   "execution_count": null,
   "id": "d3805808",
   "metadata": {},
   "outputs": [],
   "source": [
    "{key:value*2 for (key,value) in dict_numbers.items()}"
   ]
  },
  {
   "cell_type": "code",
   "execution_count": null,
   "id": "489b4338",
   "metadata": {},
   "outputs": [],
   "source": [
    "\n",
    "\n",
    "def calc_total_price (customer_orders)\n",
    "    try: prices = [int[input[\"f*Enter the price]]]"
   ]
  }
 ],
 "metadata": {
  "kernelspec": {
   "display_name": "Python 3 (ipykernel)",
   "language": "python",
   "name": "python3"
  },
  "language_info": {
   "codemirror_mode": {
    "name": "ipython",
    "version": 3
   },
   "file_extension": ".py",
   "mimetype": "text/x-python",
   "name": "python",
   "nbconvert_exporter": "python",
   "pygments_lexer": "ipython3",
   "version": "3.11.5"
  }
 },
 "nbformat": 4,
 "nbformat_minor": 5
}
