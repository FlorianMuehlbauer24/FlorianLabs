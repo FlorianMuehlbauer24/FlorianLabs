{
 "cells": [
  {
   "cell_type": "markdown",
   "id": "25d7736c-ba17-4aff-b6bb-66eba20fbf4e",
   "metadata": {},
   "source": [
    "# Lab | Functions"
   ]
  },
  {
   "cell_type": "markdown",
   "id": "0c581062-8967-4d93-b06e-62833222f930",
   "metadata": {
    "tags": []
   },
   "source": [
    "## Exercise: Managing Customer Orders with Functions\n",
    "\n",
    "In the previous exercise, you improved the code for managing customer orders by using loops and flow control. Now, let's take it a step further and refactor the code by introducing functions.\n",
    "\n",
    "Follow the steps below to complete the exercise:\n",
    "\n",
    "1. Define a function named `initialize_inventory` that takes `products` as a parameter. Inside the function, implement the code for initializing the inventory dictionary using a loop and user input.\n",
    "\n",
    "2. Define a function named `get_customer_orders` that takes no parameters. Inside the function, implement the code for prompting the user to enter the product names using a loop. The function should return the `customer_orders` set.\n",
    "\n",
    "3. Define a function named `update_inventory` that takes `customer_orders` and `inventory` as parameters. Inside the function, implement the code for updating the inventory dictionary based on the customer orders.\n",
    "\n",
    "4. Define a function named `calculate_order_statistics` that takes `customer_orders` and `products` as parameters. Inside the function, implement the code for calculating the order statistics (total products ordered, and percentage of unique products ordered). The function should return these values.\n",
    "\n",
    "5. Define a function named `print_order_statistics` that takes `order_statistics` as a parameter. Inside the function, implement the code for printing the order statistics.\n",
    "\n",
    "6. Define a function named `print_updated_inventory` that takes `inventory` as a parameter. Inside the function, implement the code for printing the updated inventory.\n",
    "\n",
    "7. Call the functions in the appropriate sequence to execute the program and manage customer orders.\n",
    "\n",
    "Hints for functions:\n",
    "\n",
    "- Consider the input parameters required for each function and their return values.\n",
    "- Utilize function parameters and return values to transfer data between functions.\n",
    "- Test your functions individually to ensure they work correctly.\n",
    "\n",
    "\n"
   ]
  },
  {
   "cell_type": "code",
   "execution_count": 42,
   "id": "497ec366",
   "metadata": {},
   "outputs": [],
   "source": [
    "#1\n",
    "\n",
    "products = [\"t-shirt\", \"mug\", \"hat\", \"book\", \"keychain\"]\n",
    "inventory = {}\n",
    "\n",
    "def initialize_inventory(products):\n",
    "    for product in products:\n",
    "        quantity = int(input(f\"Enter the quantity of {product}s available: \"))\n",
    "        inventory[product] = quantity\n",
    "    return inventory"
   ]
  },
  {
   "cell_type": "code",
   "execution_count": 54,
   "id": "ff5ae364",
   "metadata": {},
   "outputs": [
    {
     "name": "stdout",
     "output_type": "stream",
     "text": [
      "Enter the name of the product you want to order: 5\n"
     ]
    }
   ],
   "source": [
    "#2 \n",
    "def get_customer_orders():\n",
    "        customer_orders = set()\n",
    "        order = input(\"Enter the name of the product you want to order: \")\n",
    "        if order in products:\n",
    "                customer_orders.add(order)\n",
    "                useranswer_anotherproduct = input(\"Do you want to add another item? Yes or No?\")\n",
    "                while useranswer_anotherproduct != \"No\":\n",
    "                    input(\"Enter the name of another product you want to order: \")\n",
    "                    customer_orders.add(order)\n",
    "                useranswer_anotherproduct = input(\"Do you want to add another item? Yes or No?\")\n",
    "        return customer_orders\n",
    "customer_orders = get_customer_orders()"
   ]
  },
  {
   "cell_type": "code",
   "execution_count": 27,
   "id": "6adbd54c",
   "metadata": {},
   "outputs": [],
   "source": [
    "#3 \n",
    "def update_inventory(customer_orders, inventory):\n",
    "    for order in customer_orders:\n",
    "        if order in inventory:\n",
    "            inventory[order] -= 1\n",
    "    return inventory"
   ]
  },
  {
   "cell_type": "code",
   "execution_count": 28,
   "id": "35ff472a",
   "metadata": {},
   "outputs": [],
   "source": [
    "#4 \n",
    "def calculate_order_statistics(customer_orders, products):\n",
    "    total_products_ordered = len(customer_orders)\n",
    "    percentage_ordered = (total_products_ordered / len(products)) * 100\n",
    "    return total_products_ordered, percentage_ordered\n"
   ]
  },
  {
   "cell_type": "code",
   "execution_count": 52,
   "id": "7387baab",
   "metadata": {},
   "outputs": [],
   "source": [
    "#5 \n",
    "def print_order_statistics(order_statistics):\n",
    "    print (total_products_ordered, percentage_ordered)\n",
    "\n",
    "order_statistics = print_order_statistics\n",
    "\n"
   ]
  },
  {
   "cell_type": "code",
   "execution_count": 34,
   "id": "526483c1",
   "metadata": {},
   "outputs": [],
   "source": [
    "#6 \n",
    "def print_updated_inventory(inventory):\n",
    "    for order in customer_orders:\n",
    "            if order in inventory:\n",
    "                inventory[order] -= 1\n",
    "    print (inventory)\n",
    "    "
   ]
  },
  {
   "cell_type": "code",
   "execution_count": 43,
   "id": "ccac963d",
   "metadata": {
    "scrolled": true
   },
   "outputs": [
    {
     "name": "stdout",
     "output_type": "stream",
     "text": [
      "Enter the quantity of t-shirts available: 8\n",
      "Enter the quantity of mugs available: 9\n",
      "Enter the quantity of hats available: 8\n",
      "Enter the quantity of books available: 7\n",
      "Enter the quantity of keychains available: 9\n"
     ]
    }
   ],
   "source": [
    "#7 \n",
    "\n",
    "inventory = initialize_inventory(products)\n"
   ]
  },
  {
   "cell_type": "code",
   "execution_count": 37,
   "id": "66981d36",
   "metadata": {},
   "outputs": [
    {
     "ename": "NameError",
     "evalue": "name 'initialize_inventory' is not defined",
     "output_type": "error",
     "traceback": [
      "\u001b[1;31m---------------------------------------------------------------------------\u001b[0m",
      "\u001b[1;31mNameError\u001b[0m                                 Traceback (most recent call last)",
      "Cell \u001b[1;32mIn[37], line 1\u001b[0m\n\u001b[1;32m----> 1\u001b[0m initialize_inventory(products)\n",
      "\u001b[1;31mNameError\u001b[0m: name 'initialize_inventory' is not defined"
     ]
    }
   ],
   "source": []
  },
  {
   "cell_type": "code",
   "execution_count": 44,
   "id": "9bed9b6c",
   "metadata": {},
   "outputs": [
    {
     "name": "stdout",
     "output_type": "stream",
     "text": [
      "Enter the name of the product you want to order: mug\n",
      "Do you want to add another item? Yes or No?No\n",
      "Do you want to add another item? Yes or No?No\n"
     ]
    },
    {
     "data": {
      "text/plain": [
       "{'mug'}"
      ]
     },
     "execution_count": 44,
     "metadata": {},
     "output_type": "execute_result"
    }
   ],
   "source": [
    "get_customer_orders()"
   ]
  },
  {
   "cell_type": "code",
   "execution_count": 45,
   "id": "afdfaf8e",
   "metadata": {},
   "outputs": [
    {
     "data": {
      "text/plain": [
       "{'t-shirt': 8, 'mug': 9, 'hat': 8, 'book': 7, 'keychain': 9}"
      ]
     },
     "execution_count": 45,
     "metadata": {},
     "output_type": "execute_result"
    }
   ],
   "source": [
    "update_inventory (customer_orders, inventory)"
   ]
  },
  {
   "cell_type": "code",
   "execution_count": 46,
   "id": "29d66973",
   "metadata": {},
   "outputs": [
    {
     "data": {
      "text/plain": [
       "(0, 0.0)"
      ]
     },
     "execution_count": 46,
     "metadata": {},
     "output_type": "execute_result"
    }
   ],
   "source": [
    "calculate_order_statistics (customer_orders, products)"
   ]
  },
  {
   "cell_type": "code",
   "execution_count": 55,
   "id": "6498b283",
   "metadata": {},
   "outputs": [
    {
     "ename": "NameError",
     "evalue": "name 'percentage_ordered' is not defined",
     "output_type": "error",
     "traceback": [
      "\u001b[1;31m---------------------------------------------------------------------------\u001b[0m",
      "\u001b[1;31mNameError\u001b[0m                                 Traceback (most recent call last)",
      "Cell \u001b[1;32mIn[55], line 1\u001b[0m\n\u001b[1;32m----> 1\u001b[0m print_order_statistics(order_statistics)\n",
      "Cell \u001b[1;32mIn[52], line 3\u001b[0m, in \u001b[0;36mprint_order_statistics\u001b[1;34m(order_statistics)\u001b[0m\n\u001b[0;32m      2\u001b[0m \u001b[38;5;28;01mdef\u001b[39;00m \u001b[38;5;21mprint_order_statistics\u001b[39m(order_statistics):\n\u001b[1;32m----> 3\u001b[0m     \u001b[38;5;28mprint\u001b[39m (total_products_ordered, percentage_ordered)\n",
      "\u001b[1;31mNameError\u001b[0m: name 'percentage_ordered' is not defined"
     ]
    }
   ],
   "source": []
  },
  {
   "cell_type": "code",
   "execution_count": null,
   "id": "edf7cd72",
   "metadata": {},
   "outputs": [],
   "source": [
    "print_order_statistics(order_statistics)"
   ]
  },
  {
   "cell_type": "code",
   "execution_count": 56,
   "id": "9597a633",
   "metadata": {},
   "outputs": [
    {
     "name": "stdout",
     "output_type": "stream",
     "text": [
      "<function print_order_statistics at 0x00000298AFDC3560>\n"
     ]
    }
   ],
   "source": [
    "print_updated_inventory(order_statistics)"
   ]
  },
  {
   "cell_type": "code",
   "execution_count": null,
   "id": "a3793dbc",
   "metadata": {},
   "outputs": [],
   "source": []
  }
 ],
 "metadata": {
  "kernelspec": {
   "display_name": "Python 3 (ipykernel)",
   "language": "python",
   "name": "python3"
  },
  "language_info": {
   "codemirror_mode": {
    "name": "ipython",
    "version": 3
   },
   "file_extension": ".py",
   "mimetype": "text/x-python",
   "name": "python",
   "nbconvert_exporter": "python",
   "pygments_lexer": "ipython3",
   "version": "3.11.5"
  }
 },
 "nbformat": 4,
 "nbformat_minor": 5
}
