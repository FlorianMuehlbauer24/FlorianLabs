{
 "cells": [
  {
   "cell_type": "markdown",
   "id": "25d7736c-ba17-4aff-b6bb-66eba20fbf4e",
   "metadata": {
    "id": "25d7736c-ba17-4aff-b6bb-66eba20fbf4e"
   },
   "source": [
    "# Lab | Data Structuring and Combining Data"
   ]
  },
  {
   "cell_type": "markdown",
   "id": "a2cdfc70-44c8-478c-81e7-2bc43fdf4986",
   "metadata": {
    "id": "a2cdfc70-44c8-478c-81e7-2bc43fdf4986"
   },
   "source": [
    "## Challenge 1: Combining & Cleaning Data\n",
    "\n",
    "In this challenge, we will be working with the customer data from an insurance company, as we did in the two previous labs. The data can be found here:\n",
    "- https://raw.githubusercontent.com/data-bootcamp-v4/data/main/file1.csv\n",
    "\n",
    "But this time, we got new data, which can be found in the following 2 CSV files located at the links below.\n",
    "\n",
    "- https://raw.githubusercontent.com/data-bootcamp-v4/data/main/file2.csv\n",
    "- https://raw.githubusercontent.com/data-bootcamp-v4/data/main/file3.csv\n",
    "\n",
    "Note that you'll need to clean and format the new data.\n",
    "\n",
    "Observation:\n",
    "- One option is to first combine the three datasets and then apply the cleaning function to the new combined dataset\n",
    "- Another option would be to read the clean file you saved in the previous lab, and just clean the two new files and concatenate the three clean datasets"
   ]
  },
  {
   "cell_type": "code",
   "execution_count": 2,
   "id": "492d06e3-92c7-4105-ac72-536db98d3244",
   "metadata": {
    "id": "492d06e3-92c7-4105-ac72-536db98d3244"
   },
   "outputs": [],
   "source": [
    "#Import data\n",
    "import pandas as pd\n",
    "url1 = \"https://raw.githubusercontent.com/data-bootcamp-v4/data/main/file1.csv\"\n",
    "df_customers1 = pd.read_csv(url1)\n",
    "url2 = \"https://raw.githubusercontent.com/data-bootcamp-v4/data/main/file2.csv\"\n",
    "df_customers2 = pd.read_csv(url2)   \n",
    "url3 = \"https://raw.githubusercontent.com/data-bootcamp-v4/data/main/file3.csv\"\n",
    "df_customers3 = pd.read_csv(url3)   "
   ]
  },
  {
   "cell_type": "code",
   "execution_count": null,
   "id": "7966b259",
   "metadata": {},
   "outputs": [],
   "source": [
    "# Spalten Namen sollten vorab angepasst werden, damit sie den gleichen Namen haben.  "
   ]
  },
  {
   "cell_type": "code",
   "execution_count": 26,
   "id": "5beffa0b",
   "metadata": {},
   "outputs": [],
   "source": [
    "# Combine data sets\n",
    "df_combined = pd.concat([df_customers1, df_customers2, df_customers3], axis=0, ignore_index=True)"
   ]
  },
  {
   "cell_type": "code",
   "execution_count": 33,
   "id": "a0ff1a90",
   "metadata": {},
   "outputs": [
    {
     "data": {
      "text/plain": [
       "Index(['Customer', 'ST', 'Education', 'Customer Lifetime Value', 'Income',\n",
       "       'Monthly Premium Auto', 'Number of Open Complaints', 'Policy Type',\n",
       "       'Vehicle Class', 'Total Claim Amount', 'Customer', 'ST', 'Education',\n",
       "       'Customer Lifetime Value', 'Income', 'Monthly Premium Auto',\n",
       "       'Number of Open Complaints', 'Total Claim Amount', 'Policy Type',\n",
       "       'Vehicle Class', 'Customer', 'State', 'Customer Lifetime Value',\n",
       "       'Education', 'Gender', 'Income', 'Monthly Premium Auto',\n",
       "       'Number of Open Complaints', 'Policy Type', 'Total Claim Amount',\n",
       "       'Vehicle Class'],\n",
       "      dtype='object')"
      ]
     },
     "execution_count": 33,
     "metadata": {},
     "output_type": "execute_result"
    }
   ],
   "source": [
    "# Check column names\n",
    "df_combined.columns"
   ]
  },
  {
   "cell_type": "code",
   "execution_count": 34,
   "id": "7ae2bade",
   "metadata": {},
   "outputs": [
    {
     "data": {
      "text/plain": [
       "<bound method Index.unique of Index(['Customer', 'ST', 'Education', 'Customer Lifetime Value', 'Income',\n",
       "       'Monthly Premium Auto', 'Number of Open Complaints', 'Policy Type',\n",
       "       'Vehicle Class', 'Total Claim Amount', 'Customer', 'ST', 'Education',\n",
       "       'Customer Lifetime Value', 'Income', 'Monthly Premium Auto',\n",
       "       'Number of Open Complaints', 'Total Claim Amount', 'Policy Type',\n",
       "       'Vehicle Class', 'Customer', 'State', 'Customer Lifetime Value',\n",
       "       'Education', 'Gender', 'Income', 'Monthly Premium Auto',\n",
       "       'Number of Open Complaints', 'Policy Type', 'Total Claim Amount',\n",
       "       'Vehicle Class'],\n",
       "      dtype='object')>"
      ]
     },
     "execution_count": 34,
     "metadata": {},
     "output_type": "execute_result"
    }
   ],
   "source": [
    "df_combined.columns.unique"
   ]
  },
  {
   "cell_type": "code",
   "execution_count": 30,
   "id": "f78ed971",
   "metadata": {},
   "outputs": [],
   "source": [
    "# Remove column \"GENDER\"\n",
    "df_combined = df_combined.drop(columns=['GENDER'])\n"
   ]
  },
  {
   "cell_type": "code",
   "execution_count": 31,
   "id": "b1798051",
   "metadata": {},
   "outputs": [
    {
     "name": "stdout",
     "output_type": "stream",
     "text": [
      "     Customer          ST             Education Customer Lifetime Value  \\\n",
      "0     RB50392  Washington                Master                     NaN   \n",
      "1     QZ44356     Arizona              Bachelor              697953.59%   \n",
      "2     AI49188      Nevada              Bachelor             1288743.17%   \n",
      "3     WW63253  California              Bachelor              764586.18%   \n",
      "4     GA49547  Washington  High School or Below              536307.65%   \n",
      "...       ...         ...                   ...                     ...   \n",
      "7065      NaN         NaN                   NaN                     NaN   \n",
      "7066      NaN         NaN                   NaN                     NaN   \n",
      "7067      NaN         NaN                   NaN                     NaN   \n",
      "7068      NaN         NaN                   NaN                     NaN   \n",
      "7069      NaN         NaN                   NaN                     NaN   \n",
      "\n",
      "       Income  Monthly Premium Auto Number of Open Complaints     Policy Type  \\\n",
      "0         0.0                1000.0                    1/0/00   Personal Auto   \n",
      "1         0.0                  94.0                    1/0/00   Personal Auto   \n",
      "2     48767.0                 108.0                    1/0/00   Personal Auto   \n",
      "3         0.0                 106.0                    1/0/00  Corporate Auto   \n",
      "4     36357.0                  68.0                    1/0/00   Personal Auto   \n",
      "...       ...                   ...                       ...             ...   \n",
      "7065      NaN                   NaN                       NaN             NaN   \n",
      "7066      NaN                   NaN                       NaN             NaN   \n",
      "7067      NaN                   NaN                       NaN             NaN   \n",
      "7068      NaN                   NaN                       NaN             NaN   \n",
      "7069      NaN                   NaN                       NaN             NaN   \n",
      "\n",
      "      Vehicle Class Total Claim Amount  ...       State  \\\n",
      "0     Four-Door Car           2.704934  ...  Washington   \n",
      "1     Four-Door Car        1131.464935  ...     Arizona   \n",
      "2      Two-Door Car         566.472247  ...      Nevada   \n",
      "3               SUV         529.881344  ...  California   \n",
      "4     Four-Door Car          17.269323  ...  California   \n",
      "...             ...                ...  ...         ...   \n",
      "7065            NaN                NaN  ...  California   \n",
      "7066            NaN                NaN  ...  California   \n",
      "7067            NaN                NaN  ...  California   \n",
      "7068            NaN                NaN  ...  California   \n",
      "7069            NaN                NaN  ...  California   \n",
      "\n",
      "     Customer Lifetime Value             Education Gender  Income  \\\n",
      "0                3479.137523  High School or Below      M       0   \n",
      "1                2502.637401                Master      M       0   \n",
      "2                3265.156348              Bachelor      F   25820   \n",
      "3                4455.843406  High School or Below      F       0   \n",
      "4                7704.958480  High School or Below      M   30366   \n",
      "...                      ...                   ...    ...     ...   \n",
      "7065            23405.987980              Bachelor      M   71941   \n",
      "7066             3096.511217               College      F   21604   \n",
      "7067             8163.890428              Bachelor      M       0   \n",
      "7068             7524.442436               College      M   21941   \n",
      "7069             2611.836866               College      M       0   \n",
      "\n",
      "      Monthly Premium Auto Number of Open Complaints     Policy Type  \\\n",
      "0                      104                         0   Personal Auto   \n",
      "1                       66                         0   Personal Auto   \n",
      "2                       82                         0   Personal Auto   \n",
      "3                      121                         0   Personal Auto   \n",
      "4                      101                         2   Personal Auto   \n",
      "...                    ...                       ...             ...   \n",
      "7065                    73                         0   Personal Auto   \n",
      "7066                    79                         0  Corporate Auto   \n",
      "7067                    85                         3  Corporate Auto   \n",
      "7068                    96                         0   Personal Auto   \n",
      "7069                    77                         0  Corporate Auto   \n",
      "\n",
      "     Total Claim Amount  Vehicle Class  \n",
      "0            499.200000   Two-Door Car  \n",
      "1              3.468912   Two-Door Car  \n",
      "2            393.600000  Four-Door Car  \n",
      "3            699.615192            SUV  \n",
      "4            484.800000            SUV  \n",
      "...                 ...            ...  \n",
      "7065         198.234764  Four-Door Car  \n",
      "7066         379.200000  Four-Door Car  \n",
      "7067         790.784983  Four-Door Car  \n",
      "7068         691.200000  Four-Door Car  \n",
      "7069         369.600000   Two-Door Car  \n",
      "\n",
      "[7070 rows x 31 columns]\n"
     ]
    }
   ],
   "source": [
    "print (df_combined)"
   ]
  },
  {
   "cell_type": "markdown",
   "id": "31b8a9e7-7db9-4604-991b-ef6771603e57",
   "metadata": {
    "id": "31b8a9e7-7db9-4604-991b-ef6771603e57"
   },
   "source": [
    "# Challenge 2: Structuring Data"
   ]
  },
  {
   "cell_type": "markdown",
   "id": "a877fd6d-7a0c-46d2-9657-f25036e4ca4b",
   "metadata": {
    "id": "a877fd6d-7a0c-46d2-9657-f25036e4ca4b"
   },
   "source": [
    "In this challenge, we will continue to work with customer data from an insurance company, but we will use a dataset with more columns, called marketing_customer_analysis.csv, which can be found at the following link:\n",
    "\n",
    "https://raw.githubusercontent.com/data-bootcamp-v4/data/main/marketing_customer_analysis_clean.csv\n",
    "\n",
    "This dataset contains information such as customer demographics, policy details, vehicle information, and the customer's response to the last marketing campaign. Our goal is to explore and analyze this data by performing data cleaning, formatting, and structuring."
   ]
  },
  {
   "cell_type": "code",
   "execution_count": 3,
   "id": "aa10d9b0-1c27-4d3f-a8e4-db6ab73bfd26",
   "metadata": {
    "id": "aa10d9b0-1c27-4d3f-a8e4-db6ab73bfd26"
   },
   "outputs": [],
   "source": [
    "# Import data\n",
    "url_marketing = \"https://raw.githubusercontent.com/data-bootcamp-v4/data/main/marketing_customer_analysis_clean.csv\"\n",
    "df_marketing = pd.read_csv(url_marketing)"
   ]
  },
  {
   "cell_type": "code",
   "execution_count": 36,
   "id": "158eefb9",
   "metadata": {},
   "outputs": [
    {
     "data": {
      "text/plain": [
       "Index(['unnamed:_0', 'customer', 'state', 'customer_lifetime_value',\n",
       "       'response', 'coverage', 'education', 'effective_to_date',\n",
       "       'employmentstatus', 'gender', 'income', 'location_code',\n",
       "       'marital_status', 'monthly_premium_auto', 'months_since_last_claim',\n",
       "       'months_since_policy_inception', 'number_of_open_complaints',\n",
       "       'number_of_policies', 'policy_type', 'policy', 'renew_offer_type',\n",
       "       'sales_channel', 'total_claim_amount', 'vehicle_class', 'vehicle_size',\n",
       "       'vehicle_type', 'month'],\n",
       "      dtype='object')"
      ]
     },
     "execution_count": 36,
     "metadata": {},
     "output_type": "execute_result"
    }
   ],
   "source": [
    "df_marketing.columns"
   ]
  },
  {
   "cell_type": "code",
   "execution_count": 4,
   "id": "1f52b8f0",
   "metadata": {},
   "outputs": [
    {
     "data": {
      "text/plain": [
       "sales_channel\n",
       "Agent          386335\n",
       "Branch         280953\n",
       "Call Center    197970\n",
       "Web            151511\n",
       "Name: monthly_premium_auto, dtype: int64"
      ]
     },
     "execution_count": 4,
     "metadata": {},
     "output_type": "execute_result"
    }
   ],
   "source": [
    "# which sales channel brought the most sales in terms of total revenue\n",
    "summary_table = pd.pivot_table(df_marketing, values='monthly_premium_auto', index='sales_channel', aggfunc='sum')\n",
    "summary_table\n",
    "summary_table['monthly_premium_auto'].round(2)"
   ]
  },
  {
   "cell_type": "code",
   "execution_count": 44,
   "id": "d7e06448",
   "metadata": {},
   "outputs": [
    {
     "data": {
      "text/html": [
       "<div>\n",
       "<style scoped>\n",
       "    .dataframe tbody tr th:only-of-type {\n",
       "        vertical-align: middle;\n",
       "    }\n",
       "\n",
       "    .dataframe tbody tr th {\n",
       "        vertical-align: top;\n",
       "    }\n",
       "\n",
       "    .dataframe thead th {\n",
       "        text-align: right;\n",
       "    }\n",
       "</style>\n",
       "<table border=\"1\" class=\"dataframe\">\n",
       "  <thead>\n",
       "    <tr style=\"text-align: right;\">\n",
       "      <th></th>\n",
       "      <th></th>\n",
       "      <th>customer_lifetime_value</th>\n",
       "    </tr>\n",
       "    <tr>\n",
       "      <th>education</th>\n",
       "      <th>gender</th>\n",
       "      <th></th>\n",
       "    </tr>\n",
       "  </thead>\n",
       "  <tbody>\n",
       "    <tr>\n",
       "      <th rowspan=\"2\" valign=\"top\">Bachelor</th>\n",
       "      <th>F</th>\n",
       "      <td>1.338626e+07</td>\n",
       "    </tr>\n",
       "    <tr>\n",
       "      <th>M</th>\n",
       "      <td>1.211006e+07</td>\n",
       "    </tr>\n",
       "    <tr>\n",
       "      <th rowspan=\"2\" valign=\"top\">College</th>\n",
       "      <th>F</th>\n",
       "      <td>1.246011e+07</td>\n",
       "    </tr>\n",
       "    <tr>\n",
       "      <th>M</th>\n",
       "      <td>1.285173e+07</td>\n",
       "    </tr>\n",
       "    <tr>\n",
       "      <th rowspan=\"2\" valign=\"top\">Doctor</th>\n",
       "      <th>F</th>\n",
       "      <td>1.465702e+06</td>\n",
       "    </tr>\n",
       "    <tr>\n",
       "      <th>M</th>\n",
       "      <td>1.490482e+06</td>\n",
       "    </tr>\n",
       "    <tr>\n",
       "      <th rowspan=\"2\" valign=\"top\">High School or Below</th>\n",
       "      <th>F</th>\n",
       "      <td>1.379360e+07</td>\n",
       "    </tr>\n",
       "    <tr>\n",
       "      <th>M</th>\n",
       "      <td>1.268091e+07</td>\n",
       "    </tr>\n",
       "    <tr>\n",
       "      <th rowspan=\"2\" valign=\"top\">Master</th>\n",
       "      <th>F</th>\n",
       "      <td>3.874600e+06</td>\n",
       "    </tr>\n",
       "    <tr>\n",
       "      <th>M</th>\n",
       "      <td>3.365559e+06</td>\n",
       "    </tr>\n",
       "  </tbody>\n",
       "</table>\n",
       "</div>"
      ],
      "text/plain": [
       "                             customer_lifetime_value\n",
       "education            gender                         \n",
       "Bachelor             F                  1.338626e+07\n",
       "                     M                  1.211006e+07\n",
       "College              F                  1.246011e+07\n",
       "                     M                  1.285173e+07\n",
       "Doctor               F                  1.465702e+06\n",
       "                     M                  1.490482e+06\n",
       "High School or Below F                  1.379360e+07\n",
       "                     M                  1.268091e+07\n",
       "Master               F                  3.874600e+06\n",
       "                     M                  3.365559e+06"
      ]
     },
     "execution_count": 44,
     "metadata": {},
     "output_type": "execute_result"
    }
   ],
   "source": [
    "# Create a pivot table that shows the average customer lifetime value per gender and education level. Analyze the resulting table to draw insights.\n",
    "summary_table = pd.pivot_table(df_marketing, values='customer_lifetime_value', index=['education', 'gender'], aggfunc='sum')\n",
    "summary_table"
   ]
  },
  {
   "cell_type": "markdown",
   "id": "df35fd0d-513e-4e77-867e-429da10a9cc7",
   "metadata": {
    "id": "df35fd0d-513e-4e77-867e-429da10a9cc7"
   },
   "source": [
    "1. You work at the marketing department and you want to know which sales channel brought the most sales in terms of total revenue. Using pivot, create a summary table showing the total revenue for each sales channel (branch, call center, web, and mail).\n",
    "Round the total revenue to 2 decimal points.  Analyze the resulting table to draw insights."
   ]
  },
  {
   "cell_type": "markdown",
   "id": "640993b2-a291-436c-a34d-a551144f8196",
   "metadata": {
    "id": "640993b2-a291-436c-a34d-a551144f8196"
   },
   "source": [
    "2. Create a pivot table that shows the average customer lifetime value per gender and education level. Analyze the resulting table to draw insights."
   ]
  },
  {
   "cell_type": "markdown",
   "id": "32c7f2e5-3d90-43e5-be33-9781b6069198",
   "metadata": {
    "id": "32c7f2e5-3d90-43e5-be33-9781b6069198"
   },
   "source": [
    "## Bonus\n",
    "\n",
    "You work at the customer service department and you want to know which months had the highest number of complaints by policy type category. Create a summary table showing the number of complaints by policy type and month.\n",
    "Show it in a long format table."
   ]
  },
  {
   "cell_type": "markdown",
   "id": "e3d09a8f-953c-448a-a5f8-2e5a8cca7291",
   "metadata": {
    "id": "e3d09a8f-953c-448a-a5f8-2e5a8cca7291"
   },
   "source": [
    "*In data analysis, a long format table is a way of structuring data in which each observation or measurement is stored in a separate row of the table. The key characteristic of a long format table is that each column represents a single variable, and each row represents a single observation of that variable.*\n",
    "\n",
    "*More information about long and wide format tables here: https://www.statology.org/long-vs-wide-data/*"
   ]
  },
  {
   "cell_type": "code",
   "execution_count": null,
   "id": "3a069e0b-b400-470e-904d-d17582191be4",
   "metadata": {
    "id": "3a069e0b-b400-470e-904d-d17582191be4"
   },
   "outputs": [],
   "source": [
    "summary_table"
   ]
  },
  {
   "cell_type": "code",
   "execution_count": null,
   "id": "5d0e2bc7",
   "metadata": {},
   "outputs": [],
   "source": []
  }
 ],
 "metadata": {
  "colab": {
   "provenance": []
  },
  "kernelspec": {
   "display_name": "Python 3 (ipykernel)",
   "language": "python",
   "name": "python3"
  },
  "language_info": {
   "codemirror_mode": {
    "name": "ipython",
    "version": 3
   },
   "file_extension": ".py",
   "mimetype": "text/x-python",
   "name": "python",
   "nbconvert_exporter": "python",
   "pygments_lexer": "ipython3",
   "version": "3.11.5"
  }
 },
 "nbformat": 4,
 "nbformat_minor": 5
}
